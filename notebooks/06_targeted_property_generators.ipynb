{
 "cells": [
  {
   "cell_type": "code",
   "execution_count": 15,
   "metadata": {},
   "outputs": [],
   "source": [
    "import matplotlib.pylab as plt\n",
    "import numpy as np\n",
    "import seaborn as sns; sns.set()\n",
    "%matplotlib inline\n",
    "from os.path import join\n",
    "from IPython.display import clear_output, display\n",
    "\n",
    "import keras\n",
    "from keras import objectives\n",
    "from keras.callbacks import EarlyStopping\n",
    "from keras.models import Sequential, Model\n",
    "from keras.layers import Dense, Dropout, Input, Multiply, Add\n",
    "from keras.optimizers import Adam, Nadam\n",
    "from keras.models import load_model\n",
    "\n",
    "from numpy import array\n",
    "from numpy import argmax\n",
    "from sklearn.preprocessing import LabelEncoder\n",
    "from sklearn.preprocessing import OneHotEncoder\n",
    "import numpy as np\n",
    "from sklearn.model_selection import train_test_split\n",
    "from sklearn.decomposition import PCA\n",
    "from random import shuffle\n",
    "import pandas as pd\n",
    "import random\n",
    "\n",
    "#Keras build\n",
    "from keras import backend as K\n",
    "from keras.objectives import binary_crossentropy #objs or losses\n",
    "from keras.models import Model\n",
    "from keras.layers import Input, Dense, Lambda, Layer\n",
    "from keras.layers.core import Dense, Activation, Flatten, RepeatVector\n",
    "from keras.layers.wrappers import TimeDistributed\n",
    "from keras.layers.recurrent import GRU\n",
    "from keras.layers.convolutional import Convolution1D\n",
    "\n",
    "#chem\n",
    "from rdkit import Chem\n",
    "from rdkit.Chem import AllChem as Chem\n",
    "from rdkit.Chem.Fingerprints import FingerprintMols\n",
    "from rdkit import DataStructs\n",
    "from rdkit.Chem import Draw\n",
    "from rdkit.Chem import MACCSkeys\n",
    "import salty\n",
    "import gains as genetic\n",
    "\n",
    "#cation data\n",
    "cations = pd.read_csv('../data/cations.csv')\n",
    "cations = cations['smiles_string']\n",
    "salts = pd.read_csv('../data/salts.csv')\n",
    "salts = salts['smiles_string']\n",
    "categories = pd.read_csv('../data/categories.csv')\n",
    "categories = categories['category']\n",
    "coldic = pd.read_csv('../data/coldic.csv')\n",
    "coldic = coldic.to_dict(orient='records')[0]\n",
    "salt_coldic = pd.read_csv('../data/salt_coldic.csv')\n",
    "salt_coldic = salt_coldic.to_dict(orient='records')[0]\n",
    "salt_categories = pd.read_csv('../data/salt_categories.csv')\n",
    "salt_categories = salt_categories['category']\n",
    "density_coldic = pd.read_csv('../data/density_coldic.csv')\n",
    "density_coldic = density_coldic.to_dict(orient='records')[0]\n",
    "density_categories = pd.read_csv('../data/density_categories.csv')\n",
    "density_categories = density_categories['category']\n",
    "\n",
    "#supporting functions\n",
    "import sys\n",
    "sys.path.insert(0, '../')\n",
    "from scripts import *\n",
    "\n",
    "#training array info\n",
    "smile_max_length = 105\n",
    "import json\n",
    "f = open(\"../data/salt_char_to_index.json\",\"r\")\n",
    "ani_char_to_index = json.loads(f.read())\n",
    "ani_char_set = set(ani_char_to_index.keys())\n",
    "ani_char_list = list(ani_char_to_index.keys())\n",
    "ani_chars_in_dict = len(ani_char_list)\n",
    "ani_index_to_char = dict((i, c) for i, c in enumerate(ani_char_list))\n",
    "\n",
    "#training array info\n",
    "import json\n",
    "f = open(\"../data/gdb_char_to_index.json\",\"r\")\n",
    "cat_char_to_index = json.loads(f.read())\n",
    "cat_char_set = set(cat_char_to_index.keys())\n",
    "cat_char_list = list(cat_char_to_index.keys())\n",
    "cat_chars_in_dict = len(cat_char_list)\n",
    "cat_index_to_char = dict((i, c) for i, c in enumerate(cat_char_list))\n",
    "\n",
    "char_to_index = ani_char_to_index\n",
    "char_set = ani_char_set\n",
    "char_list = ani_char_list\n",
    "chars_in_dict = ani_chars_in_dict\n",
    "index_to_char = ani_index_to_char\n",
    "        \n",
    "gen3vae = TwoMoleculeVAE()\n",
    "gen3vae.create(char_set, char_set, qspr=True, weights_file='../models/gen3_2mol_1mil_GDB17_mix_pure_5.h5')"
   ]
  },
  {
   "cell_type": "markdown",
   "metadata": {},
   "source": [
    "# Search by Property\n",
    "The general setup-\n",
    "1. generate N structures of target Cp and p values from the VAE and GA (and maybe a VAE w/o QSPR --- use a separate QSPR --- this would be to show that the organization of the latent space is actually helping…)\n",
    "2. calculate ground-truth values using QM/MD\n",
    "3. compare the % of the found structures that were close to the target for each method.\n",
    "\n",
    "So the table is:\n",
    "\n",
    "- **properties**: p, Cp\n",
    "- **models**: VAE, VAE+QSPR, EA\n",
    "- **number of**: total function calls, returned structures rdkit-sanitizable, returned gaussian structures, returned MD systems, % error of prediction\n",
    "\n",
    "The basic setup is here. we will want to, however, throw out structures where the Cp/p was far from our top 10 structure seeds (high Cp, low p)\n",
    "\n",
    "We seed all methods with the top 10 structures from our dataset. "
   ]
  },
  {
   "cell_type": "markdown",
   "metadata": {},
   "source": [
    "# No QSPR"
   ]
  },
  {
   "cell_type": "code",
   "execution_count": 16,
   "metadata": {},
   "outputs": [],
   "source": [
    "hits = 1"
   ]
  },
  {
   "cell_type": "code",
   "execution_count": 17,
   "metadata": {},
   "outputs": [],
   "source": [
    "gen3vae = TwoMoleculeVAE()\n",
    "gen3vae.create(char_set, char_set, qspr=True, weights_file='../models/gen3_2mol_1mil_GDB17_mix_pure_5.h5')"
   ]
  },
  {
   "cell_type": "code",
   "execution_count": 18,
   "metadata": {},
   "outputs": [
    {
     "name": "stdout",
     "output_type": "stream",
     "text": [
      "Heat capacity at constant pressure, J/K/mol\n",
      "total salts in training data:\t1739\n",
      "unique salts:\t15\n",
      "unique cations:\t10\n",
      "min/max values:\t918.0000, 9000.0000\n",
      "\n",
      "salts sorted in descending order and the minimum value of the top 10 unique cations was returned\n"
     ]
    }
   ],
   "source": [
    "model_ID = ['cpt']\n",
    "salts, cations, target = return_top_cations(model_ID, return_min_values=True)"
   ]
  },
  {
   "cell_type": "code",
   "execution_count": 19,
   "metadata": {},
   "outputs": [
    {
     "name": "stdout",
     "output_type": "stream",
     "text": [
      "ani seed         CCCCC(CC)COC(=O)CC(C(=O)OCC(CC)CCCC)S(=O)(=O)[O-]\n",
      "attempts                                                       324\n",
      "candidate                                C=CC[N+](CCCC)(CCCC)CCCCC\n",
      "cat seed                                  CCCC[N+](CCCC)(CCCC)CCCC\n",
      "rdkit qspr                                                 1141.31\n",
      "rdkit-md qspr                                                969.2\n",
      "salt             C=CC[N+](CCCC)(CCCC)CCCCC.CCCCC(CC)COC(=O)CC(C...\n",
      "temperature                                                 1.9401\n",
      "vae qspr                                                  0.990878\n",
      "Name: 0, dtype: object\n",
      "1/1 found\n"
     ]
    }
   ],
   "source": [
    "df_cpt_no_qspr = generate_solvent_vae(gen3vae, \n",
    "                                      char_to_index,\n",
    "                                      smile_max_length=62,\n",
    "                                      salts=salts,\n",
    "                                      model_ID=model_ID, \n",
    "                                      target=target, \n",
    "                                      qspr=True, \n",
    "                                      find=hits, \n",
    "                                      optimalCutOff=target, \n",
    "                                      greaterThanCutOff=True,\n",
    "                                      md_model=['cpt_4'],\n",
    "                                      verbose=1)"
   ]
  },
  {
   "cell_type": "code",
   "execution_count": 20,
   "metadata": {},
   "outputs": [
    {
     "name": "stdout",
     "output_type": "stream",
     "text": [
      "Thermal conductivity, W/m/K\n",
      "total salts in training data:\t148\n",
      "unique salts:\t23\n",
      "unique cations:\t10\n",
      "min/max values:\t0.1667, 0.2380\n",
      "\n",
      "salts sorted in descending order and the minimum value of the top 10 unique cations was returned\n"
     ]
    }
   ],
   "source": [
    "model_ID = ['thermal_conductivity']\n",
    "salts, cations, target = return_top_cations(model_ID, return_min_values=True)"
   ]
  },
  {
   "cell_type": "code",
   "execution_count": 21,
   "metadata": {},
   "outputs": [
    {
     "name": "stdout",
     "output_type": "stream",
     "text": [
      "ani seed                           CCOP(=O)([O-])OCC\n",
      "attempts                                          68\n",
      "candidate                        C[n+]1ccn(CCCC#N)c1\n",
      "cat seed                         CCCCCCn1cc[n+](c1)C\n",
      "rdkit qspr                                      0.17\n",
      "salt           C[n+]1ccn(CCCC#N)c1.CCOP(=O)([O-])OCC\n",
      "temperature                                  1.45093\n",
      "vae qspr                                     1.17376\n",
      "Name: 0, dtype: object\n",
      "1/1 found\n"
     ]
    }
   ],
   "source": [
    "df_thermal_no_qspr = generate_solvent_vae(gen3vae, \n",
    "                                      char_to_index,\n",
    "                                      smile_max_length=62,\n",
    "                                      salts=salts,\n",
    "                                      model_ID=model_ID, \n",
    "                                      target=target, \n",
    "                                      qspr=True, \n",
    "                                      find=hits, \n",
    "                                      optimalCutOff=target, \n",
    "                                      greaterThanCutOff=True,\n",
    "                                      md_model=None,\n",
    "                                      verbose=1)"
   ]
  },
  {
   "cell_type": "code",
   "execution_count": 22,
   "metadata": {},
   "outputs": [
    {
     "name": "stdout",
     "output_type": "stream",
     "text": [
      "Viscosity, Pa&#8226;s\n",
      "total salts in training data:\t3277\n",
      "unique salts:\t18\n",
      "unique cations:\t10\n",
      "min/max values:\t0.0017, 0.0106\n",
      "\n",
      "salts sorted in ascending order and the maximum value of the top 10 unique cations was returned\n"
     ]
    }
   ],
   "source": [
    "model_ID = ['viscosity']\n",
    "salts, cations, target = return_top_cations(model_ID, return_min_values=False)"
   ]
  },
  {
   "cell_type": "code",
   "execution_count": 23,
   "metadata": {},
   "outputs": [
    {
     "name": "stdout",
     "output_type": "stream",
     "text": [
      "ani seed                    CC(=O)[O-]\n",
      "attempts                           695\n",
      "candidate                 OC1=[N+]CCC1\n",
      "cat seed               C[N+]1=C(CCC1)O\n",
      "rdkit qspr                           0\n",
      "salt           OC1=[N+]CCC1.CC(=O)[O-]\n",
      "temperature                    1.74085\n",
      "vae qspr                       1.08132\n",
      "Name: 0, dtype: object\n",
      "1/1 found\n"
     ]
    }
   ],
   "source": [
    "df_viscosity_no_qspr = generate_solvent_vae(gen3vae, \n",
    "                                      char_to_index,\n",
    "                                      smile_max_length=62,\n",
    "                                      salts=salts,\n",
    "                                      model_ID=model_ID, \n",
    "                                      target=target, \n",
    "                                      qspr=True, \n",
    "                                      find=hits, \n",
    "                                      optimalCutOff=target, \n",
    "                                      greaterThanCutOff=False,\n",
    "                                      md_model=None,\n",
    "                                      verbose=1)"
   ]
  },
  {
   "cell_type": "code",
   "execution_count": 24,
   "metadata": {},
   "outputs": [
    {
     "name": "stdout",
     "output_type": "stream",
     "text": [
      "Specific density, kg/m<SUP>3</SUP>\n",
      "total salts in training data:\t5631\n",
      "unique salts:\t17\n",
      "unique cations:\t10\n",
      "min/max values:\t871.3000, 962.7000\n",
      "\n",
      "salts sorted in ascending order and the maximum value of the top 10 unique cations was returned\n"
     ]
    }
   ],
   "source": [
    "model_ID = ['density']\n",
    "salts, cations, target = return_top_cations(model_ID, return_min_values=False)"
   ]
  },
  {
   "cell_type": "code",
   "execution_count": 25,
   "metadata": {},
   "outputs": [
    {
     "name": "stdout",
     "output_type": "stream",
     "text": [
      "ani seed                                                 [Cl-]\n",
      "attempts                                                    84\n",
      "candidate              CCCCCCCCCCCCC[P+](CCCCCC)(CCCCCC)CCCCCC\n",
      "cat seed            C(CCCCCCCC[P+](CCCCCC)(CCCCCC)CCCCCC)CCCCC\n",
      "rdkit qspr                                              885.91\n",
      "rdkit-md qspr                                           932.64\n",
      "salt             CCCCCCCCCCCCC[P+](CCCCCC)(CCCCCC)CCCCCC.[Cl-]\n",
      "temperature                                            1.20682\n",
      "vae qspr                                              0.953953\n",
      "Name: 0, dtype: object\n",
      "1/1 found\n"
     ]
    }
   ],
   "source": [
    "df_density_no_qspr = generate_solvent_vae(gen3vae, \n",
    "                                      char_to_index,\n",
    "                                      smile_max_length=62,\n",
    "                                      salts=salts,\n",
    "                                      model_ID=model_ID, \n",
    "                                      target=target, \n",
    "                                      qspr=True, \n",
    "                                      find=hits, \n",
    "                                      optimalCutOff=target, \n",
    "                                      greaterThanCutOff=False,\n",
    "                                      md_model=['density_4'],\n",
    "                                      verbose=1)"
   ]
  },
  {
   "cell_type": "markdown",
   "metadata": {},
   "source": [
    "# 10 Epoch"
   ]
  },
  {
   "cell_type": "code",
   "execution_count": 26,
   "metadata": {},
   "outputs": [],
   "source": [
    "gen3vae_viscosity = TwoMoleculeVAE()\n",
    "gen3vae_viscosity.create(char_set, char_set, qspr=True, weights_file='../models/gen3vae_viscosity_10.h5')\n",
    "gen3vae_thermal = TwoMoleculeVAE()\n",
    "gen3vae_thermal.create(char_set, char_set, qspr=True, weights_file='../models/gen3vae_thermal_conductivity_10.h5')\n",
    "gen3vae_cpt = TwoMoleculeVAE()\n",
    "gen3vae_cpt.create(char_set, char_set, qspr=True, weights_file='../models/gen3vae_cpt_10.h5')\n",
    "gen3vae_density = TwoMoleculeVAE()\n",
    "gen3vae_density.create(char_set, char_set, qspr=True, weights_file='../models/gen3vae_density_10.h5')"
   ]
  },
  {
   "cell_type": "code",
   "execution_count": 27,
   "metadata": {},
   "outputs": [
    {
     "name": "stdout",
     "output_type": "stream",
     "text": [
      "Heat capacity at constant pressure, J/K/mol\n",
      "total salts in training data:\t1739\n",
      "unique salts:\t15\n",
      "unique cations:\t10\n",
      "min/max values:\t918.0000, 9000.0000\n",
      "\n",
      "salts sorted in descending order and the minimum value of the top 10 unique cations was returned\n"
     ]
    }
   ],
   "source": [
    "model_ID = ['cpt']\n",
    "salts, cations, target = return_top_cations(model_ID, return_min_values=True)"
   ]
  },
  {
   "cell_type": "code",
   "execution_count": 28,
   "metadata": {},
   "outputs": [
    {
     "name": "stdout",
     "output_type": "stream",
     "text": [
      "ani seed         CCCCC(CC)COC(=O)CC(C(=O)OCC(CC)CCCC)S(=O)(=O)[O-]\n",
      "attempts                                                       314\n",
      "candidate                   CCCCCCCCCCCCC[P+](CCCCC)(CCCCCC)CCCCCC\n",
      "cat seed                C(CCCCCCCC[P+](CCCCCC)(CCCCCC)CCCCCC)CCCCC\n",
      "rdkit qspr                                                 1397.18\n",
      "rdkit-md qspr                                              1673.22\n",
      "salt             CCCCCCCCCCCCC[P+](CCCCC)(CCCCCC)CCCCCC.CCCCC(C...\n",
      "temperature                                                1.64889\n",
      "vae qspr                                                   668.473\n",
      "Name: 0, dtype: object\n",
      "1/1 found\n"
     ]
    }
   ],
   "source": [
    "df_cpt_10_qspr = generate_solvent_vae(gen3vae_cpt, \n",
    "                                      char_to_index,\n",
    "                                      smile_max_length=62,\n",
    "                                      salts=salts,\n",
    "                                      model_ID=model_ID, \n",
    "                                      target=target, \n",
    "                                      qspr=True, \n",
    "                                      find=hits, \n",
    "                                      optimalCutOff=target, \n",
    "                                      greaterThanCutOff=True,\n",
    "                                      md_model=['cpt_4'],\n",
    "                                      verbose=1)"
   ]
  },
  {
   "cell_type": "code",
   "execution_count": 29,
   "metadata": {},
   "outputs": [
    {
     "name": "stdout",
     "output_type": "stream",
     "text": [
      "Thermal conductivity, W/m/K\n",
      "total salts in training data:\t148\n",
      "unique salts:\t23\n",
      "unique cations:\t10\n",
      "min/max values:\t0.1667, 0.2380\n",
      "\n",
      "salts sorted in descending order and the minimum value of the top 10 unique cations was returned\n"
     ]
    }
   ],
   "source": [
    "model_ID = ['thermal_conductivity']\n",
    "salts, cations, target = return_top_cations(model_ID, return_min_values=True)"
   ]
  },
  {
   "cell_type": "code",
   "execution_count": 30,
   "metadata": {},
   "outputs": [
    {
     "name": "stdout",
     "output_type": "stream",
     "text": [
      "ani seed                       C(#N)[N-]C#N\n",
      "attempts                                301\n",
      "candidate                   CNn1cc[n+](C)c1\n",
      "cat seed                    CCn1cc[n+](c1)C\n",
      "rdkit qspr                             0.17\n",
      "salt           CNn1cc[n+](C)c1.C(#N)[N-]C#N\n",
      "temperature                         1.92014\n",
      "vae qspr                           0.219434\n",
      "Name: 0, dtype: object\n",
      "1/1 found\n"
     ]
    }
   ],
   "source": [
    "df_thermal_10_qspr = generate_solvent_vae(gen3vae_thermal, \n",
    "                                      char_to_index,\n",
    "                                      smile_max_length=62,\n",
    "                                      salts=salts,\n",
    "                                      model_ID=model_ID, \n",
    "                                      target=target, \n",
    "                                      qspr=True, \n",
    "                                      find=hits, \n",
    "                                      optimalCutOff=target, \n",
    "                                      greaterThanCutOff=True,\n",
    "                                      md_model=None,\n",
    "                                      verbose=1)"
   ]
  },
  {
   "cell_type": "code",
   "execution_count": 31,
   "metadata": {},
   "outputs": [
    {
     "name": "stdout",
     "output_type": "stream",
     "text": [
      "Viscosity, Pa&#8226;s\n",
      "total salts in training data:\t3277\n",
      "unique salts:\t18\n",
      "unique cations:\t10\n",
      "min/max values:\t0.0017, 0.0106\n",
      "\n",
      "salts sorted in ascending order and the maximum value of the top 10 unique cations was returned\n"
     ]
    }
   ],
   "source": [
    "model_ID = ['viscosity']\n",
    "salts, cations, target = return_top_cations(model_ID, return_min_values=False)"
   ]
  },
  {
   "cell_type": "code",
   "execution_count": 32,
   "metadata": {},
   "outputs": [
    {
     "name": "stdout",
     "output_type": "stream",
     "text": [
      "ani seed                       C(=C(C#N)C#N)=[N-]\n",
      "attempts                                      347\n",
      "candidate                         CC[NH+]1C=NCCC1\n",
      "cat seed                          CC[NH+]1C=CN=C1\n",
      "rdkit qspr                                   0.01\n",
      "salt           CC[NH+]1C=NCCC1.C(=C(C#N)C#N)=[N-]\n",
      "temperature                               1.78378\n",
      "vae qspr                                0.0110406\n",
      "Name: 0, dtype: object\n",
      "1/1 found\n"
     ]
    }
   ],
   "source": [
    "df_viscosity_10_qspr = generate_solvent_vae(gen3vae_viscosity, \n",
    "                                      char_to_index,\n",
    "                                      smile_max_length=62,\n",
    "                                      salts=salts,\n",
    "                                      model_ID=model_ID, \n",
    "                                      target=target, \n",
    "                                      qspr=True, \n",
    "                                      find=hits, \n",
    "                                      optimalCutOff=target, \n",
    "                                      greaterThanCutOff=False,\n",
    "                                      md_model=None,\n",
    "                                      verbose=1)"
   ]
  },
  {
   "cell_type": "code",
   "execution_count": 33,
   "metadata": {},
   "outputs": [
    {
     "name": "stdout",
     "output_type": "stream",
     "text": [
      "Specific density, kg/m<SUP>3</SUP>\n",
      "total salts in training data:\t5631\n",
      "unique salts:\t17\n",
      "unique cations:\t10\n",
      "min/max values:\t871.3000, 962.7000\n",
      "\n",
      "salts sorted in ascending order and the maximum value of the top 10 unique cations was returned\n"
     ]
    }
   ],
   "source": [
    "model_ID = ['density']\n",
    "salts, cations, target = return_top_cations(model_ID, return_min_values=False)"
   ]
  },
  {
   "cell_type": "code",
   "execution_count": 34,
   "metadata": {},
   "outputs": [
    {
     "name": "stdout",
     "output_type": "stream",
     "text": [
      "ani seed                                                CC(=O)[O-]\n",
      "attempts                                                        57\n",
      "candidate               CCCCCCCCCCCCC[P+](CCCCC)(CCCCCC)CCCCCCCCCC\n",
      "cat seed                C(CCCCCCCC[P+](CCCCCC)(CCCCCC)CCCCCC)CCCCC\n",
      "rdkit qspr                                                   846.2\n",
      "rdkit-md qspr                                               896.13\n",
      "salt             CCCCCCCCCCCCC[P+](CCCCC)(CCCCCC)CCCCCCCCCC.CC(...\n",
      "temperature                                                1.53536\n",
      "vae qspr                                                   980.286\n",
      "Name: 0, dtype: object\n",
      "1/1 found\n"
     ]
    }
   ],
   "source": [
    "df_density_10_qspr = generate_solvent_vae(gen3vae_density, \n",
    "                                      char_to_index,\n",
    "                                      smile_max_length=62,\n",
    "                                      salts=salts,\n",
    "                                      model_ID=model_ID, \n",
    "                                      target=target, \n",
    "                                      qspr=True, \n",
    "                                      find=hits, \n",
    "                                      optimalCutOff=target, \n",
    "                                      greaterThanCutOff=False,\n",
    "                                      md_model=['density_4'],\n",
    "                                      verbose=1)"
   ]
  },
  {
   "cell_type": "markdown",
   "metadata": {},
   "source": [
    "# 30 Epoch"
   ]
  },
  {
   "cell_type": "code",
   "execution_count": 35,
   "metadata": {},
   "outputs": [],
   "source": [
    "gen3vae_viscosity = TwoMoleculeVAE()\n",
    "gen3vae_viscosity.create(char_set, char_set, qspr=True, weights_file='../models/gen3vae_viscosity_30.h5')\n",
    "gen3vae_thermal = TwoMoleculeVAE()\n",
    "gen3vae_thermal.create(char_set, char_set, qspr=True, weights_file='../models/gen3vae_thermal_conductivity_30.h5')\n",
    "gen3vae_cpt = TwoMoleculeVAE()\n",
    "gen3vae_cpt.create(char_set, char_set, qspr=True, weights_file='../models/gen3vae_cpt_30.h5')\n",
    "gen3vae_density = TwoMoleculeVAE()\n",
    "gen3vae_density.create(char_set, char_set, qspr=True, weights_file='../models/gen3vae_density_30.h5')"
   ]
  },
  {
   "cell_type": "code",
   "execution_count": 36,
   "metadata": {},
   "outputs": [
    {
     "name": "stdout",
     "output_type": "stream",
     "text": [
      "Heat capacity at constant pressure, J/K/mol\n",
      "total salts in training data:\t1739\n",
      "unique salts:\t15\n",
      "unique cations:\t10\n",
      "min/max values:\t918.0000, 9000.0000\n",
      "\n",
      "salts sorted in descending order and the minimum value of the top 10 unique cations was returned\n"
     ]
    }
   ],
   "source": [
    "model_ID = ['cpt']\n",
    "salts, cations, target = return_top_cations(model_ID, return_min_values=True)"
   ]
  },
  {
   "cell_type": "code",
   "execution_count": 37,
   "metadata": {},
   "outputs": [
    {
     "name": "stdout",
     "output_type": "stream",
     "text": [
      "ani seed         CCCCC(CC)COC(=O)CC(C(=O)OCC(CC)CCCC)S(=O)(=O)[O-]\n",
      "attempts                                                        21\n",
      "candidate                  CCCCCCCCCCCCCCCCCC[P+](CCC)CCCCCCCCCCCC\n",
      "cat seed                C(CCCCCCCC[P+](CCCCCC)(CCCCCC)CCCCCC)CCCCC\n",
      "rdkit qspr                                                 1361.07\n",
      "rdkit-md qspr                                              1056.98\n",
      "salt             CCCCCCCCCCCCCCCCCC[P+](CCC)CCCCCCCCCCCC.CCCCC(...\n",
      "temperature                                               0.237603\n",
      "vae qspr                                                   527.711\n",
      "Name: 0, dtype: object\n",
      "1/1 found\n"
     ]
    }
   ],
   "source": [
    "df_cpt_30_qspr = generate_solvent_vae(gen3vae_cpt, \n",
    "                                      char_to_index,\n",
    "                                      smile_max_length=62,\n",
    "                                      salts=salts,\n",
    "                                      model_ID=model_ID, \n",
    "                                      target=target, \n",
    "                                      qspr=True, \n",
    "                                      find=hits, \n",
    "                                      optimalCutOff=target, \n",
    "                                      greaterThanCutOff=True,\n",
    "                                      md_model=['cpt_4'],\n",
    "                                      verbose=1)"
   ]
  },
  {
   "cell_type": "code",
   "execution_count": 38,
   "metadata": {},
   "outputs": [
    {
     "name": "stdout",
     "output_type": "stream",
     "text": [
      "Thermal conductivity, W/m/K\n",
      "total salts in training data:\t148\n",
      "unique salts:\t23\n",
      "unique cations:\t10\n",
      "min/max values:\t0.1667, 0.2380\n",
      "\n",
      "salts sorted in descending order and the minimum value of the top 10 unique cations was returned\n"
     ]
    }
   ],
   "source": [
    "model_ID = ['thermal_conductivity']\n",
    "salts, cations, target = return_top_cations(model_ID, return_min_values=True)"
   ]
  },
  {
   "cell_type": "code",
   "execution_count": 39,
   "metadata": {},
   "outputs": [
    {
     "name": "stdout",
     "output_type": "stream",
     "text": [
      "ani seed                     N#C[B-](C#N)(C#N)C#N\n",
      "attempts                                      259\n",
      "candidate                           CN1C=C[N+]=C1\n",
      "cat seed                           Cn1cc[n+](c1)C\n",
      "rdkit qspr                                   0.18\n",
      "salt           CN1C=C[N+]=C1.N#C[B-](C#N)(C#N)C#N\n",
      "temperature                                1.6051\n",
      "vae qspr                                 0.196734\n",
      "Name: 0, dtype: object\n",
      "1/1 found\n"
     ]
    }
   ],
   "source": [
    "df_thermal_30_qspr = generate_solvent_vae(gen3vae_thermal, \n",
    "                                      char_to_index,\n",
    "                                      smile_max_length=62,\n",
    "                                      salts=salts,\n",
    "                                      model_ID=model_ID, \n",
    "                                      target=target, \n",
    "                                      qspr=True, \n",
    "                                      find=hits, \n",
    "                                      optimalCutOff=target, \n",
    "                                      greaterThanCutOff=True,\n",
    "                                      md_model=None,\n",
    "                                      verbose=1)"
   ]
  },
  {
   "cell_type": "code",
   "execution_count": 40,
   "metadata": {},
   "outputs": [
    {
     "name": "stdout",
     "output_type": "stream",
     "text": [
      "Viscosity, Pa&#8226;s\n",
      "total salts in training data:\t3277\n",
      "unique salts:\t18\n",
      "unique cations:\t10\n",
      "min/max values:\t0.0017, 0.0106\n",
      "\n",
      "salts sorted in ascending order and the maximum value of the top 10 unique cations was returned\n"
     ]
    }
   ],
   "source": [
    "model_ID = ['viscosity']\n",
    "salts, cations, target = return_top_cations(model_ID, return_min_values=False)"
   ]
  },
  {
   "cell_type": "code",
   "execution_count": 41,
   "metadata": {},
   "outputs": [
    {
     "name": "stdout",
     "output_type": "stream",
     "text": [
      "ani seed                      CC(=O)[O-]\n",
      "attempts                              83\n",
      "candidate                 CCN1C=C[N+]=C1\n",
      "cat seed                 CCn1cc[n+](c1)C\n",
      "rdkit qspr                          0.01\n",
      "salt           CCN1C=C[N+]=C1.CC(=O)[O-]\n",
      "temperature                      1.60287\n",
      "vae qspr                       0.0767978\n",
      "Name: 0, dtype: object\n",
      "1/1 found\n"
     ]
    }
   ],
   "source": [
    "df_viscosity_30_qspr = generate_solvent_vae(gen3vae_viscosity, \n",
    "                                      char_to_index,\n",
    "                                      smile_max_length=62,\n",
    "                                      salts=salts,\n",
    "                                      model_ID=model_ID, \n",
    "                                      target=target, \n",
    "                                      qspr=True, \n",
    "                                      find=hits, \n",
    "                                      optimalCutOff=target, \n",
    "                                      greaterThanCutOff=False,\n",
    "                                      md_model=None,\n",
    "                                      verbose=1)"
   ]
  },
  {
   "cell_type": "code",
   "execution_count": 42,
   "metadata": {},
   "outputs": [
    {
     "name": "stdout",
     "output_type": "stream",
     "text": [
      "Specific density, kg/m<SUP>3</SUP>\n",
      "total salts in training data:\t5631\n",
      "unique salts:\t17\n",
      "unique cations:\t10\n",
      "min/max values:\t871.3000, 962.7000\n",
      "\n",
      "salts sorted in ascending order and the maximum value of the top 10 unique cations was returned\n"
     ]
    }
   ],
   "source": [
    "model_ID = ['density']\n",
    "salts, cations, target = return_top_cations(model_ID, return_min_values=False)"
   ]
  },
  {
   "cell_type": "code",
   "execution_count": 43,
   "metadata": {},
   "outputs": [
    {
     "name": "stdout",
     "output_type": "stream",
     "text": [
      "ani seed                                      N#C[B-](C#N)(C#N)C#N\n",
      "attempts                                                        50\n",
      "candidate                   CCCCCCCCCCCC[P+](CCCCCC)(CCCCCC)CCCCCC\n",
      "cat seed                C(CCCCCCCC[P+](CCCCCC)(CCCCCC)CCCCCC)CCCCC\n",
      "rdkit qspr                                                     875\n",
      "rdkit-md qspr                                               918.84\n",
      "salt             CCCCCCCCCCCC[P+](CCCCCC)(CCCCCC)CCCCCC.N#C[B-]...\n",
      "temperature                                                1.66436\n",
      "vae qspr                                                   657.062\n",
      "Name: 0, dtype: object\n",
      "1/1 found\n"
     ]
    }
   ],
   "source": [
    "df_density_30_qspr = generate_solvent_vae(gen3vae_density, \n",
    "                                      char_to_index,\n",
    "                                      smile_max_length=62,\n",
    "                                      salts=salts,\n",
    "                                      model_ID=model_ID, \n",
    "                                      target=target, \n",
    "                                      qspr=True, \n",
    "                                      find=hits, \n",
    "                                      optimalCutOff=target, \n",
    "                                      greaterThanCutOff=False,\n",
    "                                      md_model=['density_4'],\n",
    "                                      verbose=1)"
   ]
  },
  {
   "cell_type": "markdown",
   "metadata": {},
   "source": [
    "# 100 Epoch"
   ]
  },
  {
   "cell_type": "code",
   "execution_count": 44,
   "metadata": {},
   "outputs": [],
   "source": [
    "gen3vae_viscosity = TwoMoleculeVAE()\n",
    "gen3vae_viscosity.create(char_set, char_set, qspr=True, weights_file='../models/gen3vae_viscosity_100.h5')\n",
    "gen3vae_thermal = TwoMoleculeVAE()\n",
    "gen3vae_thermal.create(char_set, char_set, qspr=True, weights_file='../models/gen3vae_thermal_conductivity_100.h5')\n",
    "gen3vae_cpt = TwoMoleculeVAE()\n",
    "gen3vae_cpt.create(char_set, char_set, qspr=True, weights_file='../models/gen3vae_cpt_100.h5')\n",
    "gen3vae_density = TwoMoleculeVAE()\n",
    "gen3vae_density.create(char_set, char_set, qspr=True, weights_file='../models/gen3vae_density_100.h5')"
   ]
  },
  {
   "cell_type": "code",
   "execution_count": 47,
   "metadata": {},
   "outputs": [
    {
     "name": "stdout",
     "output_type": "stream",
     "text": [
      "Heat capacity at constant pressure, J/K/mol\n",
      "total salts in training data:\t1739\n",
      "unique salts:\t15\n",
      "unique cations:\t10\n",
      "min/max values:\t918.0000, 9000.0000\n",
      "\n",
      "salts sorted in descending order and the minimum value of the top 10 unique cations was returned\n"
     ]
    }
   ],
   "source": [
    "model_ID = ['cpt']\n",
    "salts, cations, target = return_top_cations(model_ID, return_min_values=True)"
   ]
  },
  {
   "cell_type": "code",
   "execution_count": 48,
   "metadata": {},
   "outputs": [
    {
     "name": "stdout",
     "output_type": "stream",
     "text": [
      "ani seed                                        C(CS(=O)(=O)[O-])N\n",
      "attempts                                                       152\n",
      "candidate                   CCCCCCC(CCCCCCCC[P+](C)CCCC)C(CCC)CCCC\n",
      "cat seed                C(CCCCCCCC[P+](CCCCCC)(CCCCCC)CCCCCC)CCCCC\n",
      "rdkit qspr                                                 1316.97\n",
      "rdkit-md qspr                                              1714.68\n",
      "salt             CCCCCCC(CCCCCCCC[P+](C)CCCC)C(CCC)CCCC.C(CS(=O...\n",
      "temperature                                                1.53985\n",
      "vae qspr                                                   637.359\n",
      "Name: 0, dtype: object\n",
      "1/1 found\n"
     ]
    }
   ],
   "source": [
    "df_cpt_100_qspr = generate_solvent_vae(gen3vae_cpt, \n",
    "                                      char_to_index,\n",
    "                                      smile_max_length=62,\n",
    "                                      salts=salts,\n",
    "                                      model_ID=model_ID, \n",
    "                                      target=target, \n",
    "                                      qspr=True, \n",
    "                                      find=hits, \n",
    "                                      optimalCutOff=target, \n",
    "                                      greaterThanCutOff=True,\n",
    "                                      md_model=['cpt_4'],\n",
    "                                      verbose=1)"
   ]
  },
  {
   "cell_type": "code",
   "execution_count": 49,
   "metadata": {},
   "outputs": [
    {
     "name": "stdout",
     "output_type": "stream",
     "text": [
      "Thermal conductivity, W/m/K\n",
      "total salts in training data:\t148\n",
      "unique salts:\t23\n",
      "unique cations:\t10\n",
      "min/max values:\t0.1667, 0.2380\n",
      "\n",
      "salts sorted in descending order and the minimum value of the top 10 unique cations was returned\n"
     ]
    }
   ],
   "source": [
    "model_ID = ['thermal_conductivity']\n",
    "salts, cations, target = return_top_cations(model_ID, return_min_values=True)"
   ]
  },
  {
   "cell_type": "code",
   "execution_count": 50,
   "metadata": {},
   "outputs": [
    {
     "name": "stdout",
     "output_type": "stream",
     "text": [
      "ani seed                        N#C[B-](C#N)(C#N)C#N\n",
      "attempts                                         137\n",
      "candidate                           CCCCN1C=C[N+]=C1\n",
      "cat seed                           CCCCn1cc[n+](c1)C\n",
      "rdkit qspr                                      0.18\n",
      "salt           CCCCN1C=C[N+]=C1.N#C[B-](C#N)(C#N)C#N\n",
      "temperature                                  1.39111\n",
      "vae qspr                                    0.179599\n",
      "Name: 0, dtype: object\n",
      "1/1 found\n"
     ]
    }
   ],
   "source": [
    "df_thermal_100_qspr = generate_solvent_vae(gen3vae_thermal, \n",
    "                                      char_to_index,\n",
    "                                      smile_max_length=62,\n",
    "                                      salts=salts,\n",
    "                                      model_ID=model_ID, \n",
    "                                      target=target, \n",
    "                                      qspr=True, \n",
    "                                      find=hits, \n",
    "                                      optimalCutOff=target, \n",
    "                                      greaterThanCutOff=True,\n",
    "                                      md_model=None,\n",
    "                                      verbose=1)"
   ]
  },
  {
   "cell_type": "code",
   "execution_count": 51,
   "metadata": {},
   "outputs": [
    {
     "name": "stdout",
     "output_type": "stream",
     "text": [
      "Viscosity, Pa&#8226;s\n",
      "total salts in training data:\t3277\n",
      "unique salts:\t18\n",
      "unique cations:\t10\n",
      "min/max values:\t0.0017, 0.0106\n",
      "\n",
      "salts sorted in ascending order and the maximum value of the top 10 unique cations was returned\n"
     ]
    }
   ],
   "source": [
    "model_ID = ['viscosity']\n",
    "salts, cations, target = return_top_cations(model_ID, return_min_values=False)"
   ]
  },
  {
   "cell_type": "code",
   "execution_count": 52,
   "metadata": {},
   "outputs": [
    {
     "name": "stdout",
     "output_type": "stream",
     "text": [
      "ani seed                       CCC(=O)[O-]\n",
      "attempts                               125\n",
      "candidate                  C[N+]1=C(O)CCO1\n",
      "cat seed                   C[N+]1=C(CCC1)O\n",
      "rdkit qspr                            0.01\n",
      "salt           C[N+]1=C(O)CCO1.CCC(=O)[O-]\n",
      "temperature                       0.967897\n",
      "vae qspr                        0.00336071\n",
      "Name: 0, dtype: object\n",
      "1/1 found\n"
     ]
    }
   ],
   "source": [
    "df_viscosity_100_qspr = generate_solvent_vae(gen3vae_viscosity, \n",
    "                                      char_to_index,\n",
    "                                      smile_max_length=62,\n",
    "                                      salts=salts,\n",
    "                                      model_ID=model_ID, \n",
    "                                      target=target, \n",
    "                                      qspr=True, \n",
    "                                      find=hits, \n",
    "                                      optimalCutOff=target, \n",
    "                                      greaterThanCutOff=False,\n",
    "                                      md_model=None,\n",
    "                                      verbose=1)"
   ]
  },
  {
   "cell_type": "code",
   "execution_count": 53,
   "metadata": {},
   "outputs": [
    {
     "name": "stdout",
     "output_type": "stream",
     "text": [
      "Specific density, kg/m<SUP>3</SUP>\n",
      "total salts in training data:\t5631\n",
      "unique salts:\t17\n",
      "unique cations:\t10\n",
      "min/max values:\t871.3000, 962.7000\n",
      "\n",
      "salts sorted in ascending order and the maximum value of the top 10 unique cations was returned\n"
     ]
    }
   ],
   "source": [
    "model_ID = ['density']\n",
    "salts, cations, target = return_top_cations(model_ID, return_min_values=False)"
   ]
  },
  {
   "cell_type": "code",
   "execution_count": 54,
   "metadata": {},
   "outputs": [
    {
     "name": "stdout",
     "output_type": "stream",
     "text": [
      "ani seed                                    CCCCCCCCOP(=O)[O-]\n",
      "attempts                                                    24\n",
      "candidate                           CCCCCCCCCCC=[N+](CCCC)CCCC\n",
      "cat seed                              CCCC[P+](CCCC)(CCCC)CCCC\n",
      "rdkit qspr                                              872.54\n",
      "rdkit-md qspr                                           908.34\n",
      "salt             CCCCCCCCCCC=[N+](CCCC)CCCC.CCCCCCCCOP(=O)[O-]\n",
      "temperature                                           0.192577\n",
      "vae qspr                                               1062.92\n",
      "Name: 0, dtype: object\n",
      "1/1 found\n"
     ]
    }
   ],
   "source": [
    "df_density_100_qspr = generate_solvent_vae(gen3vae_density, \n",
    "                                      char_to_index,\n",
    "                                      smile_max_length=62,\n",
    "                                      salts=salts,\n",
    "                                      model_ID=model_ID, \n",
    "                                      target=target, \n",
    "                                      qspr=True, \n",
    "                                      find=hits, \n",
    "                                      optimalCutOff=target, \n",
    "                                      greaterThanCutOff=False,\n",
    "                                      md_model=['density_4'],\n",
    "                                      verbose=1)"
   ]
  },
  {
   "cell_type": "code",
   "execution_count": null,
   "metadata": {},
   "outputs": [],
   "source": [
    "# df_viscosity_no_qspr.to_csv('../data/df_gen3vae_viscosity_no_qspr_91102_function_calls', index=False)"
   ]
  }
 ],
 "metadata": {
  "kernelspec": {
   "display_name": "Python 3",
   "language": "python",
   "name": "python3"
  },
  "language_info": {
   "codemirror_mode": {
    "name": "ipython",
    "version": 3
   },
   "file_extension": ".py",
   "mimetype": "text/x-python",
   "name": "python",
   "nbconvert_exporter": "python",
   "pygments_lexer": "ipython3",
   "version": "3.6.7"
  }
 },
 "nbformat": 4,
 "nbformat_minor": 2
}
