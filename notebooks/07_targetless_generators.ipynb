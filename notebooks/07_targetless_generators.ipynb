{
 "cells": [
  {
   "cell_type": "code",
   "execution_count": 1,
   "metadata": {},
   "outputs": [
    {
     "name": "stderr",
     "output_type": "stream",
     "text": [
      "/home/wesleybeckner/anaconda3/envs/py36/lib/python3.6/site-packages/h5py/__init__.py:36: FutureWarning: Conversion of the second argument of issubdtype from `float` to `np.floating` is deprecated. In future, it will be treated as `np.float64 == np.dtype(float).type`.\n",
      "  from ._conv import register_converters as _register_converters\n",
      "Using TensorFlow backend.\n"
     ]
    }
   ],
   "source": [
    "from IPython.display import clear_output, display\n",
    "import time\n",
    "import matplotlib.pylab as plt\n",
    "import numpy as np\n",
    "import seaborn as sns; sns.set()\n",
    "%matplotlib inline\n",
    "from os.path import join\n",
    "\n",
    "import keras\n",
    "from keras import objectives\n",
    "from keras.callbacks import EarlyStopping\n",
    "from keras.models import Sequential, Model\n",
    "from keras.layers import Dense, Dropout, Input, Multiply, Add\n",
    "from keras.optimizers import Adam, Nadam\n",
    "from keras.models import load_model\n",
    "\n",
    "from numpy import array\n",
    "from numpy import argmax\n",
    "from sklearn.preprocessing import LabelEncoder\n",
    "from sklearn.preprocessing import OneHotEncoder\n",
    "import numpy as np\n",
    "from sklearn.model_selection import train_test_split\n",
    "from sklearn.decomposition import PCA\n",
    "from random import shuffle\n",
    "import pandas as pd\n",
    "import random\n",
    "\n",
    "#Keras build\n",
    "from keras import backend as K\n",
    "from keras.objectives import binary_crossentropy #objs or losses\n",
    "from keras.models import Model\n",
    "from keras.layers import Input, Dense, Lambda, Layer\n",
    "from keras.layers.core import Dense, Activation, Flatten, RepeatVector\n",
    "from keras.layers.wrappers import TimeDistributed\n",
    "from keras.layers.recurrent import GRU\n",
    "from keras.layers.convolutional import Convolution1D\n",
    "\n",
    "#chem\n",
    "from rdkit import Chem\n",
    "from rdkit.Chem import AllChem as Chem\n",
    "from rdkit.Chem.Fingerprints import FingerprintMols\n",
    "from rdkit import DataStructs\n",
    "from rdkit.Chem import Draw\n",
    "from rdkit.Chem import MACCSkeys\n",
    "import salty\n",
    "import gains as genetic\n",
    "\n",
    "#cation data\n",
    "cations = pd.read_csv('../data/cations.csv')\n",
    "cations = cations['smiles_string']\n",
    "salts = pd.read_csv('../data/salts.csv')\n",
    "salts = salts['smiles_string']\n",
    "categories = pd.read_csv('../data/categories.csv')\n",
    "categories = categories['category']\n",
    "coldic = pd.read_csv('../data/coldic.csv')\n",
    "coldic = coldic.to_dict(orient='records')[0]\n",
    "salt_coldic = pd.read_csv('../data/salt_coldic.csv')\n",
    "salt_coldic = salt_coldic.to_dict(orient='records')[0]\n",
    "salt_categories = pd.read_csv('../data/salt_categories.csv')\n",
    "salt_categories = salt_categories['category']\n",
    "density_coldic = pd.read_csv('../data/density_coldic.csv')\n",
    "density_coldic = density_coldic.to_dict(orient='records')[0]\n",
    "density_categories = pd.read_csv('../data/density_categories.csv')\n",
    "density_categories = density_categories['category']\n",
    "\n",
    "#supporting functions\n",
    "import sys\n",
    "sys.path.insert(0, '../')\n",
    "from scripts import *\n",
    "\n",
    "#training array info\n",
    "smile_max_length = 105\n",
    "f = open(\"../data/salt_char_to_index.json\",\"r\")\n",
    "ani_char_to_index = json.loads(f.read())\n",
    "ani_char_set = set(ani_char_to_index.keys())\n",
    "ani_char_list = list(ani_char_to_index.keys())\n",
    "ani_chars_in_dict = len(ani_char_list)\n",
    "ani_index_to_char = dict((i, c) for i, c in enumerate(ani_char_list))\n",
    "\n",
    "#training array info\n",
    "import json\n",
    "f = open(\"../data/gdb_char_to_index.json\",\"r\")\n",
    "cat_char_to_index = json.loads(f.read())\n",
    "cat_char_set = set(cat_char_to_index.keys())\n",
    "cat_char_list = list(cat_char_to_index.keys())\n",
    "cat_chars_in_dict = len(cat_char_list)\n",
    "cat_index_to_char = dict((i, c) for i, c in enumerate(cat_char_list))\n",
    "\n",
    "char_to_index = ani_char_to_index\n",
    "char_set = ani_char_set\n",
    "char_list = ani_char_list\n",
    "chars_in_dict = ani_chars_in_dict\n",
    "index_to_char = ani_index_to_char"
   ]
  },
  {
   "cell_type": "code",
   "execution_count": 7,
   "metadata": {},
   "outputs": [],
   "source": [
    "gen1vae = MoleculeVAE()\n",
    "gen1vae.create(char_set, qspr=True, mol_inputs=2, weights_file='../models/gen1_2mol_1mil_GDB17_mix_pure_5.h5')\n",
    "gen2vae = TwoMoleculeOneLatentVAE()\n",
    "gen2vae.create(char_set, qspr=True, weights_file='../models/gen2_2mol_1mil_GDB17_mix_pure_5.h5')\n",
    "gen3vae = TwoMoleculeVAE()\n",
    "gen3vae.create(char_set, char_set, qspr=True, weights_file='../models/gen3_2mol_1mil_GDB17_mix_pure_5.h5')"
   ]
  },
  {
   "cell_type": "code",
   "execution_count": 3,
   "metadata": {},
   "outputs": [],
   "source": [
    "salts = pd.read_csv('../data/salts.csv')\n",
    "salts = salts['smiles_string']"
   ]
  },
  {
   "cell_type": "code",
   "execution_count": 8,
   "metadata": {},
   "outputs": [
    {
     "name": "stdout",
     "output_type": "stream",
     "text": [
      "ani seed                             CCCCO[P@@H](=O)[O-]\n",
      "attempts                                            2597\n",
      "candidate                          Cc1ccc[n+](CCCCCCO)c1\n",
      "cat seed                           CCCCCCC[n+]1cc(C)ccc1\n",
      "salt           Cc1ccc[n+](CCCCCCO)c1.CCCCO[P@@H](=O)[O-]\n",
      "temperature                                      1.22805\n",
      "Name: 99, dtype: object\n",
      "100/100 found\n"
     ]
    }
   ],
   "source": [
    "df_gen3 = generate_solvent_vae(vae=gen3vae, \n",
    "                     char_to_index=char_to_index,\n",
    "                     smile_max_length=62,\n",
    "                     salts=salts, \n",
    "                     model_ID=None, \n",
    "                     target=None, \n",
    "                     qspr=False, \n",
    "                     find=100, \n",
    "                     optimalCutOff=None, \n",
    "                     greaterThanCutOff=False,\n",
    "                     md_model=None,\n",
    "                     verbose=1)"
   ]
  },
  {
   "cell_type": "code",
   "execution_count": 9,
   "metadata": {},
   "outputs": [
    {
     "name": "stdout",
     "output_type": "stream",
     "text": [
      "ani seed                                N#C[B-](C#N)(C#N)C#N\n",
      "attempts                                                4073\n",
      "candidate                           CCCCCCCCCCCCCCCCCCCCCCCC\n",
      "cat seed                             c1c[n+](cn1CCCCCCCCCC)C\n",
      "salt           CCCCCCCCCCCCCCCCCCCCCCCC.N#C[B-](C#N)(C#N)C#N\n",
      "temperature                                              0.1\n",
      "Name: 99, dtype: object\n",
      "100/100 found\n"
     ]
    }
   ],
   "source": [
    "df_gen1 = generate_solvent_vae(vae=gen1vae, \n",
    "                     char_to_index=char_to_index,\n",
    "                     smile_max_length=62,\n",
    "                     salts=salts, \n",
    "                     model_ID=None, \n",
    "                     target=None, \n",
    "                     qspr=False, \n",
    "                     find=100, \n",
    "                     optimalCutOff=None, \n",
    "                     greaterThanCutOff=False,\n",
    "                     md_model=None,\n",
    "                     verbose=1)"
   ]
  },
  {
   "cell_type": "code",
   "execution_count": 10,
   "metadata": {},
   "outputs": [
    {
     "name": "stdout",
     "output_type": "stream",
     "text": [
      "ani seed                C(F)(F)(F)S(=O)(=O)[N-]S(=O)(=O)C(F)(F)F\n",
      "attempts                                                   13968\n",
      "candidate                                 CCCCCCCCC1CCCCCCCCCCC1\n",
      "cat seed                                c1cn(c([n+]1C))CCCCC(C)C\n",
      "salt           CCCCCCCCC1CCCCCCCCCCC1.C(F)(F)(F)S(=O)(=O)[N-]...\n",
      "temperature                                             0.429939\n",
      "Name: 99, dtype: object\n",
      "100/100 found\n"
     ]
    }
   ],
   "source": [
    "df_gen2 = generate_solvent_vae(vae=gen2vae, \n",
    "                     char_to_index=char_to_index,\n",
    "                     smile_max_length=62,\n",
    "                     salts=salts, \n",
    "                     model_ID=None, \n",
    "                     target=None, \n",
    "                     qspr=False, \n",
    "                     find=100, \n",
    "                     optimalCutOff=None, \n",
    "                     greaterThanCutOff=False,\n",
    "                     md_model=None,\n",
    "                     verbose=1)"
   ]
  },
  {
   "cell_type": "code",
   "execution_count": 11,
   "metadata": {},
   "outputs": [],
   "source": [
    "# df_gen1.to_csv('../data/gen1vae_no_target_4073_function_calls')\n",
    "# df_gen2.to_csv('../data/gen2vae_no_target_13968_function_calls')\n",
    "# df_gen3.to_csv('../data/gen3vae_no_target_2597_function_calls')"
   ]
  }
 ],
 "metadata": {
  "kernelspec": {
   "display_name": "Python 3",
   "language": "python",
   "name": "python3"
  },
  "language_info": {
   "codemirror_mode": {
    "name": "ipython",
    "version": 3
   },
   "file_extension": ".py",
   "mimetype": "text/x-python",
   "name": "python",
   "nbconvert_exporter": "python",
   "pygments_lexer": "ipython3",
   "version": "3.6.7"
  }
 },
 "nbformat": 4,
 "nbformat_minor": 2
}
