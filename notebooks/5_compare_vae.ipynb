{
 "cells": [
  {
   "cell_type": "code",
   "execution_count": 1,
   "metadata": {},
   "outputs": [
    {
     "name": "stderr",
     "output_type": "stream",
     "text": [
      "/home/wesleybeckner/anaconda3/envs/py36/lib/python3.6/site-packages/h5py/__init__.py:36: FutureWarning: Conversion of the second argument of issubdtype from `float` to `np.floating` is deprecated. In future, it will be treated as `np.float64 == np.dtype(float).type`.\n",
      "  from ._conv import register_converters as _register_converters\n",
      "Using TensorFlow backend.\n"
     ]
    }
   ],
   "source": [
    "import matplotlib.pylab as plt\n",
    "import numpy as np\n",
    "import seaborn as sns; sns.set()\n",
    "import json\n",
    "\n",
    "import salty\n",
    "from numpy import array\n",
    "from numpy import argmax\n",
    "from sklearn.preprocessing import LabelEncoder\n",
    "from sklearn.preprocessing import OneHotEncoder\n",
    "import numpy as np\n",
    "from sklearn.model_selection import train_test_split\n",
    "from random import shuffle\n",
    "import pandas as pd\n",
    "import random\n",
    "\n",
    "import keras\n",
    "from keras.models import Sequential, Model\n",
    "from keras.optimizers import Adam\n",
    "from keras import backend as K\n",
    "from keras.objectives import binary_crossentropy #objs or losses\n",
    "from keras.layers import Input, Dense, Lambda\n",
    "from keras.layers.core import Dense, Activation, Flatten, RepeatVector\n",
    "from keras.layers.wrappers import TimeDistributed\n",
    "from keras.layers.recurrent import GRU\n",
    "from keras.layers.convolutional import Convolution1D\n",
    "\n",
    "from rdkit import Chem\n",
    "from rdkit.Chem.Fingerprints import FingerprintMols\n",
    "from rdkit import DataStructs\n",
    "from rdkit.Chem import Draw\n",
    "\n",
    "import sys\n",
    "sys.path.insert(0, '../')\n",
    "from scripts import build_vae, decode_smiles"
   ]
  },
  {
   "cell_type": "code",
   "execution_count": 2,
   "metadata": {},
   "outputs": [],
   "source": [
    "#for getting cation data\n",
    "properties = ['density', 'cpt', 'viscosity', 'thermal_conductivity',\n",
    "              'melting_point']\n",
    "props = properties\n",
    "devmodel = salty.aggregate_data(props, merge='Union')\n",
    "devmodel.Data['smiles_string'] = devmodel.Data['smiles-cation']\n",
    "cations = devmodel.Data['smiles_string'].drop_duplicates()\n",
    "cations = cations.reset_index(drop=True)"
   ]
  },
  {
   "cell_type": "code",
   "execution_count": 12,
   "metadata": {},
   "outputs": [],
   "source": [
    "vae_models = ['Bootstrap_250k_Cation_1.h5', 'Bootstrap_1Mil_Cation_1.h5',\n",
    "    '1Mil_GDB17.h5', '1Mil_GDB17_split_500k.h5', '1Mil_GDB17_split_500k_cation_500k.h5']\n",
    "\n",
    "f = open(\"../data/1mil_GDB17.json\",\"r\")\n",
    "char_to_index = json.loads(f.read())\n",
    "autoencoder = build_vae()\n",
    "smi = 'CCCC[n+]1ccc(cc1)C'\n",
    "autoencoder.load_weights(\"../data/{}\".format(vae_models[-1]))"
   ]
  },
  {
   "cell_type": "code",
   "execution_count": 6,
   "metadata": {},
   "outputs": [],
   "source": [
    "def generate_structures(vae, smi, char_to_index, limit=1e4):\n",
    "    rdkit_mols = []\n",
    "    temps = []\n",
    "    iterations = []\n",
    "    iteration = limit_counter = 0\n",
    "    while True:\n",
    "        iteration += 1\n",
    "        limit_counter += 1\n",
    "        t = random.random()*2\n",
    "        candidate = decode_smiles(vae, smi, char_to_index, temp=t).split(\" \")[0]\n",
    "        try:\n",
    "            sampled = Chem.MolFromSmiles(candidate)\n",
    "            if candidate not in rdkit_mols:\n",
    "                temps.append(t)\n",
    "                iterations.append(iteration)\n",
    "                rdkit_mols.append(candidate) \n",
    "                limit_counter = 0\n",
    "        except:\n",
    "            pass\n",
    "        if limit_counter > limit:\n",
    "            break\n",
    "    df = pd.DataFrame([rdkit_mols,temps,iterations]).T\n",
    "    df.columns = ['smiles', 'temperature', 'iteration']\n",
    "    return df"
   ]
  },
  {
   "cell_type": "code",
   "execution_count": null,
   "metadata": {},
   "outputs": [
    {
     "name": "stderr",
     "output_type": "stream",
     "text": [
      "../scripts/vae.py:77: RuntimeWarning: invalid value encountered in true_divide\n",
      "  dist = np.exp(a)/np.sum(np.exp(a))\n",
      "../scripts/vae.py:79: RuntimeWarning: invalid value encountered in less\n",
      "  return np.random.choice(choices, p=dist)\n"
     ]
    }
   ],
   "source": [
    "generate_structures(autoencoder, smi, char_to_index, limit=1e3)"
   ]
  }
 ],
 "metadata": {
  "kernelspec": {
   "display_name": "Python 3",
   "language": "python",
   "name": "python3"
  },
  "language_info": {
   "codemirror_mode": {
    "name": "ipython",
    "version": 3
   },
   "file_extension": ".py",
   "mimetype": "text/x-python",
   "name": "python",
   "nbconvert_exporter": "python",
   "pygments_lexer": "ipython3",
   "version": "3.6.4"
  }
 },
 "nbformat": 4,
 "nbformat_minor": 2
}
