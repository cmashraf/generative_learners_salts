{
 "cells": [
  {
   "cell_type": "code",
   "execution_count": 1,
   "metadata": {},
   "outputs": [
    {
     "name": "stderr",
     "output_type": "stream",
     "text": [
      "/home/wesleybeckner/anaconda3/envs/py36/lib/python3.6/site-packages/h5py/__init__.py:36: FutureWarning: Conversion of the second argument of issubdtype from `float` to `np.floating` is deprecated. In future, it will be treated as `np.float64 == np.dtype(float).type`.\n",
      "  from ._conv import register_converters as _register_converters\n",
      "Using TensorFlow backend.\n"
     ]
    }
   ],
   "source": [
    "import matplotlib.pylab as plt\n",
    "import numpy as np\n",
    "import seaborn as sns; sns.set()\n",
    "import json\n",
    "%matplotlib inline\n",
    "\n",
    "import keras\n",
    "from keras.models import Sequential, Model\n",
    "from keras.layers import Dense\n",
    "from keras.optimizers import Adam\n",
    "import salty\n",
    "from numpy import array\n",
    "from numpy import argmax\n",
    "from sklearn.preprocessing import LabelEncoder\n",
    "from sklearn.preprocessing import OneHotEncoder\n",
    "import numpy as np\n",
    "from sklearn.model_selection import train_test_split\n",
    "from random import shuffle\n",
    "import pandas as pd\n",
    "import random\n",
    "\n",
    "from keras import backend as K\n",
    "from keras.objectives import binary_crossentropy #objs or losses\n",
    "from keras.models import Model\n",
    "from keras.layers import Input, Dense, Lambda\n",
    "from keras.layers.core import Dense, Activation, Flatten, RepeatVector\n",
    "from keras.layers.wrappers import TimeDistributed\n",
    "from keras.layers.recurrent import GRU\n",
    "from keras.layers.convolutional import Convolution1D\n",
    "\n",
    "from rdkit import Chem\n",
    "from rdkit.Chem.Fingerprints import FingerprintMols\n",
    "from rdkit import DataStructs\n",
    "from rdkit.Chem import Draw\n",
    "from rdkit.Chem import AllChem as Chem\n",
    "\n",
    "import sys\n",
    "sys.path.insert(0, '../')\n",
    "from scripts import build_vae, decode_smiles, generate_structures, my_colors, MoleculeVAE\n",
    "\n",
    "#cation data\n",
    "cations = pd.read_csv('../data/cations.csv')\n",
    "cations = cations['smiles_string']"
   ]
  },
  {
   "cell_type": "code",
   "execution_count": 2,
   "metadata": {},
   "outputs": [],
   "source": [
    "import sys\n",
    "sys.path.insert(0, '../../gains/gains/')\n",
    "import engine as genetic"
   ]
  },
  {
   "cell_type": "code",
   "execution_count": 3,
   "metadata": {},
   "outputs": [
    {
     "name": "stdout",
     "output_type": "stream",
     "text": [
      "  starting structure         0.1905        CCCOCCC\n",
      "         remove_atom         0.2000         CCCOCC\n",
      "        replace_atom         0.2083         CCCOCF\n",
      "         remove_atom         0.2353          CCCOC\n",
      "         remove_atom         0.3333           CCCO\n",
      "        replace_atom         1.0000           CCCC\n",
      "    number of atoms:              4\n",
      "  mutation attempts:             82\n"
     ]
    }
   ],
   "source": [
    "target = \"CCCC\" #butane smiles\n",
    "parent_candidates = np.array([\"CCCOCCC\"]) #propanol smiles, numpy array\n",
    "\n",
    "def get_fitness(genes, target):\n",
    "    ms = [Chem.MolFromSmiles(target), Chem.MolFromSmiles(genes)]\n",
    "    fps = [FingerprintMols.FingerprintMol(x) for x in ms]\n",
    "    return DataStructs.FingerprintSimilarity(fps[0], fps[1]), None\n",
    "\n",
    "def fnGetFitness(genes, target):\n",
    "    return get_fitness(genes, target)\n",
    "\n",
    "def display(candidate, mutation, asdf):\n",
    "    print(\"{:>20}{:>15}{:>15}\".format(mutation, \"{:3.4f}\".\n",
    "                                  format(candidate.Fitness),\n",
    "                                  candidate.Genes))\n",
    "\n",
    "def result_display(genes, target, mutation_attempts, sim_score,\n",
    "             molecular_relative):\n",
    "    mol = Chem.MolFromSmiles(genes)\n",
    "    print(\"{:>20}{:>15}\".format(\"number of atoms:\", mol.GetNumAtoms()))\n",
    "    print(\"{:>20}{:>15}\".format(\"mutation attempts:\", mutation_attempts))\n",
    "    \n",
    "geneSet = genetic.generate_geneset()\n",
    "optimalFitness, prediction = get_fitness(target, target)\n",
    "best = genetic.get_best(fnGetFitness, optimalFitness, geneSet,\n",
    "                        display, result_display, target,\n",
    "                        parent_candidates, mutate=genetic._mutate)"
   ]
  },
  {
   "cell_type": "code",
   "execution_count": 4,
   "metadata": {},
   "outputs": [],
   "source": [
    "#M5 data\n",
    "vae_models = ['Bootstrap_250k_Cation_1.h5', 'Bootstrap_1Mil_Cation_1.h5',\n",
    "    '1Mil_GDB17.h5', '1Mil_GDB17_split_500k.h5', '1Mil_GDB17_split_500k_cation_500k.h5']\n",
    "weights_file = \"../data/{}\".format(vae_models[-1])\n",
    "f = open(\"../data/1mil_GDB17.json\",\"r\")\n",
    "char_to_index = json.loads(f.read())\n",
    "chemvae = MoleculeVAE()\n",
    "char_set = set(char_to_index.keys())\n",
    "chemvae.load(char_set, weights_file)"
   ]
  },
  {
   "cell_type": "code",
   "execution_count": 17,
   "metadata": {},
   "outputs": [],
   "source": [
    "def pad_smiles(smiles_string, smile_max_length):\n",
    "     if len(smiles_string) < smile_max_length:\n",
    "            return smiles_string + \" \" * (smile_max_length - len(smiles_string))\n",
    "        \n",
    "def one_hot(smi, char_to_index):\n",
    "    test_smi = smi\n",
    "    smile_max_length=51\n",
    "    char_set = set(char_to_index.keys())\n",
    "    test_smi = pad_smiles(test_smi, smile_max_length)\n",
    "    Z = np.zeros((1, smile_max_length, len(list(char_set))), dtype=np.bool)\n",
    "    for t, char in enumerate(test_smi):\n",
    "        Z[0, t, char_to_index[char]] = 1\n",
    "    return Z\n",
    "\n",
    "def vae_mutate(parent, geneSet, get_fitness, target, limit=1e3):\n",
    "#     while True:\n",
    "#         candidate = chemvae.encoder.predict(one_hot(parent, char_to_index))\n",
    "    limit_counter = 0\n",
    "    while True:\n",
    "#         iteration += 1\n",
    "        limit_counter += 1\n",
    "        t = random.random()*2\n",
    "        candidate = decode_smiles(chemvae.autoencoder, parent.Genes, char_to_index, temp=t).split(\" \")[0]\n",
    "        \n",
    "        try:\n",
    "            sampled = Chem.MolFromSmiles(candidate)\n",
    "            cation = Chem.AddHs(sampled)\n",
    "            Chem.EmbedMolecule(cation, Chem.ETKDG())\n",
    "            Chem.UFFOptimizeMolecule(cation)\n",
    "            cation = Chem.RemoveHs(cation)\n",
    "            candidate = Chem.MolToSmiles(cation)\n",
    "            fitness, prediction = get_fitness(candidate, target)\n",
    "#             print(candidate, fitness)\n",
    "            mutation = 'vae mutation'\n",
    "            return genetic.Chromosome(candidate, fitness), mutation\n",
    "        except:\n",
    "            pass\n",
    "        if limit_counter > limit:\n",
    "            mutation = 'vae mutation'\n",
    "            return genetic.Chromosome(parent.Genes, 0), mutation"
   ]
  },
  {
   "cell_type": "code",
   "execution_count": null,
   "metadata": {},
   "outputs": [
    {
     "name": "stdout",
     "output_type": "stream",
     "text": [
      "  starting structure         0.4293\tCCCn1cc[n+](c1C)C\n",
      "        vae mutation         0.4407\t[C+]C(CCC)C(CC)CCC\n"
     ]
    },
    {
     "name": "stderr",
     "output_type": "stream",
     "text": [
      "../scripts/vae.py:175: RuntimeWarning: invalid value encountered in true_divide\n",
      "  dist = np.exp(a)/np.sum(np.exp(a))\n",
      "../scripts/vae.py:177: RuntimeWarning: invalid value encountered in less\n",
      "  return np.random.choice(choices, p=dist)\n"
     ]
    },
    {
     "name": "stdout",
     "output_type": "stream",
     "text": [
      "        vae mutation         0.4661\tCCNC1(OCO)CNCCC1NC\n",
      "        vae mutation         0.4746\tCCCCCCC1CCCCCC1CCC\n",
      "        vae mutation         0.5085\tCCCCCCC1CCCCC1CCC\n",
      "starting from new parent\n",
      "        vae mutation         0.4293\tCCCn1cc[n+](c1C)C\n",
      "        vae mutation         0.4407\t[C+]C(CCC)C(CC)CCC\n",
      "        vae mutation         0.4568\tNNCC1(C2=CCC2O)CN1\n",
      "        vae mutation         0.4737\tCCCCC1C2=C(CC2)CNC1OCC\n",
      "        vae mutation         0.4915\tCCC1CCCCCC2CCCCCC2CC1\n",
      "        vae mutation         0.5246\t       COCCCCCN\n",
      "starting from new parent\n",
      "        vae mutation         0.4293\tCCCn1cc[n+](c1C)C\n",
      "        vae mutation         0.4576\tCCC[C+]1CCC(C)CC1\n",
      "        vae mutation         0.5085\tCCCCCCCCCC1CCCCC1C\n",
      "starting from new parent\n",
      "        vae mutation         0.4293\tCCCn1cc[n+](c1C)C\n",
      "        vae mutation         0.4407\t[C+]C(CCC)C(CC)CCC\n",
      "        vae mutation         0.4490\tCCNC1(CCO)C(=O)CNC1O\n",
      "        vae mutation         0.4516\tC=C(CCCCC)CCCCCCCCCC\n",
      "        vae mutation         0.4576\tCCCCC1CCCCCCCCCC1CC\n",
      "        vae mutation         0.5085\tCCCCCCCCCC1CCCCC1CC\n",
      "starting from new parent\n",
      "        vae mutation         0.4293\tCCCn1cc[n+](c1C)C\n"
     ]
    },
    {
     "name": "stderr",
     "output_type": "stream",
     "text": [
      "/home/wesleybeckner/anaconda3/lib/python3.6/site-packages/matplotlib/pyplot.py:528: RuntimeWarning: More than 20 figures have been opened. Figures created through the pyplot interface (`matplotlib.pyplot.figure`) are retained until explicitly closed and may consume too much memory. (To control this warning, see the rcParam `figure.max_open_warning`).\n",
      "  max_open_warning, RuntimeWarning)\n"
     ]
    },
    {
     "name": "stdout",
     "output_type": "stream",
     "text": [
      "        vae mutation         0.4407\t[C+]C(CCC)C(CC)CCC\n",
      "        vae mutation         0.4553\tCCNC1(OCC)CCCNC1=O\n",
      "        vae mutation         0.4576\tCCCC1CCCCCCCCCC1C\n",
      "        vae mutation         0.4746\tCCCCCCC1CCCCCC1CC\n",
      "        vae mutation         0.5085\tCCCCCCCC1CCCCC1CC\n",
      "        vae mutation         0.5167\t CCCCCCCSCCCCCC\n",
      "starting from new parent\n",
      "        vae mutation         0.4293\tCCCn1cc[n+](c1C)C\n",
      "        vae mutation         0.4407\t[C+]C(CCC)C(CC)CCC\n",
      "        vae mutation         0.4776\tCCNN1CC=CCC1(CCO)OCC\n",
      "        vae mutation         0.5085\tCCCCCCCCCCC1CCCCC1CC\n",
      "starting from new parent\n",
      "        vae mutation         0.4293\tCCCn1cc[n+](c1C)C\n",
      "        vae mutation         0.4407\t[C+]C(CCC)C(CC)CCC\n",
      "        vae mutation         0.4636\tC=C(CCC=CCCC)NC\n",
      "        vae mutation         0.4694\tCNC1=CCOCCC12CCCCOOO2\n",
      "        vae mutation         0.4724\tCCCCNC12CCC13CC3OOCO2\n",
      "        vae mutation         0.4774\tCCCCOC1CC12CC21NCCC1C\n",
      "        vae mutation         0.4858\tCCCCCC1OC2C1C21N=CC1C\n",
      "        vae mutation         0.5085\tCCCCCC1CCCCC1CCCCC\n",
      "starting from new parent\n",
      "        vae mutation         0.4293\tCCCn1cc[n+](c1C)C\n",
      "        vae mutation         0.4407\t[C+]C(CCC)C(CC)CCC\n",
      "        vae mutation         0.4821\tCCOC12SCNCC1=CN2N\n",
      "        vae mutation         0.4915\tCC1CCC2CCCCCC1CC2\n",
      "        vae mutation         0.5085\t CCCCCC1CCCCC1C\n",
      "starting from new parent\n",
      "        vae mutation         0.4293\tCCCn1cc[n+](c1C)C\n",
      "        vae mutation         0.4407\t[C+]C(CCC)C(CC)CCC\n",
      "        vae mutation         0.4564\tCCCC1(OCC)C#CNC1=O\n",
      "        vae mutation         0.4576\tCCCC1CCCCCCCCCC1C\n",
      "        vae mutation         0.4582\tCCONC1CNCN2CCC12O\n",
      "        vae mutation         0.4915\t CCCC1CCCCC1CCC\n",
      "        vae mutation         0.5085\tCCCCCCCCCCCCC1CCCCC1CCC\n"
     ]
    },
    {
     "ename": "KeyboardInterrupt",
     "evalue": "",
     "output_type": "error",
     "traceback": [
      "\u001b[0;31m---------------------------------------------------------------------------\u001b[0m",
      "\u001b[0;31mKeyboardInterrupt\u001b[0m                         Traceback (most recent call last)",
      "\u001b[0;32m<ipython-input-18-fc5bb0867ce7>\u001b[0m in \u001b[0;36m<module>\u001b[0;34m()\u001b[0m\n\u001b[1;32m     26\u001b[0m best = genetic.get_best(fnGetFitness, optimalFitness, geneSet,\n\u001b[1;32m     27\u001b[0m                         \u001b[0mdisplay\u001b[0m\u001b[0;34m,\u001b[0m \u001b[0mresult_display\u001b[0m\u001b[0;34m,\u001b[0m \u001b[0mtarget\u001b[0m\u001b[0;34m,\u001b[0m\u001b[0;34m\u001b[0m\u001b[0m\n\u001b[0;32m---> 28\u001b[0;31m                         parent_candidates, mutate=vae_mutate)\n\u001b[0m",
      "\u001b[0;32m/media/wesleybeckner/weshhd/wes/Dropbox/Python/py3/gains/gains/engine.py\u001b[0m in \u001b[0;36mget_best\u001b[0;34m(get_fitness, optimalFitness, geneSet, display, show_ion, target, parent_candidates, mutate, seed, hull, simplex, verbose, hull_bounds, inner_search, parent_cap, mutation_cap)\u001b[0m\n\u001b[1;32m    210\u001b[0m     \u001b[0;32mwhile\u001b[0m \u001b[0;32mTrue\u001b[0m\u001b[0;34m:\u001b[0m\u001b[0;34m\u001b[0m\u001b[0m\n\u001b[1;32m    211\u001b[0m         \u001b[0;32mwith\u001b[0m \u001b[0msuppress_rdkit_sanity\u001b[0m\u001b[0;34m(\u001b[0m\u001b[0;34m)\u001b[0m\u001b[0;34m:\u001b[0m\u001b[0;34m\u001b[0m\u001b[0m\n\u001b[0;32m--> 212\u001b[0;31m             \u001b[0mchild\u001b[0m\u001b[0;34m,\u001b[0m \u001b[0mmutation\u001b[0m \u001b[0;34m=\u001b[0m \u001b[0mmutate\u001b[0m\u001b[0;34m(\u001b[0m\u001b[0mbestParent\u001b[0m\u001b[0;34m,\u001b[0m \u001b[0mgeneSet\u001b[0m\u001b[0;34m,\u001b[0m \u001b[0mget_fitness\u001b[0m\u001b[0;34m,\u001b[0m \u001b[0mtarget\u001b[0m\u001b[0;34m)\u001b[0m\u001b[0;34m\u001b[0m\u001b[0m\n\u001b[0m\u001b[1;32m    213\u001b[0m         \u001b[0mmutation_attempts\u001b[0m \u001b[0;34m+=\u001b[0m \u001b[0;36m1\u001b[0m\u001b[0;34m\u001b[0m\u001b[0m\n\u001b[1;32m    214\u001b[0m         \u001b[0mattempts_since_last_adoption\u001b[0m \u001b[0;34m+=\u001b[0m \u001b[0;36m1\u001b[0m\u001b[0;34m\u001b[0m\u001b[0m\n",
      "\u001b[0;32m<ipython-input-17-08a2cff07867>\u001b[0m in \u001b[0;36mvae_mutate\u001b[0;34m(parent, geneSet, get_fitness, target, limit)\u001b[0m\n\u001b[1;32m     21\u001b[0m         \u001b[0mlimit_counter\u001b[0m \u001b[0;34m+=\u001b[0m \u001b[0;36m1\u001b[0m\u001b[0;34m\u001b[0m\u001b[0m\n\u001b[1;32m     22\u001b[0m         \u001b[0mt\u001b[0m \u001b[0;34m=\u001b[0m \u001b[0mrandom\u001b[0m\u001b[0;34m.\u001b[0m\u001b[0mrandom\u001b[0m\u001b[0;34m(\u001b[0m\u001b[0;34m)\u001b[0m\u001b[0;34m*\u001b[0m\u001b[0;36m2\u001b[0m\u001b[0;34m\u001b[0m\u001b[0m\n\u001b[0;32m---> 23\u001b[0;31m         \u001b[0mcandidate\u001b[0m \u001b[0;34m=\u001b[0m \u001b[0mdecode_smiles\u001b[0m\u001b[0;34m(\u001b[0m\u001b[0mchemvae\u001b[0m\u001b[0;34m.\u001b[0m\u001b[0mautoencoder\u001b[0m\u001b[0;34m,\u001b[0m \u001b[0mparent\u001b[0m\u001b[0;34m.\u001b[0m\u001b[0mGenes\u001b[0m\u001b[0;34m,\u001b[0m \u001b[0mchar_to_index\u001b[0m\u001b[0;34m,\u001b[0m \u001b[0mtemp\u001b[0m\u001b[0;34m=\u001b[0m\u001b[0mt\u001b[0m\u001b[0;34m)\u001b[0m\u001b[0;34m.\u001b[0m\u001b[0msplit\u001b[0m\u001b[0;34m(\u001b[0m\u001b[0;34m\" \"\u001b[0m\u001b[0;34m)\u001b[0m\u001b[0;34m[\u001b[0m\u001b[0;36m0\u001b[0m\u001b[0;34m]\u001b[0m\u001b[0;34m\u001b[0m\u001b[0m\n\u001b[0m\u001b[1;32m     24\u001b[0m \u001b[0;34m\u001b[0m\u001b[0m\n\u001b[1;32m     25\u001b[0m         \u001b[0;32mtry\u001b[0m\u001b[0;34m:\u001b[0m\u001b[0;34m\u001b[0m\u001b[0m\n",
      "\u001b[0;32m/media/wesleybeckner/weshhd/wes/Dropbox/Python/py3/generative_learners_salts/scripts/vae.py\u001b[0m in \u001b[0;36mdecode_smiles\u001b[0;34m(vae, smi, char_to_index, temp, smile_max_length)\u001b[0m\n\u001b[1;32m    217\u001b[0m         \u001b[0mZ\u001b[0m\u001b[0;34m[\u001b[0m\u001b[0;36m0\u001b[0m\u001b[0;34m,\u001b[0m \u001b[0mt\u001b[0m\u001b[0;34m,\u001b[0m \u001b[0mchar_to_index\u001b[0m\u001b[0;34m[\u001b[0m\u001b[0mchar\u001b[0m\u001b[0;34m]\u001b[0m\u001b[0;34m]\u001b[0m \u001b[0;34m=\u001b[0m \u001b[0;36m1\u001b[0m\u001b[0;34m\u001b[0m\u001b[0m\n\u001b[1;32m    218\u001b[0m     \u001b[0mstring\u001b[0m \u001b[0;34m=\u001b[0m \u001b[0;34m\"\"\u001b[0m\u001b[0;34m\u001b[0m\u001b[0m\n\u001b[0;32m--> 219\u001b[0;31m     \u001b[0;32mfor\u001b[0m \u001b[0mi\u001b[0m \u001b[0;32min\u001b[0m \u001b[0mautoencoder\u001b[0m\u001b[0;34m.\u001b[0m\u001b[0mpredict\u001b[0m\u001b[0;34m(\u001b[0m\u001b[0mZ\u001b[0m\u001b[0;34m)\u001b[0m\u001b[0;34m:\u001b[0m\u001b[0;34m\u001b[0m\u001b[0m\n\u001b[0m\u001b[1;32m    220\u001b[0m         \u001b[0;32mfor\u001b[0m \u001b[0mj\u001b[0m \u001b[0;32min\u001b[0m \u001b[0mi\u001b[0m\u001b[0;34m:\u001b[0m\u001b[0;34m\u001b[0m\u001b[0m\n\u001b[1;32m    221\u001b[0m             \u001b[0mindex\u001b[0m \u001b[0;34m=\u001b[0m \u001b[0msample\u001b[0m\u001b[0;34m(\u001b[0m\u001b[0mj\u001b[0m\u001b[0;34m,\u001b[0m \u001b[0mtemperature\u001b[0m\u001b[0;34m=\u001b[0m\u001b[0mtemp\u001b[0m\u001b[0;34m)\u001b[0m\u001b[0;34m\u001b[0m\u001b[0m\n",
      "\u001b[0;32m~/anaconda3/lib/python3.6/site-packages/keras/engine/training.py\u001b[0m in \u001b[0;36mpredict\u001b[0;34m(self, x, batch_size, verbose, steps)\u001b[0m\n\u001b[1;32m   1170\u001b[0m                                             \u001b[0mbatch_size\u001b[0m\u001b[0;34m=\u001b[0m\u001b[0mbatch_size\u001b[0m\u001b[0;34m,\u001b[0m\u001b[0;34m\u001b[0m\u001b[0m\n\u001b[1;32m   1171\u001b[0m                                             \u001b[0mverbose\u001b[0m\u001b[0;34m=\u001b[0m\u001b[0mverbose\u001b[0m\u001b[0;34m,\u001b[0m\u001b[0;34m\u001b[0m\u001b[0m\n\u001b[0;32m-> 1172\u001b[0;31m                                             steps=steps)\n\u001b[0m\u001b[1;32m   1173\u001b[0m \u001b[0;34m\u001b[0m\u001b[0m\n\u001b[1;32m   1174\u001b[0m     def train_on_batch(self, x, y,\n",
      "\u001b[0;32m~/anaconda3/lib/python3.6/site-packages/keras/engine/training_arrays.py\u001b[0m in \u001b[0;36mpredict_loop\u001b[0;34m(model, f, ins, batch_size, verbose, steps)\u001b[0m\n\u001b[1;32m    295\u001b[0m                 \u001b[0mins_batch\u001b[0m\u001b[0;34m[\u001b[0m\u001b[0mi\u001b[0m\u001b[0;34m]\u001b[0m \u001b[0;34m=\u001b[0m \u001b[0mins_batch\u001b[0m\u001b[0;34m[\u001b[0m\u001b[0mi\u001b[0m\u001b[0;34m]\u001b[0m\u001b[0;34m.\u001b[0m\u001b[0mtoarray\u001b[0m\u001b[0;34m(\u001b[0m\u001b[0;34m)\u001b[0m\u001b[0;34m\u001b[0m\u001b[0m\n\u001b[1;32m    296\u001b[0m \u001b[0;34m\u001b[0m\u001b[0m\n\u001b[0;32m--> 297\u001b[0;31m             \u001b[0mbatch_outs\u001b[0m \u001b[0;34m=\u001b[0m \u001b[0mf\u001b[0m\u001b[0;34m(\u001b[0m\u001b[0mins_batch\u001b[0m\u001b[0;34m)\u001b[0m\u001b[0;34m\u001b[0m\u001b[0m\n\u001b[0m\u001b[1;32m    298\u001b[0m             \u001b[0;32mif\u001b[0m \u001b[0;32mnot\u001b[0m \u001b[0misinstance\u001b[0m\u001b[0;34m(\u001b[0m\u001b[0mbatch_outs\u001b[0m\u001b[0;34m,\u001b[0m \u001b[0mlist\u001b[0m\u001b[0;34m)\u001b[0m\u001b[0;34m:\u001b[0m\u001b[0;34m\u001b[0m\u001b[0m\n\u001b[1;32m    299\u001b[0m                 \u001b[0mbatch_outs\u001b[0m \u001b[0;34m=\u001b[0m \u001b[0;34m[\u001b[0m\u001b[0mbatch_outs\u001b[0m\u001b[0;34m]\u001b[0m\u001b[0;34m\u001b[0m\u001b[0m\n",
      "\u001b[0;32m~/anaconda3/lib/python3.6/site-packages/keras/backend/tensorflow_backend.py\u001b[0m in \u001b[0;36m__call__\u001b[0;34m(self, inputs)\u001b[0m\n\u001b[1;32m   2659\u001b[0m                 \u001b[0;32mreturn\u001b[0m \u001b[0mself\u001b[0m\u001b[0;34m.\u001b[0m\u001b[0m_legacy_call\u001b[0m\u001b[0;34m(\u001b[0m\u001b[0minputs\u001b[0m\u001b[0;34m)\u001b[0m\u001b[0;34m\u001b[0m\u001b[0m\n\u001b[1;32m   2660\u001b[0m \u001b[0;34m\u001b[0m\u001b[0m\n\u001b[0;32m-> 2661\u001b[0;31m             \u001b[0;32mreturn\u001b[0m \u001b[0mself\u001b[0m\u001b[0;34m.\u001b[0m\u001b[0m_call\u001b[0m\u001b[0;34m(\u001b[0m\u001b[0minputs\u001b[0m\u001b[0;34m)\u001b[0m\u001b[0;34m\u001b[0m\u001b[0m\n\u001b[0m\u001b[1;32m   2662\u001b[0m         \u001b[0;32melse\u001b[0m\u001b[0;34m:\u001b[0m\u001b[0;34m\u001b[0m\u001b[0m\n\u001b[1;32m   2663\u001b[0m             \u001b[0;32mif\u001b[0m \u001b[0mpy_any\u001b[0m\u001b[0;34m(\u001b[0m\u001b[0mis_tensor\u001b[0m\u001b[0;34m(\u001b[0m\u001b[0mx\u001b[0m\u001b[0;34m)\u001b[0m \u001b[0;32mfor\u001b[0m \u001b[0mx\u001b[0m \u001b[0;32min\u001b[0m \u001b[0minputs\u001b[0m\u001b[0;34m)\u001b[0m\u001b[0;34m:\u001b[0m\u001b[0;34m\u001b[0m\u001b[0m\n",
      "\u001b[0;32m~/anaconda3/lib/python3.6/site-packages/keras/backend/tensorflow_backend.py\u001b[0m in \u001b[0;36m_call\u001b[0;34m(self, inputs)\u001b[0m\n\u001b[1;32m   2629\u001b[0m                                 \u001b[0msymbol_vals\u001b[0m\u001b[0;34m,\u001b[0m\u001b[0;34m\u001b[0m\u001b[0m\n\u001b[1;32m   2630\u001b[0m                                 session)\n\u001b[0;32m-> 2631\u001b[0;31m         \u001b[0mfetched\u001b[0m \u001b[0;34m=\u001b[0m \u001b[0mself\u001b[0m\u001b[0;34m.\u001b[0m\u001b[0m_callable_fn\u001b[0m\u001b[0;34m(\u001b[0m\u001b[0;34m*\u001b[0m\u001b[0marray_vals\u001b[0m\u001b[0;34m)\u001b[0m\u001b[0;34m\u001b[0m\u001b[0m\n\u001b[0m\u001b[1;32m   2632\u001b[0m         \u001b[0;32mreturn\u001b[0m \u001b[0mfetched\u001b[0m\u001b[0;34m[\u001b[0m\u001b[0;34m:\u001b[0m\u001b[0mlen\u001b[0m\u001b[0;34m(\u001b[0m\u001b[0mself\u001b[0m\u001b[0;34m.\u001b[0m\u001b[0moutputs\u001b[0m\u001b[0;34m)\u001b[0m\u001b[0;34m]\u001b[0m\u001b[0;34m\u001b[0m\u001b[0m\n\u001b[1;32m   2633\u001b[0m \u001b[0;34m\u001b[0m\u001b[0m\n",
      "\u001b[0;32m~/anaconda3/lib/python3.6/site-packages/tensorflow/python/client/session.py\u001b[0m in \u001b[0;36m__call__\u001b[0;34m(self, *args)\u001b[0m\n\u001b[1;32m   1449\u001b[0m         \u001b[0;32mif\u001b[0m \u001b[0mself\u001b[0m\u001b[0;34m.\u001b[0m\u001b[0m_session\u001b[0m\u001b[0;34m.\u001b[0m\u001b[0m_created_with_new_api\u001b[0m\u001b[0;34m:\u001b[0m\u001b[0;34m\u001b[0m\u001b[0m\n\u001b[1;32m   1450\u001b[0m           return tf_session.TF_SessionRunCallable(\n\u001b[0;32m-> 1451\u001b[0;31m               self._session._session, self._handle, args, status, None)\n\u001b[0m\u001b[1;32m   1452\u001b[0m         \u001b[0;32melse\u001b[0m\u001b[0;34m:\u001b[0m\u001b[0;34m\u001b[0m\u001b[0m\n\u001b[1;32m   1453\u001b[0m           return tf_session.TF_DeprecatedSessionRunCallable(\n",
      "\u001b[0;31mKeyboardInterrupt\u001b[0m: "
     ]
    },
    {
     "data": {
      "image/png": "[encoded data removed]",
      "text/plain": [
       "<matplotlib.figure.Figure at 0x7f02e0163b00>"
      ]
     },
     "metadata": {},
     "output_type": "display_data"
    },
    {
     "data": {
      "image/png": "[encoded data removed]",
      "text/plain": [
       "<matplotlib.figure.Figure at 0x7f02e012cf28>"
      ]
     },
     "metadata": {},
     "output_type": "display_data"
    },
    {
     "data": {
      "image/png": "[encoded data removed]",
      "text/plain": [
       "<matplotlib.figure.Figure at 0x7f02e0163cf8>"
      ]
     },
     "metadata": {},
     "output_type": "display_data"
    },
    {
     "data": {
      "image/png": "[encoded data removed]",
      "text/plain": [
       "<matplotlib.figure.Figure at 0x7f02ddbbe0f0>"
      ]
     },
     "metadata": {},
     "output_type": "display_data"
    },
    {
     "data": {
      "image/png": "[encoded data removed]",
      "text/plain": [
       "<matplotlib.figure.Figure at 0x7f02ddbb52e8>"
      ]
     },
     "metadata": {},
     "output_type": "display_data"
    },
    {
     "data": {
      "image/png": "[encoded data removed]",
      "text/plain": [
       "<matplotlib.figure.Figure at 0x7f02ddb23c88>"
      ]
     },
     "metadata": {},
     "output_type": "display_data"
    },
    {
     "data": {
      "image/png": "[encoded data removed]",
      "text/plain": [
       "<matplotlib.figure.Figure at 0x7f02e012cf60>"
      ]
     },
     "metadata": {},
     "output_type": "display_data"
    },
    {
     "data": {
      "image/png": "[encoded data removed]",
      "text/plain": [
       "<matplotlib.figure.Figure at 0x7f02e0163be0>"
      ]
     },
     "metadata": {},
     "output_type": "display_data"
    },
    {
     "data": {
      "image/png": "[encoded data removed]",
      "text/plain": [
       "<matplotlib.figure.Figure at 0x7f02dd4ffb00>"
      ]
     },
     "metadata": {},
     "output_type": "display_data"
    },
    {
     "data": {
      "image/png": "[encoded data removed]",
      "text/plain": [
       "<matplotlib.figure.Figure at 0x7f02dd9fe710>"
      ]
     },
     "metadata": {},
     "output_type": "display_data"
    },
    {
     "data": {
      "image/png": "[encoded data removed]",
      "text/plain": [
       "<matplotlib.figure.Figure at 0x7f02dd3e1940>"
      ]
     },
     "metadata": {},
     "output_type": "display_data"
    },
    {
     "data": {
      "image/png": "[encoded data removed]",
      "text/plain": [
       "<matplotlib.figure.Figure at 0x7f02dd45fc88>"
      ]
     },
     "metadata": {},
     "output_type": "display_data"
    },
    {
     "data": {
      "image/png": "[encoded data removed]",
      "text/plain": [
       "<matplotlib.figure.Figure at 0x7f02dda86278>"
      ]
     },
     "metadata": {},
     "output_type": "display_data"
    },
    {
     "data": {
      "image/png": "[encoded data removed]",
      "text/plain": [
       "<matplotlib.figure.Figure at 0x7f02dd3c3400>"
      ]
     },
     "metadata": {},
     "output_type": "display_data"
    }
   ],
   "source": [
    "target = cations[0] #butane smiles\n",
    "parent_candidates = np.array([cations[1]]) #propanol smiles, numpy array\n",
    "\n",
    "def get_fitness(genes, target):\n",
    "    ms = [Chem.MolFromSmiles(target), Chem.MolFromSmiles(genes)]\n",
    "    fps = [FingerprintMols.FingerprintMol(x) for x in ms]\n",
    "    return DataStructs.FingerprintSimilarity(fps[0], fps[1]), None\n",
    "\n",
    "def fnGetFitness(genes, target):\n",
    "    return get_fitness(genes, target)\n",
    "\n",
    "def display(candidate, mutation, asdf):\n",
    "    print(\"{:>20}{:>15}\\t{:>15}\".format(mutation, \"{:3.4f}\".\n",
    "                                  format(candidate.Fitness),\n",
    "                                  candidate.Genes))\n",
    "    Draw.MolToMPL(Chem.MolFromSmiles(candidate.Genes), size=(100,100))\n",
    "\n",
    "def result_display(genes, target, mutation_attempts, sim_score,\n",
    "             molecular_relative):\n",
    "    mol = Chem.MolFromSmiles(genes)\n",
    "    print(\"{:>20}{:>15}\".format(\"number of atoms:\", mol.GetNumAtoms()))\n",
    "    print(\"{:>20}{:>15}\".format(\"mutation attempts:\", mutation_attempts))\n",
    "    \n",
    "geneSet = genetic.generate_geneset()\n",
    "optimalFitness, prediction = get_fitness(target, target)\n",
    "best = genetic.get_best(fnGetFitness, optimalFitness, geneSet,\n",
    "                        display, result_display, target,\n",
    "                        parent_candidates, mutate=vae_mutate)"
   ]
  },
  {
   "cell_type": "code",
   "execution_count": 22,
   "metadata": {},
   "outputs": [
    {
     "data": {
      "text/plain": [
       "\u001b[0;31mSignature:\u001b[0m \u001b[0mgenetic\u001b[0m\u001b[0;34m.\u001b[0m\u001b[0m_mutate\u001b[0m\u001b[0;34m(\u001b[0m\u001b[0mparent\u001b[0m\u001b[0;34m,\u001b[0m \u001b[0mgeneSet\u001b[0m\u001b[0;34m,\u001b[0m \u001b[0mget_fitness\u001b[0m\u001b[0;34m,\u001b[0m \u001b[0mtarget\u001b[0m\u001b[0;34m)\u001b[0m\u001b[0;34m\u001b[0m\u001b[0m\n",
       "\u001b[0;31mDocstring:\u001b[0m <no docstring>\n",
       "\u001b[0;31mFile:\u001b[0m      /media/wesleybeckner/weshhd/wes/Dropbox/Python/py3/gains/gains/engine.py\n",
       "\u001b[0;31mType:\u001b[0m      function\n"
      ]
     },
     "metadata": {},
     "output_type": "display_data"
    }
   ],
   "source": [
    "genetic._mutate?"
   ]
  },
  {
   "cell_type": "code",
   "execution_count": 23,
   "metadata": {},
   "outputs": [
    {
     "data": {
      "text/plain": [
       "\u001b[0;31mSignature:\u001b[0m \u001b[0mdecode_smiles\u001b[0m\u001b[0;34m(\u001b[0m\u001b[0mvae\u001b[0m\u001b[0;34m,\u001b[0m \u001b[0msmi\u001b[0m\u001b[0;34m,\u001b[0m \u001b[0mchar_to_index\u001b[0m\u001b[0;34m,\u001b[0m \u001b[0mtemp\u001b[0m\u001b[0;34m=\u001b[0m\u001b[0;36m0.5\u001b[0m\u001b[0;34m,\u001b[0m \u001b[0msmile_max_length\u001b[0m\u001b[0;34m=\u001b[0m\u001b[0;36m51\u001b[0m\u001b[0;34m)\u001b[0m\u001b[0;34m\u001b[0m\u001b[0m\n",
       "\u001b[0;31mDocstring:\u001b[0m\n",
       "vae: variational autoencoder to encode/decode input\n",
       "smi: smiles string to encode\n",
       "temp: temperature at which to perform sampling\n",
       "\u001b[0;31mFile:\u001b[0m      /media/wesleybeckner/weshhd/wes/Dropbox/Python/py3/generative_learners_salts/scripts/vae.py\n",
       "\u001b[0;31mType:\u001b[0m      function\n"
      ]
     },
     "metadata": {},
     "output_type": "display_data"
    }
   ],
   "source": [
    "decode_smiles?"
   ]
  },
  {
   "cell_type": "code",
   "execution_count": null,
   "metadata": {},
   "outputs": [
    {
     "name": "stdout",
     "output_type": "stream",
     "text": [
      "  starting structure         0.4293CCCn1cc[n+](c1C)C\n",
      " add_custom_fragment         0.4612CCCc1cn(CCC)c(C)[n+]1C\n",
      "  add_rdkit_fragment         0.4699CCCc1cn(CCC)c(C)[n+]1CC(C)=O\n",
      "            add_atom         0.4805CCCc1c(F)n(CCC)c(C)[n+]1CC(C)=O\n",
      "        replace_atom         0.4843CCBn1c(F)c(CCC)[n+](CC(C)=O)c1C\n",
      "         remove_atom         0.4862CCBn1c(F)c(CC)[n+](CC(C)=O)c1C\n",
      "         remove_atom         0.4881CCBn1c(F)c(CC)[n+](CC=O)c1C\n",
      "         remove_atom         0.4920CCBn1c(F)c(C)[n+](CC=O)c1C\n",
      "starting from new parent\n",
      " add_custom_fragment         0.4293CCCn1cc[n+](c1C)C\n",
      "  add_rdkit_fragment         0.4553CCCn1cc[n+](CNC(C)=O)c1C\n",
      "            add_atom         0.4615CCCn1cc[n+](CN(N)C(C)=O)c1C\n",
      "            add_atom         0.4637CCCn1cc[n+](CN(N)C(=O)CCl)c1C\n",
      "            add_atom         0.4659CCCn1cc[n+](CN(NC)C(=O)CCl)c1C\n",
      "            add_atom         0.4745CCCn1cc(S)[n+](CN(NC)C(=O)CCl)c1C\n",
      "  add_rdkit_fragment         0.4824CCCn1cc(S)[n+](CN(NCS(=O)(=O)Cl)C(=O)CCl)c1C\n",
      "         remove_atom         0.4843CCn1cc(S)[n+](CN(NCS(=O)(=O)Cl)C(=O)CCl)c1C\n",
      "        replace_atom         0.4861CCn1cc(S)[n+](CP(NCS(=O)(=O)Cl)C(=O)CCl)c1C\n",
      "            add_atom         0.4862CCn1cc(S)[n+](CP(C(=O)CCl)N(S)CS(=O)(=O)Cl)c1C\n",
      "         remove_atom         0.4900CCn1cc(S)[n+](CP(C(=O)CCl)N(S)CS(=O)(=O)Cl)c1\n",
      "         remove_atom         0.4920CCn1cc(S)[n+](CP(C(=O)CCl)N(S)C[SH](=O)=O)c1\n",
      "         remove_atom         0.4940Cn1cc(S)[n+](CP(C(=O)CCl)N(S)C[SH](=O)=O)c1\n",
      "        replace_atom         0.4960Cn1cc(S)[n+](CP(C(=O)CCl)N(S)N[SH](=O)=O)c1\n",
      "         remove_atom         0.5021Cn1cc[n+](CP(C(=O)CCl)N(S)N[SH](=O)=O)c1\n",
      "        replace_atom         0.5041Nn1cc[n+](CP(C(=O)CCl)N(S)N[SH](=O)=O)c1\n",
      "        replace_atom         0.5083O=C(CCl)P(C[n+]1ccn(Cl)c1)N(S)N[SH](=O)=O\n",
      "         remove_atom         0.5084CC(=O)P(C[n+]1ccn(Cl)c1)N(S)N[SH](=O)=O\n",
      "        replace_atom         0.5129CC(=O)P(C[n+]1ccn(Cl)c1)N(S)S[SH](=O)=O\n",
      "            add_atom         0.5149BCC(=O)P(C[n+]1ccn(Cl)c1)N(S)S[SH](=O)=O\n",
      "starting from new parent\n",
      "  add_rdkit_fragment         0.4293CCCn1cc[n+](c1C)C\n",
      "        replace_atom         0.4512CCCn1cc[n+](F)c1C\n",
      " add_custom_fragment         0.4574CCC(C)Cn1cc[n+](F)c1C\n",
      "  add_rdkit_fragment         0.4841CCC(C)C(n1cc[n+](F)c1C)S(C)(=O)=O\n",
      "            add_atom         0.4843CCC(C)C(n1c(Cl)c[n+](F)c1C)S(C)(=O)=O\n",
      "         remove_atom         0.4900CCC(C)C(n1c[n+](F)cc1Cl)S(C)(=O)=O\n",
      "         remove_atom         0.4940CCCC(n1c[n+](F)cc1Cl)S(C)(=O)=O\n",
      "         remove_atom         0.4979CCCC(n1c[n+](F)cc1Cl)[SH](=O)=O\n",
      "        replace_atom         0.4979CCCC(n1c[n+](F)cc1Cl)[SH](=O)=S\n",
      "        replace_atom         0.5000CCCC(n1c[n+](F)cc1Cl)[SH](=O)=P\n",
      "        replace_atom         0.5063CCCC(n1c[n+](F)cc1Cl)[SH](=P)=P\n",
      "         remove_atom         0.5085CCC(n1c[n+](F)cc1Cl)[SH](=P)=P\n",
      "         remove_atom         0.5116CCC(n1cc[n+](F)c1)[SH](=P)=P\n",
      " add_custom_fragment         0.5198CCCP=[SH](=P)C(CC)n1cc[n+](F)c1\n",
      "  add_rdkit_fragment         0.5286CCC(n1cc[n+](F)c1)[SH](=P)=PCCCS\n",
      "  add_rdkit_fragment         0.5307CCC(n1cc[n+](F)c1)[SH](=P)=PCCC(N)S\n",
      "  add_rdkit_fragment         0.5325CCC(n1cc[n+](F)c1)[SH](=P)=PCCC(N)SNC\n",
      "         remove_atom         0.5348CCC(n1cc[n+](F)c1)[SH](=P)=PCCC(N)SN\n",
      "starting from new parent\n",
      " add_custom_fragment         0.4293CCCn1cc[n+](c1C)C\n",
      " add_custom_fragment         0.4656CCCCc1cn(CCC)c(C)[n+]1C\n",
      "            add_atom         0.4677CCCCc1cn(CCCO)c(C)[n+]1C\n",
      " add_custom_fragment         0.4779CCCCc1cn(CCC(O)CC)c(C)[n+]1C\n",
      "  add_rdkit_fragment         0.4821CCC(O)CCn1cc(CCC(C)N=C=O)[n+](C)c1C\n",
      "  add_rdkit_fragment         0.4841CN=NC(C)C(O)CCn1cc(CCC(C)N=C=O)[n+](C)c1C\n",
      "            add_atom         0.4881CN=NC(C)C(O)C(Cl)Cn1cc(CCC(C)N=C=O)[n+](C)c1C\n",
      "        replace_atom         0.4900CN=NC(C)C(O)C(Cl)Cn1cc(CNC(C)N=C=O)[n+](C)c1C\n",
      "         remove_atom         0.4920CN=NC(C)C(O)C(Cl)Cn1cc(CNCN=C=O)[n+](C)c1C\n",
      "        replace_atom         0.4940CN=NC(C)C(O)C(Cl)Cn1cc(CNCB=C=O)[n+](C)c1C\n",
      "         remove_atom         0.4980CN=NC(C)C(O)CCn1cc(CNCB=C=O)[n+](C)c1C\n",
      "  add_rdkit_fragment         0.5020Cc1n(CCC(O)C(C)N=NCF)cc(CNCB=C=O)[n+]1C\n",
      "starting from new parent\n",
      "  add_rdkit_fragment         0.4293CCCn1cc[n+](c1C)C\n",
      "            add_atom         0.4566CCC(F)n1cc[n+](C)c1C\n",
      "        replace_atom         0.4843CSC(F)n1cc[n+](C)c1C\n",
      "  add_rdkit_fragment         0.4957CSC(F)n1cc[n+](C)c1CS\n",
      "            add_atom         0.5042CC[n+]1ccn(C(F)SC)c1CS\n",
      "         remove_atom         0.5132CC[n+]1ccn(C(F)SC)c1C\n",
      " add_custom_fragment         0.5169CCCC(C)[n+]1ccn(C(F)SC)c1C\n",
      "         remove_atom         0.5216CCCC[n+]1ccn(C(F)SC)c1C\n",
      "starting from new parent\n",
      "         remove_atom         0.4293CCCn1cc[n+](c1C)C\n",
      "         remove_atom         0.4360CCCn1cc[n+](C)c1\n",
      " add_custom_fragment         0.4722CCCCCn1cc[n+](C)c1\n",
      "  add_rdkit_fragment         0.4769CCCCCn1cc[n+](CN)c1\n",
      "        replace_atom         0.4922CCCCCn1cc[n+](CS)c1\n",
      "  add_rdkit_fragment         0.4954CCC(CCn1cc[n+](CS)c1)C(=O)OC\n",
      "        replace_atom         0.5157COC(=O)C(CCn1cc[n+](CS)c1)PC\n",
      "         remove_atom         0.5253CPC(CCn1cc[n+](CS)c1)C(=O)O\n",
      "            add_atom         0.5268CPC(CCn1cc[n+](CSF)c1)C(=O)O\n",
      "         remove_atom         0.5278CPC(C=O)CCn1cc[n+](CSF)c1\n",
      "         remove_atom         0.5288CPC(C=O)CCn1cc[n+](CS)c1\n",
      "  add_rdkit_fragment         0.5291CPC(C=O)CCn1cc[n+](CSS(C)=O)c1\n",
      "         remove_atom         0.5463CPC(C=O)CCn1cc[n+](CS[SH]=O)c1\n",
      "starting from new parent\n",
      "remove_rdkit_fragment         0.4293CCCn1cc[n+](c1C)C\n",
      "            add_atom         0.4796CCCn1c(C)c[n+](C)c1C\n",
      "  add_rdkit_fragment         0.4936C#CC(CC)n1c(C)c[n+](C)c1C\n",
      "  add_rdkit_fragment         0.5000C#CC(CC)n1c(C)c[n+](C)c1CN\n",
      "            add_atom         0.5042C#CC(CCC)n1c(C)c[n+](C)c1CN\n",
      "            add_atom         0.5062CCCC(C#CP)n1c(C)c[n+](C)c1CN\n",
      "starting from new parent\n",
      "         remove_atom         0.4293CCCn1cc[n+](c1C)C\n",
      "  add_rdkit_fragment         0.4756CCCn1cc(N)[n+](C)c1C\n",
      " add_custom_fragment         0.4978CCCCC(C)Cn1cc(N)[n+](C)c1C\n",
      "  add_rdkit_fragment         0.4979Cc1n(CC(C)CCC(C)S(N)(=O)=O)cc(N)[n+]1C\n",
      "         remove_atom         0.5043Cc1n(CC(C)CCCS(N)(=O)=O)cc(N)[n+]1C\n",
      "            add_atom         0.5063Cc1n(CC(CS)CCCS(N)(=O)=O)cc(N)[n+]1C\n",
      "  add_rdkit_fragment         0.5084Cc1n(CC(CS)CCCS(=O)(=O)NF)cc(N)[n+]1C\n",
      "         remove_atom         0.5111C[n+]1cn(CC(CS)CCCS(=O)(=O)NF)cc1N\n",
      "        replace_atom         0.5133Bc1cn(CC(CS)CCCS(=O)(=O)NF)c[n+]1C\n",
      "        replace_atom         0.5223Bc1cn(CC(CS)CCCS(=O)(=O)CF)c[n+]1C\n",
      "         remove_atom         0.5485C[n+]1ccn(CC(CS)CCCS(=O)(=O)CF)c1\n",
      "            add_atom         0.5571CC(F)S(=O)(=O)CCCC(CS)Cn1cc[n+](C)c1\n",
      "            add_atom         0.5634C[n+]1ccn(CC(CS)CCCS(=O)(=O)C(F)CP)c1\n",
      "starting from new parent\n",
      "            add_atom         0.4293CCCn1cc[n+](c1C)C\n",
      "            add_atom         0.4622CCC(N)n1cc[n+](C)c1C\n",
      "            add_atom         0.4684CCC(C)(N)n1cc[n+](C)c1C\n",
      "        replace_atom         0.4872Cc1n(C(C)(N)CF)cc[n+]1C\n",
      "            add_atom         0.4874CNC(C)(CF)n1cc[n+](C)c1C\n",
      " add_custom_fragment         0.4917CCC[n+]1ccn(C(C)(CF)NC)c1C\n",
      " add_custom_fragment         0.4939CCCNC(C)(CF)n1cc[n+](CCC)c1C\n",
      "        replace_atom         0.4980CCCNC(C)(CF)n1cc[n+](CCC)c1S\n",
      "         remove_atom         0.5021CCCNC(C)(C)n1cc[n+](CCC)c1S\n",
      "  add_rdkit_fragment         0.5041CCCNC(C)(C)n1cc[n+](CC(C)S)c1S\n",
      "  add_rdkit_fragment         0.5083CCCNC(C)(C)n1cc[n+](CC(S)CN=NC)c1S\n",
      "starting from new parent\n",
      "  add_rdkit_fragment         0.4293CCCn1cc[n+](c1C)C\n",
      "            add_atom         0.4591CCCn1cc(O)[n+](C)c1C\n",
      " add_custom_fragment         0.4722CCCCc1c(O)[n+](C)c(C)n1CCC\n",
      " add_custom_fragment         0.4745CCCCc1c(O)[n+](C)c(CCC)n1CCC\n",
      "        replace_atom         0.4803CCCCc1c(O)[n+](C)c(CCC)n1CNC\n",
      " add_custom_fragment         0.4824CCCCC(CCC)c1c(O)[n+](C)c(CCC)n1CNC\n",
      "        replace_atom         0.4843CCBC(CCCC)c1c(O)[n+](C)c(CCC)n1CNC\n",
      "        replace_atom         0.4862CCBC(BCCC)c1c(O)[n+](C)c(CCC)n1CNC\n",
      "         remove_atom         0.4880CCBC(BCCC)c1c[n+](C)c(CCC)n1CNC\n",
      "            add_atom         0.4900CCBC(BCCC)c1c[n+](C)c(CCC)n1C(N)NC\n",
      "         remove_atom         0.4920CCBC(BCCC)c1c[n+](C)c(CCC)n1C(N)N\n",
      "starting from new parent\n",
      "remove_custom_fragment         0.4293CCCn1cc[n+](c1C)C\n",
      " add_custom_fragment         0.4842CCCCC(CC)n1cc[n+](C)c1C\n",
      " add_custom_fragment         0.5065CCCC(CCC)C(CC)n1cc[n+](C)c1C\n",
      "            add_atom         0.5085CCCC(CC(C)S)C(CC)n1cc[n+](C)c1C\n",
      "            add_atom         0.5127BSC(C)CC(CCC)C(CC)n1cc[n+](C)c1C\n",
      "         remove_atom         0.5128BSCCC(CCC)C(CC)n1cc[n+](C)c1C\n",
      "         remove_atom         0.5152BSCCC(CC)C(CC)n1cc[n+](C)c1C\n",
      "            add_atom         0.5172CCC(CCSBP)C(CC)n1cc[n+](C)c1C\n",
      "         remove_atom         0.5195CCC(C(C)CCSBP)n1cc[n+](C)c1C\n",
      "         remove_atom         0.5198Cc1n(C(C)C(C)CCSBP)cc[n+]1C\n",
      "            add_atom         0.5216Cc1n(C(C)C(C)CCSBP)cc[n+]1CP\n",
      "            add_atom         0.5236Cc1n(C(C)C(C)CC(C)SBP)cc[n+]1CP\n",
      "starting from new parent\n",
      "         remove_atom         0.4293CCCn1cc[n+](c1C)C\n",
      "        replace_atom         0.4313CCCn1cc[n+](N)c1C\n",
      " add_custom_fragment         0.4748CCCn1c(CC)c[n+](N)c1C\n",
      " add_custom_fragment         0.4779CCCn1c(C(C)CC)c[n+](N)c1C\n",
      " add_custom_fragment         0.4783CCCn1c(C(C)CC)c[n+](NCC)c1C\n",
      " add_custom_fragment         0.4784CCCCC(CC)c1c[n+](NCC)c(C)n1CCC\n",
      "            add_atom         0.4805BC(CCC)C(CC)c1c[n+](NCC)c(C)n1CCC\n",
      "        replace_atom         0.4824BC(CCF)C(CC)c1c[n+](NCC)c(C)n1CCC\n",
      "        replace_atom         0.4843CCCn1c(C(CC)C(S)CCF)c[n+](NCC)c1C\n",
      "        replace_atom         0.4862CCCn1c(C(CC)C(S)CCF)c[n+](NCC)c1S\n",
      "         remove_atom         0.4900CCCn1c(C(CC)CCCF)c[n+](NCC)c1S\n",
      "         remove_atom         0.4940CCN[n+]1cc(C(CC)CCCF)n(CC)c1S\n",
      "         remove_atom         0.4960CCCC(CC)c1c[n+](NCC)c(S)n1CC\n",
      "starting from new parent\n",
      "remove_custom_fragment         0.4293CCCn1cc[n+](c1C)C\n",
      "  add_rdkit_fragment         0.4583CCCn1cc(NC)[n+](C)c1C\n",
      "  add_rdkit_fragment         0.4875CNc1cn(CC(C)S)c(C)[n+]1C\n",
      "         remove_atom         0.5023CNc1cn(CC(C)S)c[n+]1C\n",
      "         remove_atom         0.5097CC(S)Cn1cc(N)[n+](C)c1\n",
      "            add_atom         0.5140CC(S)Cn1cc(N)[n+](CS)c1\n",
      "  add_rdkit_fragment         0.5161CC(Cn1cc(N)[n+](CS)c1)SO\n",
      "            add_atom         0.5204CCC(Cn1cc(N)[n+](CS)c1)SO\n",
      "            add_atom         0.5221CCC(Cn1cc(N)[n+](CSS)c1)SO\n",
      "            add_atom         0.5310BSSC[n+]1cn(CC(CC)SO)cc1N\n",
      "  add_rdkit_fragment         0.5351BSSC[n+]1cn(CC(CCN=O)SO)cc1N\n",
      "starting from new parent\n",
      " add_custom_fragment         0.4293CCCn1cc[n+](c1C)C\n",
      " add_custom_fragment         0.4563CCCCCn1cc[n+](C)c1C\n",
      " add_custom_fragment         0.4699CCCCCn1c(CCC)c[n+](C)c1C\n",
      "  add_rdkit_fragment         0.4803CCCc1c[n+](C)c(C)n1CC(CCC)NS(C)(=O)=O\n",
      "         remove_atom         0.4841CCCC(Cn1c(CC)c[n+](C)c1C)NS(C)(=O)=O\n",
      "  add_rdkit_fragment         0.4862CCCC(Cn1c(CC)c[n+](C)c1C)(NS(C)(=O)=O)C1CC1\n",
      "         remove_atom         0.4900CCCC(Cn1c(C)c[n+](C)c1C)(NS(C)(=O)=O)C1CC1\n",
      " add_custom_fragment         0.4920CCCC(CC)C(Cn1c(C)c[n+](C)c1C)(NS(C)(=O)=O)C1CC1\n"
     ]
    }
   ],
   "source": [
    "import numpy as np\n",
    "from rdkit import DataStructs\n",
    "from rdkit.Chem.Fingerprints import FingerprintMols\n",
    "from rdkit.Chem import AllChem as Chem\n",
    "\n",
    "target = cations[0] \n",
    "parent_candidates = np.array([cations[1]])\n",
    "\n",
    "def get_fitness(genes, target):\n",
    "    ms = [Chem.MolFromSmiles(target), Chem.MolFromSmiles(genes)]\n",
    "    fps = [FingerprintMols.FingerprintMol(x) for x in ms]\n",
    "    return DataStructs.FingerprintSimilarity(fps[0], fps[1]), None\n",
    "\n",
    "def fnGetFitness(genes, target):\n",
    "    return get_fitness(genes, target)\n",
    "\n",
    "def display(candidate, mutation, asdf):\n",
    "    print(\"{:>20}{:>15}{:>15}\".format(mutation, \"{:3.4f}\".\n",
    "                                  format(candidate.Fitness),\n",
    "                                  candidate.Genes))\n",
    "\n",
    "def result_display(genes, target, mutation_attempts, sim_score,\n",
    "             molecular_relative):\n",
    "    mol = Chem.MolFromSmiles(genes)\n",
    "    print(\"{:>20}{:>15}\".format(\"number of atoms:\", mol.GetNumAtoms()))\n",
    "    print(\"{:>20}{:>15}\".format(\"mutation attempts:\", mutation_attempts))\n",
    "    \n",
    "geneSet = genetic.generate_geneset()\n",
    "optimalFitness, prediction = get_fitness(target, target)\n",
    "best = genetic.get_best(fnGetFitness, optimalFitness, geneSet,\n",
    "                        display, result_display, target,\n",
    "                        parent_candidates, mutate=genetic._mutate)"
   ]
  }
 ],
 "metadata": {
  "kernelspec": {
   "display_name": "Python 3",
   "language": "python",
   "name": "python3"
  },
  "language_info": {
   "codemirror_mode": {
    "name": "ipython",
    "version": 3
   },
   "file_extension": ".py",
   "mimetype": "text/x-python",
   "name": "python",
   "nbconvert_exporter": "python",
   "pygments_lexer": "ipython3",
   "version": "3.6.7"
  }
 },
 "nbformat": 4,
 "nbformat_minor": 2
}
