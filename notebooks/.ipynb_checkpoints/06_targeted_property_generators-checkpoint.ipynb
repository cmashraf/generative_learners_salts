{
 "cells": [
  {
   "cell_type": "code",
   "execution_count": 12,
   "metadata": {},
   "outputs": [],
   "source": [
    "import matplotlib.pylab as plt\n",
    "import numpy as np\n",
    "import seaborn as sns; sns.set()\n",
    "%matplotlib inline\n",
    "from os.path import join\n",
    "from IPython.display import clear_output, display\n",
    "\n",
    "import keras\n",
    "from keras import objectives\n",
    "from keras.callbacks import EarlyStopping\n",
    "from keras.models import Sequential, Model\n",
    "from keras.layers import Dense, Dropout, Input, Multiply, Add\n",
    "from keras.optimizers import Adam, Nadam\n",
    "from keras.models import load_model\n",
    "\n",
    "from numpy import array\n",
    "from numpy import argmax\n",
    "from sklearn.preprocessing import LabelEncoder\n",
    "from sklearn.preprocessing import OneHotEncoder\n",
    "import numpy as np\n",
    "from sklearn.model_selection import train_test_split\n",
    "from sklearn.decomposition import PCA\n",
    "from random import shuffle\n",
    "import pandas as pd\n",
    "import random\n",
    "\n",
    "#Keras build\n",
    "from keras import backend as K\n",
    "from keras.objectives import binary_crossentropy #objs or losses\n",
    "from keras.models import Model\n",
    "from keras.layers import Input, Dense, Lambda, Layer\n",
    "from keras.layers.core import Dense, Activation, Flatten, RepeatVector\n",
    "from keras.layers.wrappers import TimeDistributed\n",
    "from keras.layers.recurrent import GRU\n",
    "from keras.layers.convolutional import Convolution1D\n",
    "\n",
    "#chem\n",
    "from rdkit import Chem\n",
    "from rdkit.Chem import AllChem as Chem\n",
    "from rdkit.Chem.Fingerprints import FingerprintMols\n",
    "from rdkit import DataStructs\n",
    "from rdkit.Chem import Draw\n",
    "from rdkit.Chem import MACCSkeys\n",
    "import salty\n",
    "import gains as genetic\n",
    "\n",
    "#cation data\n",
    "cations = pd.read_csv('../data/cations.csv')\n",
    "cations = cations['smiles_string']\n",
    "salts = pd.read_csv('../data/salts.csv')\n",
    "salts = salts['smiles_string']\n",
    "categories = pd.read_csv('../data/categories.csv')\n",
    "categories = categories['category']\n",
    "coldic = pd.read_csv('../data/coldic.csv')\n",
    "coldic = coldic.to_dict(orient='records')[0]\n",
    "salt_coldic = pd.read_csv('../data/salt_coldic.csv')\n",
    "salt_coldic = salt_coldic.to_dict(orient='records')[0]\n",
    "salt_categories = pd.read_csv('../data/salt_categories.csv')\n",
    "salt_categories = salt_categories['category']\n",
    "density_coldic = pd.read_csv('../data/density_coldic.csv')\n",
    "density_coldic = density_coldic.to_dict(orient='records')[0]\n",
    "density_categories = pd.read_csv('../data/density_categories.csv')\n",
    "density_categories = density_categories['category']\n",
    "\n",
    "#supporting functions\n",
    "import sys\n",
    "sys.path.insert(0, '../')\n",
    "from scripts import *\n",
    "\n",
    "#training array info\n",
    "smile_max_length = 105\n",
    "import json\n",
    "f = open(\"../data/salt_char_to_index.json\",\"r\")\n",
    "ani_char_to_index = json.loads(f.read())\n",
    "ani_char_set = set(ani_char_to_index.keys())\n",
    "ani_char_list = list(ani_char_to_index.keys())\n",
    "ani_chars_in_dict = len(ani_char_list)\n",
    "ani_index_to_char = dict((i, c) for i, c in enumerate(ani_char_list))\n",
    "\n",
    "#training array info\n",
    "import json\n",
    "f = open(\"../data/gdb_char_to_index.json\",\"r\")\n",
    "cat_char_to_index = json.loads(f.read())\n",
    "cat_char_set = set(cat_char_to_index.keys())\n",
    "cat_char_list = list(cat_char_to_index.keys())\n",
    "cat_chars_in_dict = len(cat_char_list)\n",
    "cat_index_to_char = dict((i, c) for i, c in enumerate(cat_char_list))\n",
    "\n",
    "char_to_index = ani_char_to_index\n",
    "char_set = ani_char_set\n",
    "char_list = ani_char_list\n",
    "chars_in_dict = ani_chars_in_dict\n",
    "index_to_char = ani_index_to_char\n",
    "        \n",
    "gen3vae = TwoMoleculeVAE()\n",
    "gen3vae.create(char_set, char_set, qspr=True, weights_file='../models/gen3_2mol_1mil_GDB17_mix_pure_5.h5')"
   ]
  },
  {
   "cell_type": "markdown",
   "metadata": {},
   "source": [
    "# Load models"
   ]
  },
  {
   "cell_type": "code",
   "execution_count": 29,
   "metadata": {},
   "outputs": [],
   "source": [
    "gen1vae = MoleculeVAE()\n",
    "gen1vae.create(char_set, qspr=True, mol_inputs=2, weights_file='../models/gen1_2mol_1mil_GDB17_mix_pure_5.h5')\n",
    "# gen2vae = TwoMoleculeOneLatentVAE()\n",
    "# gen2vae.create(char_set, qspr=True, weights_file='../models/gen2_2mol_1mil_GDB17_mix_pure_5.h5')\n",
    "# gen2vae_density = TwoMoleculeOneLatentVAE()\n",
    "# gen2vae_density.create(char_set, qspr=True, weights_file='../models/gen2vae_density_30.h5')\n",
    "# gen3vae_density = TwoMoleculeVAE()\n",
    "# gen3vae_density.create(char_set, char_set, qspr=True, weights_file='../models/gen3vae_density_30.h5')"
   ]
  },
  {
   "cell_type": "code",
   "execution_count": 4,
   "metadata": {},
   "outputs": [
    {
     "name": "stdout",
     "output_type": "stream",
     "text": [
      "../models/gen2vae_cpt_10.h5      ../models/gen2vae_melting_point_10.h5\n",
      "../models/gen2vae_cpt_1.h5       ../models/gen2vae_melting_point_1.h5\n",
      "../models/gen2vae_density_10.h5  ../models/gen2vae_thermal_conductivity_1.h5\n",
      "../models/gen2vae_density_1.h5   ../models/gen2vae_viscosity_10.h5\n",
      "../models/gen2vae_density_30.h5  ../models/gen2vae_viscosity_1.h5\n"
     ]
    }
   ],
   "source": [
    "ls ../models/gen2vae*"
   ]
  },
  {
   "cell_type": "markdown",
   "metadata": {},
   "source": [
    "# Sample Structures"
   ]
  },
  {
   "cell_type": "code",
   "execution_count": 2,
   "metadata": {},
   "outputs": [
    {
     "name": "stdout",
     "output_type": "stream",
     "text": [
      "qspr output:\t1.1485072374343872\n",
      "cat seed:\tCCC[N+](C)(C)C\n",
      "cat sample:\tC[N+](C)(C)CCO\n",
      "ani seed:\tC(F)(F)(F)S(=O)(=O)[O-]\n",
      "attempts:\t13\n"
     ]
    },
    {
     "data": {
      "image/png": "[encoded data removed]",
      "text/plain": [
       "<matplotlib.figure.Figure at 0x7f7618663668>"
      ]
     },
     "metadata": {},
     "output_type": "display_data"
    },
    {
     "data": {
      "image/png": "[encoded data removed]",
      "text/plain": [
       "<matplotlib.figure.Figure at 0x7f760c7b2d30>"
      ]
     },
     "metadata": {},
     "output_type": "display_data"
    }
   ],
   "source": [
    "#two molecule vae\n",
    "attempts = 0\n",
    "while True:\n",
    "    attempts += 1\n",
    "    try:\n",
    "        seed1 = salts[random.randint(0,len(salts)-1)].split('.')[0]\n",
    "        seed2 = salts[random.randint(0,len(salts)-1)].split('.')[1]\n",
    "        for rindex, i in enumerate(gen3vae.autoencoder.predict([one_hot(seed1, char_to_index, smile_max_length=62),\n",
    "                                                     one_hot(seed2, char_to_index, smile_max_length=62)])):\n",
    "            string = \"\"\n",
    "            if len(i.shape) > 2:\n",
    "                i = i[0] #for qspr chemvae there is an extra dim\n",
    "            if rindex == 0:\n",
    "                for j in i:\n",
    "                    index = sample(j, temperature=max(0.1,random.random()*1))\n",
    "                    string += cat_index_to_char[index]    \n",
    "                sampled = Chem.MolFromSmiles(string)\n",
    "                cation = Chem.AddHs(sampled)\n",
    "                Chem.EmbedMolecule(cation, Chem.ETKDG())\n",
    "                Chem.UFFOptimizeMolecule(cation)\n",
    "                cation = Chem.RemoveHs(cation)\n",
    "                candidate = Chem.MolToSmiles(cation)\n",
    "        molseed = Chem.MolFromSmiles(seed1)\n",
    "        Chem.EmbedMolecule(molseed, Chem.ETKDG())\n",
    "        Chem.UFFOptimizeMolecule(molseed)\n",
    "        molseed = Chem.RemoveHs(molseed)\n",
    "        molseedsmi = Chem.MolToSmiles(molseed)\n",
    "        if molseedsmi == candidate:\n",
    "            continue\n",
    "        fig1 = Draw.MolToMPL(Chem.MolFromSmiles(candidate), size=(200,200))\n",
    "        fig2 = Draw.MolToMPL(Chem.MolFromSmiles(seed1), size=(200,200))\n",
    "        print(\"qspr output:\\t{}\".format(np.exp(i[0][0])))\n",
    "        print(\"cat seed:\\t{}\".format(seed1))\n",
    "        print(\"cat sample:\\t{}\".format(candidate))\n",
    "        print(\"ani seed:\\t{}\".format(seed2))\n",
    "        print(\"attempts:\\t{}\".format(attempts))\n",
    "        break\n",
    "    except:\n",
    "        pass"
   ]
  },
  {
   "cell_type": "markdown",
   "metadata": {},
   "source": [
    "# Search by Property"
   ]
  },
  {
   "cell_type": "markdown",
   "metadata": {},
   "source": [
    "The general setup-\n",
    "1. generate N structures of target Cp and p values from the VAE and GA (and maybe a VAE w/o QSPR --- use a separate QSPR --- this would be to show that the organization of the latent space is actually helping…)\n",
    "2. calculate ground-truth values using QM/MD\n",
    "3. compare the % of the found structures that were close to the target for each method."
   ]
  },
  {
   "cell_type": "markdown",
   "metadata": {},
   "source": [
    "So the table is:\n",
    "\n",
    "- **properties**: p, Cp\n",
    "- **models**: VAE, VAE+QSPR, EA\n",
    "- **number of**: total function calls, returned structures rdkit-sanitizable, returned gaussian structures, returned MD systems, % error of prediction\n",
    "\n",
    "The basic setup is here. we will want to, however, throw out structures where the Cp/p was far from our top 10 structure seeds (high Cp, low p)\n",
    "\n",
    "We seed all methods with the top 10 structures from our dataset. "
   ]
  },
  {
   "cell_type": "code",
   "execution_count": 16,
   "metadata": {},
   "outputs": [],
   "source": [
    "gen3vae_viscosity = TwoMoleculeVAE()\n",
    "gen3vae_viscosity.create(char_set, char_set, qspr=True, weights_file='../models/gen3vae_viscosity_30.h5')\n",
    "gen3vae_thermal = TwoMoleculeVAE()\n",
    "gen3vae_thermal.create(char_set, char_set, qspr=True, weights_file='../models/gen3vae_thermal_conductivity_30.h5')\n",
    "gen3vae_cpt = TwoMoleculeVAE()\n",
    "gen3vae_cpt.create(char_set, char_set, qspr=True, weights_file='../models/gen3vae_cpt_30.h5')\n",
    "gen3vae_density = TwoMoleculeVAE()\n",
    "gen3vae_density.create(char_set, char_set, qspr=True, weights_file='../models/gen3vae_density_30.h5')"
   ]
  },
  {
   "cell_type": "code",
   "execution_count": 24,
   "metadata": {},
   "outputs": [
    {
     "name": "stdout",
     "output_type": "stream",
     "text": [
      "Heat capacity at constant pressure, J/K/mol\n",
      "total salts in training data:\t1739\n",
      "unique salts:\t15\n",
      "unique cations:\t10\n",
      "min/max values:\t918.0000, 9000.0000\n",
      "\n",
      "salts sorted in descending order and the minimum value of the top 10 unique cations was returned\n"
     ]
    }
   ],
   "source": [
    "model_ID = ['cpt']\n",
    "salts, cations, target = return_top_cations(model_ID, return_min_values=True)"
   ]
  },
  {
   "cell_type": "code",
   "execution_count": 25,
   "metadata": {},
   "outputs": [
    {
     "name": "stdout",
     "output_type": "stream",
     "text": [
      "ani seed                  C(F)(F)(F)S(=O)(=O)[N-]S(=O)(=O)C(F)(F)F\n",
      "attempts                                                     12735\n",
      "candidate                 CCCCCCCC[P+](CCCCC)(CCCCCC)CC(CCC)CCCCCC\n",
      "cat seed                C(CCCCCCCC[P+](CCCCCC)(CCCCCC)CCCCCC)CCCCC\n",
      "rdkit qspr                                                 1162.57\n",
      "rdkit-md qspr                                                 1423\n",
      "salt             CCCCCCCC[P+](CCCCC)(CCCCCC)CC(CCC)CCCCCC.C(F)(...\n",
      "temperature                                                1.80039\n",
      "vae qspr                                                   1.04015\n",
      "Name: 99, dtype: object\n",
      "100/100 found\n"
     ]
    }
   ],
   "source": [
    "df_cpt_30_qspr = generate_solvent_vae(gen3vae_cpt, \n",
    "                     model_ID, \n",
    "                     target, \n",
    "                     exp_data=salts, \n",
    "                     qspr=True, \n",
    "                     find=100, \n",
    "                     optimalCutOff=target, \n",
    "                     greaterThanCutOff=True,\n",
    "                     md_model=['cpt_4'],\n",
    "                     verbose=1)"
   ]
  },
  {
   "cell_type": "code",
   "execution_count": null,
   "metadata": {},
   "outputs": [
    {
     "name": "stdout",
     "output_type": "stream",
     "text": [
      "Thermal conductivity, W/m/K\n",
      "total salts in training data:\t148\n",
      "unique salts:\t23\n",
      "unique cations:\t10\n",
      "min/max values:\t0.1667, 0.2380\n",
      "\n",
      "salts sorted in descending order and the minimum value of the top 10 unique cations was returned\n"
     ]
    }
   ],
   "source": [
    "model_ID = ['thermal_conductivity']\n",
    "salts, cations, target = return_top_cations(model_ID, return_min_values=True)"
   ]
  },
  {
   "cell_type": "code",
   "execution_count": null,
   "metadata": {},
   "outputs": [
    {
     "name": "stdout",
     "output_type": "stream",
     "text": [
      "ani seed                       N#C[B-](C#N)(C#N)C#N\n",
      "attempts                                      15359\n",
      "candidate                           CC[n+]1ccn(N)c1\n",
      "cat seed                            CC[n+]1cn(cc1)C\n",
      "rdkit qspr                                     0.17\n",
      "salt           CC[n+]1ccn(N)c1.N#C[B-](C#N)(C#N)C#N\n",
      "temperature                                 1.59592\n",
      "vae qspr                                   0.968168\n",
      "Name: 39, dtype: object\n",
      "40/100 found\n",
      "attempt 15600\n"
     ]
    }
   ],
   "source": [
    "df_thermal_30_qspr = generate_solvent_vae(gen3vae_thermal, \n",
    "                     model_ID, \n",
    "                     target, \n",
    "                     exp_data=salts, \n",
    "                     qspr=True, \n",
    "                     find=100, \n",
    "                     optimalCutOff=target, \n",
    "                     greaterThanCutOff=True,\n",
    "                     md_model=None,\n",
    "                     verbose=1)"
   ]
  },
  {
   "cell_type": "code",
   "execution_count": null,
   "metadata": {},
   "outputs": [],
   "source": [
    "model_ID = ['viscosity']\n",
    "salts, cations, target = return_top_cations(model_ID, return_min_values=False)"
   ]
  },
  {
   "cell_type": "code",
   "execution_count": null,
   "metadata": {},
   "outputs": [],
   "source": [
    "df_viscosity_30_qspr = generate_solvent_vae(gen3vae_viscosity, \n",
    "                     model_ID, \n",
    "                     target, \n",
    "                     exp_data=salts, \n",
    "                     qspr=True, \n",
    "                     find=100, \n",
    "                     optimalCutOff=target, \n",
    "                     greaterThanCutOff=False,\n",
    "                     md_model=None,\n",
    "                     verbose=1)"
   ]
  },
  {
   "cell_type": "code",
   "execution_count": null,
   "metadata": {},
   "outputs": [],
   "source": [
    "model_ID = ['density']\n",
    "salts, cations, target = return_top_cations(model_ID, return_min_values=False)"
   ]
  },
  {
   "cell_type": "code",
   "execution_count": null,
   "metadata": {},
   "outputs": [],
   "source": [
    "df_cpt_30_qspr = generate_solvent_vae(gen3vae_viscosity, \n",
    "                     model_ID, \n",
    "                     target, \n",
    "                     exp_data=salts, \n",
    "                     qspr=True, \n",
    "                     find=100, \n",
    "                     optimalCutOff=target, \n",
    "                     greaterThanCutOff=False,\n",
    "                     md_model=['density_4'],\n",
    "                     verbose=1)"
   ]
  },
  {
   "cell_type": "code",
   "execution_count": null,
   "metadata": {},
   "outputs": [],
   "source": [
    "gen3vae_viscosity = TwoMoleculeVAE()\n",
    "gen3vae_viscosity.create(char_set, char_set, qspr=True, weights_file='../models/gen3vae_viscosity_100.h5')\n",
    "gen3vae_thermal = TwoMoleculeVAE()\n",
    "gen3vae_thermal.create(char_set, char_set, qspr=True, weights_file='../models/gen3vae_thermal_conductivity_100.h5')\n",
    "gen3vae_cpt = TwoMoleculeVAE()\n",
    "gen3vae_cpt.create(char_set, char_set, qspr=True, weights_file='../models/gen3vae_cpt_100.h5')\n",
    "gen3vae_density = TwoMoleculeVAE()\n",
    "gen3vae_density.create(char_set, char_set, qspr=True, weights_file='../models/gen3vae_density_100.h5')"
   ]
  },
  {
   "cell_type": "code",
   "execution_count": null,
   "metadata": {},
   "outputs": [],
   "source": [
    "model_ID = ['cpt']\n",
    "salts, cations, target = return_top_cations(model_ID, return_min_values=True)"
   ]
  },
  {
   "cell_type": "code",
   "execution_count": null,
   "metadata": {},
   "outputs": [],
   "source": [
    "df_cpt_100_qspr = generate_solvent_vae(gen3vae_cpt, \n",
    "                     model_ID, \n",
    "                     target, \n",
    "                     exp_data=salts, \n",
    "                     qspr=True, \n",
    "                     find=100, \n",
    "                     optimalCutOff=target, \n",
    "                     greaterThanCutOff=True,\n",
    "                     md_model=['cpt_4'],\n",
    "                     verbose=1)"
   ]
  },
  {
   "cell_type": "code",
   "execution_count": null,
   "metadata": {},
   "outputs": [],
   "source": [
    "model_ID = ['thermal_conductivity']\n",
    "salts, cations, target = return_top_cations(model_ID, return_min_values=True)"
   ]
  },
  {
   "cell_type": "code",
   "execution_count": null,
   "metadata": {},
   "outputs": [],
   "source": [
    "df_thermal_100_qspr = generate_solvent_vae(gen3vae_thermal, \n",
    "                     model_ID, \n",
    "                     target, \n",
    "                     exp_data=salts, \n",
    "                     qspr=True, \n",
    "                     find=100, \n",
    "                     optimalCutOff=target, \n",
    "                     greaterThanCutOff=True,\n",
    "                     md_model=None,\n",
    "                     verbose=1)"
   ]
  },
  {
   "cell_type": "code",
   "execution_count": null,
   "metadata": {},
   "outputs": [],
   "source": [
    "model_ID = ['viscosity']\n",
    "salts, cations, target = return_top_cations(model_ID, return_min_values=False)"
   ]
  },
  {
   "cell_type": "code",
   "execution_count": null,
   "metadata": {},
   "outputs": [],
   "source": [
    "df_viscosity_100_qspr = generate_solvent_vae(gen3vae_viscosity, \n",
    "                     model_ID, \n",
    "                     target, \n",
    "                     exp_data=salts, \n",
    "                     qspr=True, \n",
    "                     find=100, \n",
    "                     optimalCutOff=target, \n",
    "                     greaterThanCutOff=False,\n",
    "                     md_model=None,\n",
    "                     verbose=1)"
   ]
  },
  {
   "cell_type": "code",
   "execution_count": null,
   "metadata": {},
   "outputs": [],
   "source": [
    "model_ID = ['density']\n",
    "salts, cations, target = return_top_cations(model_ID, return_min_values=False)"
   ]
  },
  {
   "cell_type": "code",
   "execution_count": null,
   "metadata": {},
   "outputs": [],
   "source": [
    "df_cpt_100_qspr = generate_solvent_vae(gen3vae_viscosity, \n",
    "                     model_ID, \n",
    "                     target, \n",
    "                     exp_data=salts, \n",
    "                     qspr=True, \n",
    "                     find=100, \n",
    "                     optimalCutOff=target, \n",
    "                     greaterThanCutOff=False,\n",
    "                     md_model=['density_4'],\n",
    "                     verbose=1)"
   ]
  },
  {
   "cell_type": "code",
   "execution_count": 10,
   "metadata": {},
   "outputs": [],
   "source": [
    "df_viscosity_no_qspr.to_csv('../data/df_gen3vae_viscosity_no_qspr_91102_function_calls', index=False)"
   ]
  }
 ],
 "metadata": {
  "kernelspec": {
   "display_name": "Python 3",
   "language": "python",
   "name": "python3"
  },
  "language_info": {
   "codemirror_mode": {
    "name": "ipython",
    "version": 3
   },
   "file_extension": ".py",
   "mimetype": "text/x-python",
   "name": "python",
   "nbconvert_exporter": "python",
   "pygments_lexer": "ipython3",
   "version": "3.6.7"
  }
 },
 "nbformat": 4,
 "nbformat_minor": 2
}
