{
 "cells": [
  {
   "cell_type": "markdown",
   "metadata": {},
   "source": [
    "# Example of Training a NN on ILThermo Data\n",
    "\n",
    "Start by importing some modules:"
   ]
  },
  {
   "cell_type": "code",
   "execution_count": 6,
   "metadata": {},
   "outputs": [],
   "source": [
    "import pandas as pd\n",
    "import salty\n",
    "import matplotlib.pyplot as plt\n",
    "import numpy as np\n",
    "import warnings\n",
    "warnings.filterwarnings('ignore')\n",
    "%matplotlib inline"
   ]
  },
  {
   "cell_type": "code",
   "execution_count": 431,
   "metadata": {},
   "outputs": [],
   "source": [
    "class dev_model():\n",
    "    \"\"\"\n",
    "    the dev_model is the properly formated object to be passed to machine\n",
    "    learning engine. The input features are all scaled and centered, the data\n",
    "    summary describes the distribution of the data (in terms of state variables\n",
    "    and output values).\n",
    "    \"\"\"\n",
    "    def __init__(self, coef_data, data_summary, data):\n",
    "        self.coef = coef_data\n",
    "        self.summary = data_summary\n",
    "        self.data = data"
   ]
  },
  {
   "cell_type": "code",
   "execution_count": 435,
   "metadata": {},
   "outputs": [],
   "source": [
    "import statistics\n",
    "import time\n",
    "from os.path import dirname, join\n",
    "import pandas as pd\n",
    "import sys\n",
    "import dill\n",
    "from math import inf\n",
    "from math import log\n",
    "from math import exp\n",
    "from sklearn.preprocessing import Imputer\n",
    "import numpy as np\n",
    "from sklearn.preprocessing import StandardScaler\n",
    "\n",
    "def aggregate_data(df, target, T=[0, inf], P=[0, inf], data_ranges=None,\n",
    "                   merge=\"overlap\", feature_type=None, impute=False,\n",
    "                   scale_center=True):\n",
    "    \"\"\"\n",
    "    Aggregates molecular data for model training\n",
    "\n",
    "    Parameters\n",
    "    ----------\n",
    "    data: list\n",
    "        density, cpt, and/or viscosity\n",
    "    T: array\n",
    "        desired min and max of temperature distribution\n",
    "    P: array\n",
    "        desired min and max of pressure distribution\n",
    "    data_ranges: array\n",
    "        desired min and max of property distribution(s)\n",
    "    merge: str\n",
    "        overlap or union, defaults to overlap. Merge type of property sets\n",
    "    feature_type: str\n",
    "        desired feature set, defaults to RDKit's 2D descriptor set\n",
    "\n",
    "    Returns\n",
    "    -----------\n",
    "    devmodel: dev_model obj\n",
    "        returns dev_model object containing scale/center information,\n",
    "        data summary, and the data frame\n",
    "    \"\"\"\n",
    "    merged = df\n",
    "    target_and_states = target + ['Temperature, K', 'Pressure, kPa']\n",
    "\n",
    "    if merge == \"overlap\":\n",
    "        merged.dropna(inplace=True)\n",
    "    # select state variable and data ranges\n",
    "    merged = merged.loc[merged[\"Temperature, K\"] < T[1]]\n",
    "    merged = merged.loc[merged[\"Temperature, K\"] > T[0]]\n",
    "    merged = merged.loc[merged[\"Pressure, kPa\"] < P[1]]\n",
    "    merged = merged.loc[merged[\"Pressure, kPa\"] > P[0]]\n",
    "    for index, item in enumerate(target):\n",
    "        if data_ranges:\n",
    "            merged = merged[merged[item] < data_ranges[index][1]]\n",
    "            merged = merged[merged[item] > data_ranges[index][0]]\n",
    "    merged.reset_index(drop=True, inplace=True)\n",
    "\n",
    "    # Create summary of dataset\n",
    "    unique_mixtures = merged.groupby([\"smiles-cation\", \"smiles-anion\", \"smiles-solvent\", \"mol fraction salt\"]).count().shape[0]\n",
    "    unique_systems = merged.groupby([\"smiles-cation\", \"smiles-anion\", \"smiles-solvent\"]).count().shape[0]\n",
    "    unique_cations = repr(merged[\"smiles-cation\"].unique())\n",
    "    unique_anions = repr(merged[\"smiles-anion\"].unique())\n",
    "    unique_solvents = repr(merged[\"smiles-solvent\"].unique())\n",
    "    actual_data_ranges = []\n",
    "    for index, item in enumerate(target_and_states):\n",
    "        actual_data_ranges.append(\"{} - {}\".format(\n",
    "            str(merged[item].min()), str(merged[item].max())))\n",
    "    summary = np.array([unique_mixtures, unique_systems, unique_cations, unique_anions, unique_solvents,\n",
    "                 merged.shape[0]])\n",
    "    summary = np.concatenate((summary, actual_data_ranges))\n",
    "\n",
    "    cols1 = [\"Unique mixtures\", \"Unique Systems\", \"Cations\", \"Anions\", \"Solvents\", \"Total datapoints\"]\n",
    "    cols = cols1 + target_and_states\n",
    "    data_summary = pd.DataFrame(summary, cols)\n",
    "\n",
    "    # scale and center\n",
    "    metaDf = merged.select_dtypes(include=[\"object\"])\n",
    "    dataDf = merged.select_dtypes(include=[np.number])\n",
    "    cols = dataDf.columns.tolist()\n",
    "    if impute:\n",
    "        imp = Imputer(missing_values='NaN', strategy=\"median\", axis=0)\n",
    "        X = imp.fit_transform(dataDf)\n",
    "        dataDf = pd.DataFrame(X, columns=cols)\n",
    "    instance = StandardScaler()\n",
    "    if scale_center:\n",
    "        for i in range(1, len(data) + 1):\n",
    "            dataDf.is_copy = False\n",
    "            dataDf.iloc[:, -i] = dataDf.iloc[:, -i].apply(lambda x:\n",
    "                                                          log(float(x)))\n",
    "        scaled_data = pd.DataFrame(instance.\n",
    "                                   fit_transform(dataDf.iloc[:, :-len(data)]),\n",
    "                                   columns=cols[:-len(data)])\n",
    "        df = pd.concat([scaled_data, dataDf.iloc[:, -len(data):], metaDf],\n",
    "                       axis=1)\n",
    "        mean_std_of_coeffs = pd.DataFrame([instance.mean_, instance.scale_],\n",
    "                                          columns=cols[:-len(data)])\n",
    "    else:\n",
    "        instance.fit(dataDf.iloc[:, :-len(data)])\n",
    "        df = pd.concat([dataDf, metaDf], axis=1)\n",
    "        mean_std_of_coeffs = pd.DataFrame([instance.mean_, instance.scale_],\n",
    "                                          columns=cols[:-len(data)])\n",
    "    devmodel = dev_model(mean_std_of_coeffs, data_summary, df)\n",
    "    return devmodel"
   ]
  },
  {
   "cell_type": "code",
   "execution_count": 510,
   "metadata": {},
   "outputs": [
    {
     "name": "stdout",
     "output_type": "stream",
     "text": [
      "Total training data: 1618\n",
      "Total testing data: 405\n"
     ]
    }
   ],
   "source": [
    "df = pd.read_csv('../development/mixture_heat_capacity_premodel.csv')\n",
    "target = ['Heat capacity at constant pressure, J/K/mol']\n",
    "T = [297, 316] # select state variable ranges according to manuscript\n",
    "P = [99, 103] # we will set MD simulation to 101 kPa and 298 K\n",
    "data_range = [[0, 2295]] #the cpt dataset has one outlier ~9,000 J/mol/K\n",
    "devmodel = aggregate_data(df, target, T=T, P=P, data_ranges=data_range)\n",
    "X_train, Y_train, X_test, Y_test = devmodel_to_array\\\n",
    "    (devmodel, train_fraction=0.8)\n",
    "devmodel.summary\n",
    "print(\"Total training data: {}\".format(X_train.shape[0]))\n",
    "print(\"Total testing data: {}\".format(X_test.shape[0]))"
   ]
  },
  {
   "cell_type": "code",
   "execution_count": 500,
   "metadata": {},
   "outputs": [],
   "source": [
    "def devmodel_to_array(model_name, train_fraction=1):\n",
    "    \"\"\"\n",
    "    a standardized method of turning a dev_model object into training and\n",
    "    testing arrays\n",
    "\n",
    "    Parameters\n",
    "    ----------\n",
    "    model_name: dev_model\n",
    "        the dev_model object to be interrogated\n",
    "    train_fraction: int\n",
    "        the fraction to be reserved for training\n",
    "\n",
    "    Returns\n",
    "    ----------\n",
    "    X_train: array\n",
    "        the input training array\n",
    "    X_test: array\n",
    "        the input testing array\n",
    "    Y_train: array\n",
    "        the output training array\n",
    "    Y_test: array\n",
    "        the output testing array\n",
    "    \"\"\"\n",
    "    model_outputs = -8 + model_name.summary.shape[0]\n",
    "    devmodel = model_name\n",
    "    rawdf = devmodel.data\n",
    "    rawdf = rawdf.sample(frac=1)\n",
    "    datadf = rawdf.select_dtypes(include=[np.number])\n",
    "\n",
    "    data = np.array(datadf)\n",
    "\n",
    "    n = data.shape[0]\n",
    "    d = data.shape[1]\n",
    "    d -= model_outputs\n",
    "    n_train = int(n * train_fraction)  # set fraction for training\n",
    "    n_test = n - n_train\n",
    "\n",
    "    X_train = np.zeros((n_train, d))  # prepare train/test arrays\n",
    "    X_test = np.zeros((n_test, d))\n",
    "    Y_train = np.zeros((n_train, model_outputs))\n",
    "    Y_test = np.zeros((n_test, model_outputs))\n",
    "    X_train[:] = data[:n_train, :-model_outputs]\n",
    "    Y_train[:] = (data[:n_train, -model_outputs:].astype(float))\n",
    "    X_test[:] = data[n_train:, :-model_outputs]\n",
    "    Y_test[:] = (data[n_train:, -model_outputs:].astype(float))\n",
    "    return X_train, Y_train, X_test, Y_test"
   ]
  },
  {
   "cell_type": "code",
   "execution_count": 477,
   "metadata": {},
   "outputs": [],
   "source": [
    "def merge_duplicates(devmodel, target, keep_descriptors=False):\n",
    "    \"\"\"\n",
    "    Identifies repeated experimental values and returns mean values for those\n",
    "    data along with their standard deviation. Only aggregates experimental\n",
    "    values that have been acquired at the same temperature and pressure.\n",
    "\n",
    "    Parameters\n",
    "    ----------\n",
    "    model_name: dev_model\n",
    "        the dev_model object to be interrogated\n",
    "    keep_descriptors: boolean, default False\n",
    "        if True descriptors will be included in the output DataFrame\n",
    "\n",
    "    Returns\n",
    "    -----------\n",
    "    out: dataframe\n",
    "        pandas DataFrame of the original data where repeated measurements\n",
    "        have been averaged and their variance stored in a separate column\n",
    "    \"\"\"\n",
    "    model_outputs = len(target)\n",
    "    cols = devmodel.data.columns\n",
    "    for index, item in enumerate(target):\n",
    "        devmodel.data[item] = \\\n",
    "            devmodel.data[item].apply(\n",
    "            lambda x: exp(float(x)))\n",
    "    output_val = pd.DataFrame()\n",
    "    output_xtd = pd.DataFrame()\n",
    "    for index, item in enumerate(target):\n",
    "        val = devmodel.data.groupby([\"smiles-cation\", \"smiles-anion\", \"smiles-solvent\", \"mol fraction salt\"]\n",
    "                                    )[item].mean().\\\n",
    "            reset_index()\n",
    "        xtd = devmodel.data.groupby([\"smiles-cation\", \"smiles-anion\", \"smiles-solvent\", \"mol fraction salt\"]\n",
    "                                    )[item].std().\\\n",
    "            reset_index()\n",
    "        if index == 0:\n",
    "            output_val = val\n",
    "            output_xtd = xtd\n",
    "        else:\n",
    "            output_val = pd.merge(output_val, val)\n",
    "            output_xtd = pd.merge(output_xtd, xtd)\n",
    "    size = devmodel.data.groupby([\"smiles-cation\", \"smiles-anion\", \"smiles-solvent\", \"mol fraction salt\"]\n",
    "                                    )[item].count().\\\n",
    "        reset_index()\n",
    "    cations = devmodel.data.groupby([\"smiles-cation\", \"smiles-anion\", \"smiles-solvent\", \"mol fraction salt\"]\n",
    "                                    )['name-cation'].first().reset_index()\n",
    "    anions = devmodel.data.groupby([\"smiles-cation\", \"smiles-anion\", \"smiles-solvent\", \"mol fraction salt\"]\n",
    "                                   )['name-anion'].first().reset_index()\n",
    "    solvents = devmodel.data.groupby([\"smiles-cation\", \"smiles-anion\", \"smiles-solvent\", \"mol fraction salt\"]\n",
    "                                   )['name-solvent'].first().reset_index()\n",
    "\n",
    "    size.columns.values[-1] = \"count\"\n",
    "\n",
    "    unique_mixtures = devmodel.data.groupby([\"smiles-cation\", \"smiles-anion\", \"smiles-solvent\", \"mol fraction salt\"]).count().shape[0]\n",
    "    unique_systems = devmodel.data.groupby([\"smiles-cation\", \"smiles-anion\", \"smiles-solvent\"]).count().shape[0]\n",
    "\n",
    "    print(\"Identified {} unique mixtures in {} datapoints\".\n",
    "      format(unique_mixtures, devmodel.data.shape[0]))\n",
    "\n",
    "    out = pd.merge(output_val, output_xtd,\n",
    "                   on=[\"smiles-cation\", \"smiles-anion\", \"smiles-solvent\", \"mol fraction salt\"],\n",
    "                   suffixes=['_mean', '_std'])\n",
    "    out = pd.merge(out, size)\n",
    "    out = pd.merge(out, cations)\n",
    "    out = pd.merge(out, anions)\n",
    "    out = pd.merge(out, solvents)\n",
    "    if keep_descriptors:\n",
    "        from rdkit import Chem\n",
    "        from rdkit.ML.Descriptors.MoleculeDescriptors import\\\n",
    "            MolecularDescriptorCalculator as calculator\n",
    "\n",
    "        solvent_di = {'water': 'O',\n",
    "                      'urea': 'NC(N)=O',\n",
    "                      'ethanol': 'OCC',\n",
    "                      'methanol': 'OC',\n",
    "                      'glycerol': 'C(C(CO)O)O',\n",
    "                      '1,2-ethanediol': 'C(CO)O',\n",
    "                      'propan-1-ol': 'CCCO',\n",
    "                      'octan-1-ol': 'CCCCCCCCO',\n",
    "                      'acetonitrile': 'CC#N',\n",
    "                      'nitromethane': 'C[N+](=O)[O-]',\n",
    "                      'N-methylaniline': 'CNC1=CC=CC=C1',\n",
    "                      '2-methylaniline': 'CC1=CC=CC=C1N',\n",
    "                      'aniline': 'C1=CC=C(C=C1)N',\n",
    "                      'cyclopentanone': 'C1CCC(=O)C1',\n",
    "                      'cyclohexanone': 'C1CCC(=O)CC1',\n",
    "                      'pyridine': 'C1=CC=NC=C1',\n",
    "                      '2-pyrrolidinone': 'C1CC(=O)NC1',\n",
    "                      'N-methylpyrrolidone': 'CN1CCCC1=O',\n",
    "                      'bromobenzene': 'C1=CC=C(C=C1)Br',\n",
    "                      'butan-1-ol': 'CCCCO',\n",
    "                      'propan-2-ol': 'CC(C)O'\n",
    "                     }\n",
    "\n",
    "        old = pd.DataFrame()\n",
    "        deslist = salty.load_data(\"cationDescriptors.csv\").columns[2:]\n",
    "        for index, item in enumerate(solvent_di):\n",
    "            mol = Chem.MolFromSmiles(solvent_di[item])\n",
    "            feature_vector = [item, solvent_di[item]]\n",
    "            for desc in deslist:\n",
    "                feature_vector.append(calculator([desc]).CalcDescriptors(mol)[0])\n",
    "            new = pd.DataFrame(feature_vector).T\n",
    "            new.columns = [str(i) + '-solvent' for i in salty.load_data(\"cationDescriptors.csv\").columns]\n",
    "            new = pd.concat([new, old], axis=0, sort=False)\n",
    "            old = new\n",
    "        solventDescriptors = old\n",
    "\n",
    "        cationDescriptors = salty.load_data(\"cationDescriptors.csv\")\n",
    "        cationDescriptors.columns = [str(col) + '-cation' for\n",
    "                                     col in cationDescriptors.columns]\n",
    "        anionDescriptors = salty.load_data(\"anionDescriptors.csv\")\n",
    "        anionDescriptors.columns = [str(col) + '-anion' for\n",
    "                                    col in anionDescriptors.columns]\n",
    "        new_df = pd.merge(cationDescriptors, out,\n",
    "                          on=[\"name-cation\", \"smiles-cation\"], how=\"right\")\n",
    "        new_df = pd.merge(anionDescriptors, new_df,\n",
    "                          on=[\"name-anion\", \"smiles-anion\"], how=\"right\")\n",
    "        new_df = pd.merge(solventDescriptors, new_df, on=\"name-solvent\", how=\"right\")\n",
    "        new_df.dropna(inplace=True) #remove entries not in smiles database\n",
    "        out = new_df\n",
    "    return out"
   ]
  },
  {
   "cell_type": "code",
   "execution_count": 491,
   "metadata": {},
   "outputs": [
    {
     "name": "stdout",
     "output_type": "stream",
     "text": [
      "Identified 643 unique mixtures in 2023 datapoints\n"
     ]
    }
   ],
   "source": [
    "devmodel = aggregate_data(df, target, T=T, P=P, data_ranges=data_range)\n",
    "merged = merge_duplicates(devmodel, target)"
   ]
  },
  {
   "cell_type": "code",
   "execution_count": 492,
   "metadata": {},
   "outputs": [
    {
     "name": "stdout",
     "output_type": "stream",
     "text": [
      "IL systems with three or more datapoints: 528\n",
      "average relative std: 1.3\n"
     ]
    }
   ],
   "source": [
    "merged.dropna(inplace = True)\n",
    "merged = merged.loc[merged['count'] >= 3]\n",
    "print(\"IL systems with three or more datapoints: {}\".format(merged.shape[0]))\n",
    "print(\"average relative std: {:.1f}\".format(np.mean(merged['Heat capacity at constant pressure, J/K/mol_std']/\n",
    "                                         merged['Heat capacity at constant pressure, J/K/mol_mean']*100)))"
   ]
  },
  {
   "cell_type": "markdown",
   "metadata": {},
   "source": [
    "Our models were trained with keras, using a tensor flow backend. "
   ]
  },
  {
   "cell_type": "code",
   "execution_count": 502,
   "metadata": {},
   "outputs": [
    {
     "name": "stdout",
     "output_type": "stream",
     "text": [
      "Epoch 00450: early stopping\n",
      "405/405 [==============================] - 0s 272us/step\n",
      "1618/1618 [==============================] - 0s 41us/step\n",
      "mean_squared_error: 0.27% for train data\n",
      "mean_squared_error: 0.30% for test set\n"
     ]
    }
   ],
   "source": [
    "from keras.layers import Dense, Dropout, Input\n",
    "from keras.models import Model, Sequential\n",
    "from keras.optimizers import Nadam\n",
    "from keras.callbacks import EarlyStopping\n",
    "\n",
    "early = EarlyStopping(monitor='mean_squared_error', patience=50, verbose=1)\n",
    "model = Sequential()\n",
    "model.add(Dense(100, activation='relu', input_dim=X_train.shape[1]))\n",
    "model.add(Dense(100, activation='relu', input_dim=X_train.shape[1]))\n",
    "model.add(Dropout(0.5))\n",
    "model.add(Dense(1, activation='linear'))\n",
    "model.compile(optimizer=\"adam\",\n",
    "              loss=\"mean_squared_error\",\n",
    "              metrics=['mse'])\n",
    "model.fit(X_train,Y_train,epochs=10000,verbose=False,callbacks=[early])\n",
    "test_scores = model.evaluate(X_test, Y_test) \n",
    "train_scores = model.evaluate(X_train, Y_train)\n",
    "print(\"%s: %.2f%% for train data\" % (model.metrics_names[1], train_scores[1]*100))\n",
    "print(\"%s: %.2f%% for test set\" % (model.metrics_names[1], test_scores[1]*100))"
   ]
  },
  {
   "cell_type": "code",
   "execution_count": 503,
   "metadata": {},
   "outputs": [],
   "source": [
    "def coeff_determination(y_true, y_pred):\n",
    "    yhat = y_pred\n",
    "    y = y_true\n",
    "    ybar = np.sum(y)/len(y)  \n",
    "    ssreg = np.sum((yhat-ybar)**2)  \n",
    "    sstot = np.sum((y - ybar)**2)   \n",
    "    ssres = np.sum((y-yhat)**2)\n",
    "    results = 1 - (ssres / sstot)\n",
    "    return results"
   ]
  },
  {
   "cell_type": "code",
   "execution_count": 504,
   "metadata": {},
   "outputs": [
    {
     "name": "stdout",
     "output_type": "stream",
     "text": [
      "R square for test data: 0.99\n",
      "R square for train data: 0.99\n"
     ]
    }
   ],
   "source": [
    "print('R square for test data: {:.2f}'.format(coeff_determination(np.exp(Y_test), np.exp(model.predict(X_test)))))\n",
    "print('R square for train data: {:.2f}'.format(coeff_determination(np.exp(Y_train), np.exp(model.predict(X_train)))))"
   ]
  },
  {
   "cell_type": "code",
   "execution_count": 505,
   "metadata": {},
   "outputs": [],
   "source": [
    "def raad(y_true, y_pred):\n",
    "    return np.sum(np.abs((y_pred-y_true)/y_true))/len(y_true)*100"
   ]
  },
  {
   "cell_type": "code",
   "execution_count": 506,
   "metadata": {},
   "outputs": [
    {
     "name": "stdout",
     "output_type": "stream",
     "text": [
      "RAAD for test data: 3.68\n",
      "RAAD for train data: 3.54\n"
     ]
    }
   ],
   "source": [
    "print('RAAD for test data: {:.2f}'.format(raad(np.exp(Y_test), np.exp(model.predict(X_test)))))\n",
    "print('RAAD for train data: {:.2f}'.format(raad(np.exp(Y_train), np.exp(model.predict(X_train)))))"
   ]
  },
  {
   "cell_type": "code",
   "execution_count": 507,
   "metadata": {},
   "outputs": [],
   "source": [
    "def rmse(y_true, y_pred):\n",
    "    return np.sqrt(np.sum((y_pred-y_true)**2)/len(y_true))"
   ]
  },
  {
   "cell_type": "code",
   "execution_count": 508,
   "metadata": {},
   "outputs": [
    {
     "name": "stdout",
     "output_type": "stream",
     "text": [
      "RMSE for test data: 10.92\n",
      "RMSE for train data: 10.07\n"
     ]
    }
   ],
   "source": [
    "print('RMSE for test data: {:.2f}'.format(rmse(np.exp(Y_test), np.exp(model.predict(X_test)))))\n",
    "print('RMSE for train data: {:.2f}'.format(rmse(np.exp(Y_train), np.exp(model.predict(X_train)))))"
   ]
  },
  {
   "cell_type": "code",
   "execution_count": 509,
   "metadata": {},
   "outputs": [
    {
     "data": {
      "image/png": "[encoded data removed]",
      "text/plain": [
       "<Figure size 900x900 with 1 Axes>"
      ]
     },
     "metadata": {},
     "output_type": "display_data"
    }
   ],
   "source": [
    "X=X_test\n",
    "Y=Y_test\n",
    "with plt.style.context('seaborn-whitegrid'):\n",
    "    fig=plt.figure(figsize=(3,3), dpi=300)\n",
    "    ax=fig.add_subplot(111)\n",
    "    minval = np.min([np.exp(model.predict(X)[:]), np.exp(Y)[:]])\n",
    "    maxval = np.max([np.exp(model.predict(X)[:]), np.exp(Y)[:]])\n",
    "    buffer = (maxval - minval) / 100 * 2\n",
    "    minval = minval - buffer\n",
    "    maxval = maxval + buffer\n",
    "    ax.plot([minval, maxval], [minval, maxval], linestyle=\"-\",\n",
    "            label=None, c=\"black\", linewidth=1)\n",
    "    ax.plot(np.exp(Y)[:],np.exp(model.predict(X))[:],\\\n",
    "            marker=\"*\",linestyle=\"\",alpha=0.4)\n",
    "    ax.set_ylabel(\"Predicted $C_{pt}$ $(K/J/mol)$\")\n",
    "    ax.set_xlabel(\"Actual $C_{pt}$ $(K/J/mol)$\")\n",
    "    ax.grid()\n",
    "    plt.tight_layout()"
   ]
  },
  {
   "cell_type": "markdown",
   "metadata": {},
   "source": [
    "## Density"
   ]
  },
  {
   "cell_type": "code",
   "execution_count": 511,
   "metadata": {},
   "outputs": [],
   "source": [
    "df = pd.read_csv('../development/mixture_density_premodel.csv')"
   ]
  },
  {
   "cell_type": "code",
   "execution_count": 518,
   "metadata": {},
   "outputs": [
    {
     "name": "stdout",
     "output_type": "stream",
     "text": [
      "['Specific density, kg/m<SUP>3</SUP>']\n"
     ]
    }
   ],
   "source": [
    "target = [df.columns[-2]]\n",
    "print(target)"
   ]
  },
  {
   "cell_type": "code",
   "execution_count": 523,
   "metadata": {},
   "outputs": [
    {
     "name": "stdout",
     "output_type": "stream",
     "text": [
      "Total training data: 25824\n",
      "Total testing data: 6457\n"
     ]
    },
    {
     "data": {
      "text/html": [
       "<div>\n",
       "<style scoped>\n",
       "    .dataframe tbody tr th:only-of-type {\n",
       "        vertical-align: middle;\n",
       "    }\n",
       "\n",
       "    .dataframe tbody tr th {\n",
       "        vertical-align: top;\n",
       "    }\n",
       "\n",
       "    .dataframe thead th {\n",
       "        text-align: right;\n",
       "    }\n",
       "</style>\n",
       "<table border=\"1\" class=\"dataframe\">\n",
       "  <thead>\n",
       "    <tr style=\"text-align: right;\">\n",
       "      <th></th>\n",
       "      <th>0</th>\n",
       "    </tr>\n",
       "  </thead>\n",
       "  <tbody>\n",
       "    <tr>\n",
       "      <th>Unique mixtures</th>\n",
       "      <td>8546</td>\n",
       "    </tr>\n",
       "    <tr>\n",
       "      <th>Unique Systems</th>\n",
       "      <td>446</td>\n",
       "    </tr>\n",
       "    <tr>\n",
       "      <th>Cations</th>\n",
       "      <td>array(['CCCCCCCCn1cc[n+](c1)C', 'CCCCCCn1cc[n+...</td>\n",
       "    </tr>\n",
       "    <tr>\n",
       "      <th>Anions</th>\n",
       "      <td>array(['[B-](F)(F)(F)F', 'F[P-](F)(F)(F)(F)F',...</td>\n",
       "    </tr>\n",
       "    <tr>\n",
       "      <th>Solvents</th>\n",
       "      <td>array(['CC(C)O', 'CCCCO', 'CN1CCCC1=O', 'C1CC(...</td>\n",
       "    </tr>\n",
       "    <tr>\n",
       "      <th>Total datapoints</th>\n",
       "      <td>32281</td>\n",
       "    </tr>\n",
       "    <tr>\n",
       "      <th>Specific density, kg/m&lt;SUP&gt;3&lt;/SUP&gt;</th>\n",
       "      <td>550.0 - 1546.6</td>\n",
       "    </tr>\n",
       "    <tr>\n",
       "      <th>Temperature, K</th>\n",
       "      <td>269.1 - 473.15</td>\n",
       "    </tr>\n",
       "    <tr>\n",
       "      <th>Pressure, kPa</th>\n",
       "      <td>96.7 - 40120.0</td>\n",
       "    </tr>\n",
       "  </tbody>\n",
       "</table>\n",
       "</div>"
      ],
      "text/plain": [
       "                                                                                    0\n",
       "Unique mixtures                                                                  8546\n",
       "Unique Systems                                                                    446\n",
       "Cations                             array(['CCCCCCCCn1cc[n+](c1)C', 'CCCCCCn1cc[n+...\n",
       "Anions                              array(['[B-](F)(F)(F)F', 'F[P-](F)(F)(F)(F)F',...\n",
       "Solvents                            array(['CC(C)O', 'CCCCO', 'CN1CCCC1=O', 'C1CC(...\n",
       "Total datapoints                                                                32281\n",
       "Specific density, kg/m<SUP>3</SUP>                                     550.0 - 1546.6\n",
       "Temperature, K                                                         269.1 - 473.15\n",
       "Pressure, kPa                                                          96.7 - 40120.0"
      ]
     },
     "execution_count": 523,
     "metadata": {},
     "output_type": "execute_result"
    }
   ],
   "source": [
    "T = [297, 316] # select state variable ranges according to manuscript\n",
    "P = [99, 102] # we will set MD simulation to 101 kPa and 298 K\n",
    "data_range = [[0, 10095]] #the cpt dataset has one outlier ~9,000 J/mol/K\n",
    "devmodel = aggregate_data(df, target, T=T, P=P, data_ranges=data_range)\n",
    "X_train, Y_train, X_test, Y_test = devmodel_to_array\\\n",
    "    (devmodel, train_fraction=0.8)\n",
    "print(\"Total training data: {}\".format(X_train.shape[0]))\n",
    "print(\"Total testing data: {}\".format(X_test.shape[0]))\n",
    "devmodel.summary"
   ]
  },
  {
   "cell_type": "code",
   "execution_count": 526,
   "metadata": {},
   "outputs": [
    {
     "name": "stdout",
     "output_type": "stream",
     "text": [
      "Identified 8545 unique mixtures in 32281 datapoints\n"
     ]
    }
   ],
   "source": [
    "merged = merge_duplicates(devmodel, target)"
   ]
  },
  {
   "cell_type": "code",
   "execution_count": 527,
   "metadata": {},
   "outputs": [
    {
     "name": "stdout",
     "output_type": "stream",
     "text": [
      "IL systems with three or more datapoints: 5722\n",
      "average % std: 5.83\n"
     ]
    }
   ],
   "source": [
    "merged.dropna(inplace = True)\n",
    "print(\"IL systems with three or more datapoints: {}\".format(merged.shape[0]))\n",
    "print(\"average % std: {:.2f}\".format(np.mean(merged['Specific density, kg/m<SUP>3</SUP>_std']/\n",
    "                                         merged['Specific density, kg/m<SUP>3</SUP>_mean']*100)))"
   ]
  },
  {
   "cell_type": "code",
   "execution_count": null,
   "metadata": {},
   "outputs": [],
   "source": [
    "from keras.layers import Dense, Dropout, Input\n",
    "from keras.models import Model, Sequential\n",
    "from keras.optimizers import Nadam\n",
    "from keras.callbacks import EarlyStopping\n",
    "\n",
    "early = EarlyStopping(monitor='mean_squared_error', patience=50, verbose=1)\n",
    "model = Sequential()\n",
    "model.add(Dense(100, activation='relu', input_dim=X_train.shape[1]))\n",
    "model.add(Dense(100, activation='relu', input_dim=X_train.shape[1]))\n",
    "model.add(Dropout(0.5))\n",
    "model.add(Dense(1, activation='linear'))\n",
    "model.compile(optimizer=\"adam\",\n",
    "              loss=\"mean_squared_error\",\n",
    "              metrics=['mse'])\n",
    "model.fit(X_train,Y_train,epochs=10000,verbose=False,callbacks=[early])\n",
    "test_scores = model.evaluate(X_test, Y_test) \n",
    "train_scores = model.evaluate(X_train, Y_train)\n",
    "print(\"%s: %.2f%% for train data\" % (model.metrics_names[1], train_scores[1]*100))\n",
    "print(\"%s: %.2f%% for test set\" % (model.metrics_names[1], test_scores[1]*100))"
   ]
  },
  {
   "cell_type": "code",
   "execution_count": null,
   "metadata": {},
   "outputs": [],
   "source": [
    "print('R square for test data: {:.2f}'.format(coeff_determination(np.exp(Y_test), np.exp(model.predict(X_test)))))\n",
    "print('R square for train data: {:.2f}'.format(coeff_determination(np.exp(Y_train), np.exp(model.predict(X_train)))))"
   ]
  },
  {
   "cell_type": "code",
   "execution_count": null,
   "metadata": {},
   "outputs": [],
   "source": [
    "print('RAAD for test data: {:.2f}'.format(raad(np.exp(Y_test), np.exp(model.predict(X_test)))))\n",
    "print('RAAD for train data: {:.2f}'.format(raad(np.exp(Y_train), np.exp(model.predict(X_train)))))"
   ]
  },
  {
   "cell_type": "code",
   "execution_count": null,
   "metadata": {},
   "outputs": [],
   "source": [
    "print('RMSE for test data: {:.2f}'.format(rmse(np.exp(Y_test), np.exp(model.predict(X_test)))))\n",
    "print('RMSE for train data: {:.2f}'.format(rmse(np.exp(Y_train), np.exp(model.predict(X_train)))))"
   ]
  },
  {
   "cell_type": "code",
   "execution_count": null,
   "metadata": {},
   "outputs": [],
   "source": [
    "# to load models as fitness criteria for the GAINS module\n",
    "# they can be saved like so:\n",
    "def save_model(name, model, devmodel, path=None):\n",
    "    if path:\n",
    "        model.save(\"{}{}_qspr.h5\".format(path, name))\n",
    "        devmodel.Data_summary.to_csv(\"{}{}_summ.csv\".format(path, name))\n",
    "        devmodel.Coef_data.to_csv(\"{}{}_desc.csv\".format(path, name), index=False)\n",
    "    else:\n",
    "        model.save(\"{}_qspr.h5\".format(name))\n",
    "        devmodel.Data_summary.to_csv(\"{}_summ.csv\".format(name))\n",
    "        devmodel.Coef_data.to_csv(\"{}_desc.csv\".format(name), index=False)"
   ]
  }
 ],
 "metadata": {
  "kernelspec": {
   "display_name": "Python 3",
   "language": "python",
   "name": "python3"
  },
  "language_info": {
   "codemirror_mode": {
    "name": "ipython",
    "version": 3
   },
   "file_extension": ".py",
   "mimetype": "text/x-python",
   "name": "python",
   "nbconvert_exporter": "python",
   "pygments_lexer": "ipython3",
   "version": "3.6.6"
  }
 },
 "nbformat": 4,
 "nbformat_minor": 2
}
