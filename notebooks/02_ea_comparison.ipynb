{
 "cells": [
  {
   "cell_type": "code",
   "execution_count": 8,
   "metadata": {},
   "outputs": [],
   "source": [
    "import matplotlib.pylab as plt\n",
    "import numpy as np\n",
    "import seaborn as sns; sns.set()\n",
    "import json\n",
    "%matplotlib inline\n",
    "\n",
    "import keras\n",
    "from keras.models import Sequential, Model\n",
    "from keras.layers import Dense\n",
    "from keras.optimizers import Adam\n",
    "import salty\n",
    "from numpy import array\n",
    "from numpy import argmax\n",
    "from sklearn.preprocessing import LabelEncoder\n",
    "from sklearn.preprocessing import OneHotEncoder\n",
    "import numpy as np\n",
    "from sklearn.model_selection import train_test_split\n",
    "from random import shuffle\n",
    "import pandas as pd\n",
    "import random\n",
    "\n",
    "from keras import backend as K\n",
    "from keras.objectives import binary_crossentropy #objs or losses\n",
    "from keras.models import Model\n",
    "from keras.layers import Input, Dense, Lambda\n",
    "from keras.layers.core import Dense, Activation, Flatten, RepeatVector\n",
    "from keras.layers.wrappers import TimeDistributed\n",
    "from keras.layers.recurrent import GRU\n",
    "from keras.layers.convolutional import Convolution1D\n",
    "\n",
    "from rdkit import Chem\n",
    "from rdkit.Chem.Fingerprints import FingerprintMols\n",
    "from rdkit import DataStructs\n",
    "from rdkit.Chem import Draw\n",
    "from rdkit.Chem import AllChem as Chem\n",
    "\n",
    "import sys\n",
    "sys.path.insert(0, '../')\n",
    "from scripts import *\n",
    "\n",
    "#cation data\n",
    "cations = pd.read_csv('../data/cations.csv')\n",
    "cations = cations['smiles_string']\n",
    "\n",
    "import sys\n",
    "sys.path.insert(0, '../gains/')\n",
    "import engine as genetic\n",
    "import salt_generator as sg\n",
    "\n",
    "from os.path import join\n",
    "from keras.models import load_model\n",
    "import engine as genetic\n",
    "from rdkit.Chem import AllChem as Chem\n",
    "from rdkit.ML.Descriptors.MoleculeDescriptors import\\\n",
    "    MolecularDescriptorCalculator as calculator\n",
    "from rdkit.Chem.rdmolfiles import MolToPDBFile\n",
    "import numpy as np\n",
    "from numpy import array\n",
    "import pandas as pd\n",
    "import datetime\n",
    "import salty\n",
    "from math import exp\n",
    "import random"
   ]
  },
  {
   "cell_type": "code",
   "execution_count": 9,
   "metadata": {},
   "outputs": [
    {
     "name": "stdout",
     "output_type": "stream",
     "text": [
      "Thermal conductivity, W/m/K\n",
      "total salts in training data:\t148\n",
      "unique salts:\t11\n",
      "unique cations:\t10\n",
      "min/max values:\t0.1060, 0.1300\n",
      "\n",
      "salts sorted in ascending order and the maximum value of the top 10 unique cations was returned\n",
      "Identified 61 unique salts in 148 datapoints\n"
     ]
    }
   ],
   "source": [
    "props = exp_data = model_ID = [\"thermal_conductivity\"]\n",
    "exp_data, cations, minval = return_top_cations(exp_data, return_min_values=False)\n",
    "T = [297, 316]\n",
    "P = [99, 102]\n",
    "data = salty.aggregate_data(props, T=T, P=P, merge='Union')\n",
    "merged = salty.merge_duplicates(data)\n",
    "target = minval\n",
    "simplex_id = 'any'"
   ]
  },
  {
   "cell_type": "code",
   "execution_count": 12,
   "metadata": {},
   "outputs": [
    {
     "name": "stdout",
     "output_type": "stream",
     "text": [
      "Salt Smiles: \tCNCCCC[n+]1ccccc1\n",
      "Cation Heavy Atoms: \t12\n",
      "Tanimoto Similarity Score: \t     0.836\n",
      "Molecular Relative: \t1-hexyl-3-methyl-4-(dimethylamino)pyridinium\n",
      "Anion: \tbis(trifluoromethylsulfonyl)imide\n",
      "Model Prediction: \t[0.13]\n",
      "Mutation Attempts: \t1\n"
     ]
    }
   ],
   "source": [
    "df = sg.generate_solvent(target, model_ID, heavy_atom_limit=200, sim_bounds=[0, 1],\n",
    "                 hits=2, write_file=False, \n",
    "                 exp_data=exp_data, verbose=1,\n",
    "                 parent_cap=25, mutation_cap=1000,\n",
    "                 optimalCutOff=minval, greaterThanCutOff=False)"
   ]
  },
  {
   "cell_type": "code",
   "execution_count": 46,
   "metadata": {},
   "outputs": [],
   "source": [
    "# df.to_csv('../data/df_ea_viscosity_2663_function_calls', index=False)"
   ]
  }
 ],
 "metadata": {
  "kernelspec": {
   "display_name": "Python 3",
   "language": "python",
   "name": "python3"
  },
  "language_info": {
   "codemirror_mode": {
    "name": "ipython",
    "version": 3
   },
   "file_extension": ".py",
   "mimetype": "text/x-python",
   "name": "python",
   "nbconvert_exporter": "python",
   "pygments_lexer": "ipython3",
   "version": "3.6.7"
  }
 },
 "nbformat": 4,
 "nbformat_minor": 2
}
