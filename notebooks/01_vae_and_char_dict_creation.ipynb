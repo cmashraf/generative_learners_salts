{
 "cells": [
  {
   "cell_type": "markdown",
   "metadata": {},
   "source": [
    "Going to train on 50,000,000 molecules from GDB-17\n",
    "\n",
    "May later try scraping for all molecules w/ positive charge"
   ]
  },
  {
   "cell_type": "code",
   "execution_count": 1,
   "metadata": {},
   "outputs": [
    {
     "name": "stderr",
     "output_type": "stream",
     "text": [
      "/home/wesleybeckner/anaconda3/envs/py36/lib/python3.6/site-packages/h5py/__init__.py:36: FutureWarning: Conversion of the second argument of issubdtype from `float` to `np.floating` is deprecated. In future, it will be treated as `np.float64 == np.dtype(float).type`.\n",
      "  from ._conv import register_converters as _register_converters\n",
      "Using TensorFlow backend.\n"
     ]
    }
   ],
   "source": [
    "import matplotlib.pylab as plt\n",
    "import numpy as np\n",
    "import seaborn as sns; sns.set()\n",
    "%matplotlib inline\n",
    "\n",
    "import keras\n",
    "from keras.models import Sequential, Model\n",
    "from keras.layers import Dense\n",
    "from keras.optimizers import Adam\n",
    "import salty\n",
    "from numpy import array\n",
    "from numpy import argmax\n",
    "from sklearn.preprocessing import LabelEncoder\n",
    "from sklearn.preprocessing import OneHotEncoder\n",
    "import numpy as np\n",
    "from sklearn.model_selection import train_test_split\n",
    "from random import shuffle\n",
    "import pandas as pd"
   ]
  },
  {
   "cell_type": "code",
   "execution_count": 3,
   "metadata": {
    "collapsed": true
   },
   "outputs": [],
   "source": [
    "df = pd.read_csv('../../../../../../GDB17.50000000', names=['smiles'])"
   ]
  },
  {
   "cell_type": "code",
   "execution_count": 4,
   "metadata": {},
   "outputs": [],
   "source": [
    "df = df.sample(frac=1)"
   ]
  },
  {
   "cell_type": "code",
   "execution_count": 5,
   "metadata": {},
   "outputs": [],
   "source": [
    "df.to_csv('../data/GDB17_shuffled.50000000', index=False)"
   ]
  },
  {
   "cell_type": "code",
   "execution_count": 4,
   "metadata": {},
   "outputs": [
    {
     "name": "stdout",
     "output_type": "stream",
     "text": [
      "(50000000,)\n"
     ]
    }
   ],
   "source": [
    "values = df['smiles']\n",
    "print(values.shape)"
   ]
  },
  {
   "cell_type": "code",
   "execution_count": 5,
   "metadata": {},
   "outputs": [
    {
     "name": "stdout",
     "output_type": "stream",
     "text": [
      "51\n"
     ]
    }
   ],
   "source": [
    "smile_max_length = values.map(len).max()\n",
    "print(smile_max_length)"
   ]
  },
  {
   "cell_type": "markdown",
   "metadata": {},
   "source": [
    "We may want to remove cations with more than 25 heavy atoms"
   ]
  },
  {
   "cell_type": "code",
   "execution_count": 6,
   "metadata": {},
   "outputs": [
    {
     "data": {
      "text/plain": [
       "(array([1.0000000e+00, 6.0000000e+00, 6.3700000e+02, 1.4796200e+05,\n",
       "        6.6722430e+06, 2.9969172e+07, 1.2690346e+07, 5.0860600e+05,\n",
       "        1.0870000e+04, 1.5700000e+02]),\n",
       " array([ 2. ,  6.9, 11.8, 16.7, 21.6, 26.5, 31.4, 36.3, 41.2, 46.1, 51. ]),\n",
       " <a list of 10 Patch objects>)"
      ]
     },
     "execution_count": 6,
     "metadata": {},
     "output_type": "execute_result"
    },
    {
     "data": {
      "image/png": "[encoded data removed]",
      "text/plain": [
       "<matplotlib.figure.Figure at 0x7f123f115278>"
      ]
     },
     "metadata": {},
     "output_type": "display_data"
    }
   ],
   "source": [
    "plt.hist(values.map(len))"
   ]
  },
  {
   "cell_type": "code",
   "execution_count": 7,
   "metadata": {},
   "outputs": [],
   "source": [
    "def pad_smiles(smiles_string, smile_max_length):\n",
    "     if len(smiles_string) < smile_max_length:\n",
    "            return smiles_string + \" \" * (smile_max_length - len(smiles_string))"
   ]
  },
  {
   "cell_type": "code",
   "execution_count": 8,
   "metadata": {},
   "outputs": [],
   "source": [
    "padded_smiles =  [pad_smiles(i, smile_max_length) for i in values if pad_smiles(i, smile_max_length)]"
   ]
  },
  {
   "cell_type": "code",
   "execution_count": 9,
   "metadata": {},
   "outputs": [],
   "source": [
    "shuffle(padded_smiles)"
   ]
  },
  {
   "cell_type": "code",
   "execution_count": 10,
   "metadata": {},
   "outputs": [],
   "source": [
    "def create_char_list(char_set, smile_series):\n",
    "    for smile in smile_series:\n",
    "        char_set.update(set(smile))\n",
    "    return char_set"
   ]
  },
  {
   "cell_type": "code",
   "execution_count": 11,
   "metadata": {},
   "outputs": [],
   "source": [
    "char_set = set()\n",
    "char_set = create_char_list(char_set, padded_smiles)"
   ]
  },
  {
   "cell_type": "code",
   "execution_count": 12,
   "metadata": {},
   "outputs": [
    {
     "name": "stdout",
     "output_type": "stream",
     "text": [
      "31\n"
     ]
    },
    {
     "data": {
      "text/plain": [
       "{' ',\n",
       " '#',\n",
       " '(',\n",
       " ')',\n",
       " '+',\n",
       " '-',\n",
       " '1',\n",
       " '2',\n",
       " '3',\n",
       " '4',\n",
       " '5',\n",
       " '6',\n",
       " '7',\n",
       " '8',\n",
       " '=',\n",
       " 'B',\n",
       " 'C',\n",
       " 'F',\n",
       " 'H',\n",
       " 'I',\n",
       " 'N',\n",
       " 'O',\n",
       " 'S',\n",
       " '[',\n",
       " ']',\n",
       " 'c',\n",
       " 'l',\n",
       " 'n',\n",
       " 'o',\n",
       " 'r',\n",
       " 's'}"
      ]
     },
     "execution_count": 12,
     "metadata": {},
     "output_type": "execute_result"
    }
   ],
   "source": [
    "print(len(char_set))\n",
    "char_set"
   ]
  },
  {
   "cell_type": "code",
   "execution_count": 13,
   "metadata": {},
   "outputs": [
    {
     "name": "stdout",
     "output_type": "stream",
     "text": [
      "(276,)\n"
     ]
    }
   ],
   "source": [
    "properties = ['density', 'cpt', 'viscosity', 'thermal_conductivity',\n",
    "              'melting_point']\n",
    "props = properties\n",
    "devmodel = salty.aggregate_data(props, merge='Union')\n",
    "devmodel.Data['smiles_string'] = devmodel.Data['smiles-cation']\n",
    "cations = devmodel.Data['smiles_string'].drop_duplicates()\n",
    "cations = cations.reset_index(drop=True)\n",
    "print(cations.shape)"
   ]
  },
  {
   "cell_type": "code",
   "execution_count": 2,
   "metadata": {},
   "outputs": [
    {
     "name": "stdout",
     "output_type": "stream",
     "text": [
      "(688,)\n"
     ]
    }
   ],
   "source": [
    "properties = ['density', 'cpt', 'viscosity', 'thermal_conductivity',\n",
    "              'melting_point']\n",
    "props = properties\n",
    "devmodel = salty.aggregate_data(props, merge='Union')\n",
    "devmodel.Data['smiles_string'] = devmodel.Data['smiles-cation'] + '.' +\\\n",
    "                devmodel.Data['smiles-anion']\n",
    "salts = devmodel.Data['smiles_string'].drop_duplicates() \n",
    "salts = salts.reset_index(drop=True)\n",
    "print(salts.shape)"
   ]
  },
  {
   "cell_type": "code",
   "execution_count": 5,
   "metadata": {},
   "outputs": [],
   "source": [
    "pd.DataFrame(salts).to_csv('../data/salts.csv', index=False)"
   ]
  },
  {
   "cell_type": "code",
   "execution_count": 14,
   "metadata": {},
   "outputs": [],
   "source": [
    "padded_smiles_2 =  [pad_smiles(i, smile_max_length) for i in cations if pad_smiles(i, smile_max_length)]"
   ]
  },
  {
   "cell_type": "code",
   "execution_count": 15,
   "metadata": {},
   "outputs": [],
   "source": [
    "char_set_2 = set()\n",
    "char_set_2 = create_char_list(char_set_2, padded_smiles_2)"
   ]
  },
  {
   "cell_type": "code",
   "execution_count": 16,
   "metadata": {},
   "outputs": [],
   "source": [
    "char_set.update(set(char_set_2))"
   ]
  },
  {
   "cell_type": "code",
   "execution_count": 17,
   "metadata": {},
   "outputs": [
    {
     "data": {
      "text/plain": [
       "{' ',\n",
       " '#',\n",
       " '(',\n",
       " ')',\n",
       " '+',\n",
       " '-',\n",
       " '1',\n",
       " '2',\n",
       " '3',\n",
       " '4',\n",
       " '5',\n",
       " '6',\n",
       " '7',\n",
       " '8',\n",
       " '=',\n",
       " 'B',\n",
       " 'C',\n",
       " 'F',\n",
       " 'H',\n",
       " 'I',\n",
       " 'N',\n",
       " 'O',\n",
       " 'P',\n",
       " 'S',\n",
       " '[',\n",
       " '\\\\',\n",
       " ']',\n",
       " 'c',\n",
       " 'l',\n",
       " 'n',\n",
       " 'o',\n",
       " 'r',\n",
       " 's'}"
      ]
     },
     "execution_count": 17,
     "metadata": {},
     "output_type": "execute_result"
    }
   ],
   "source": [
    "char_set"
   ]
  },
  {
   "cell_type": "code",
   "execution_count": 18,
   "metadata": {},
   "outputs": [],
   "source": [
    "char_list = list(char_set)\n",
    "chars_in_dict = len(char_list)\n",
    "char_to_index = dict((c, i) for i, c in enumerate(char_list))\n",
    "index_to_char = dict((i, c) for i, c in enumerate(char_list))"
   ]
  },
  {
   "cell_type": "code",
   "execution_count": null,
   "metadata": {},
   "outputs": [],
   "source": [
    "padded_smiles =  [pad_smiles(i, smile_max_length) for i in values if pad_smiles(i, smile_max_length)]\n",
    "shuffle(padded_smiles)\n",
    "padded_smiles = padded_smiles[:1000000]\n",
    "\n",
    "import csv\n",
    "with open('../data/1mil_GEDB17.csv', 'w') as myfile:\n",
    "    wr = csv.writer(myfile, quoting=csv.QUOTE_ALL)\n",
    "    wr.writerow(padded_smiles)"
   ]
  },
  {
   "cell_type": "code",
   "execution_count": 328,
   "metadata": {},
   "outputs": [],
   "source": [
    "import json\n",
    "json = json.dumps(char_to_index)\n",
    "f = open(\"1mil_GDB17.json\",\"w\")\n",
    "f.write(json)\n",
    "f.close()"
   ]
  },
  {
   "cell_type": "code",
   "execution_count": 19,
   "metadata": {},
   "outputs": [],
   "source": [
    "# if loading previous model\n",
    "smile_max_length = 51\n",
    "import json\n",
    "f = open(\"1mil_GDB17.json\",\"r\")\n",
    "char_to_index = json.loads(f.read())\n",
    "char_set = set(char_to_index.keys())\n",
    "char_list = list(char_to_index.keys())\n",
    "index_to_char = dict((i, c) for i, c in enumerate(char_list))\n",
    "chars_in_dict = len(char_list)"
   ]
  },
  {
   "cell_type": "code",
   "execution_count": 20,
   "metadata": {},
   "outputs": [
    {
     "data": {
      "text/plain": [
       "{' ',\n",
       " '#',\n",
       " '(',\n",
       " ')',\n",
       " '+',\n",
       " '-',\n",
       " '1',\n",
       " '2',\n",
       " '3',\n",
       " '4',\n",
       " '5',\n",
       " '6',\n",
       " '7',\n",
       " '8',\n",
       " '=',\n",
       " 'B',\n",
       " 'C',\n",
       " 'F',\n",
       " 'H',\n",
       " 'I',\n",
       " 'N',\n",
       " 'O',\n",
       " 'P',\n",
       " 'S',\n",
       " '[',\n",
       " '\\\\',\n",
       " ']',\n",
       " 'c',\n",
       " 'l',\n",
       " 'n',\n",
       " 'o',\n",
       " 'r',\n",
       " 's'}"
      ]
     },
     "execution_count": 20,
     "metadata": {},
     "output_type": "execute_result"
    }
   ],
   "source": [
    "set(char_to_index.keys())"
   ]
  },
  {
   "cell_type": "code",
   "execution_count": 39,
   "metadata": {},
   "outputs": [],
   "source": [
    "data_size = 1000000"
   ]
  },
  {
   "cell_type": "code",
   "execution_count": 28,
   "metadata": {},
   "outputs": [],
   "source": [
    "X_train = np.zeros((data_size, smile_max_length, chars_in_dict), dtype=np.float32)"
   ]
  },
  {
   "cell_type": "code",
   "execution_count": 29,
   "metadata": {},
   "outputs": [
    {
     "data": {
      "text/plain": [
       "(1000000, 51, 33)"
      ]
     },
     "execution_count": 29,
     "metadata": {},
     "output_type": "execute_result"
    }
   ],
   "source": [
    "X_train.shape"
   ]
  },
  {
   "cell_type": "code",
   "execution_count": 30,
   "metadata": {},
   "outputs": [],
   "source": [
    "import random"
   ]
  },
  {
   "cell_type": "code",
   "execution_count": 31,
   "metadata": {},
   "outputs": [
    {
     "data": {
      "text/plain": [
       "'[P+](CC)(CC)(CC)CCCCCCC'"
      ]
     },
     "execution_count": 31,
     "metadata": {},
     "output_type": "execute_result"
    }
   ],
   "source": [
    "random.choice(cations)"
   ]
  },
  {
   "cell_type": "code",
   "execution_count": 32,
   "metadata": {},
   "outputs": [],
   "source": [
    "# for each i, randomly select whether to sample from GDB or cations (padded_smiles_2)\n",
    "for i, smile in enumerate(padded_smiles[:data_size]):\n",
    "#     linearly_scaled_prob = random.random() < i/data_size\n",
    "#     if linearly_scaled_prob:\n",
    "    smile = random.choice(cations)\n",
    "    for j, char in enumerate(smile):\n",
    "        X_train[i, j, char_to_index[char]] = 1"
   ]
  },
  {
   "cell_type": "code",
   "execution_count": 340,
   "metadata": {},
   "outputs": [],
   "source": [
    "for i, smile in enumerate(padded_smiles[:data_size]):\n",
    "    for j, char in enumerate(smile):\n",
    "        X_train[i, j, char_to_index[char]] = 1"
   ]
  },
  {
   "cell_type": "code",
   "execution_count": 33,
   "metadata": {},
   "outputs": [],
   "source": [
    "X_train, X_test = train_test_split(X_train, test_size=0.33, random_state=42)"
   ]
  },
  {
   "cell_type": "code",
   "execution_count": 34,
   "metadata": {},
   "outputs": [
    {
     "data": {
      "text/plain": [
       "array([[1., 0., 0., ..., 0., 0., 0.],\n",
       "       [1., 0., 0., ..., 0., 0., 0.],\n",
       "       [1., 0., 0., ..., 0., 0., 0.],\n",
       "       ...,\n",
       "       [0., 0., 0., ..., 0., 0., 0.],\n",
       "       [0., 0., 0., ..., 0., 0., 0.],\n",
       "       [0., 0., 0., ..., 0., 0., 0.]], dtype=float32)"
      ]
     },
     "execution_count": 34,
     "metadata": {},
     "output_type": "execute_result"
    }
   ],
   "source": [
    "X_train[0]"
   ]
  },
  {
   "cell_type": "code",
   "execution_count": 35,
   "metadata": {},
   "outputs": [
    {
     "data": {
      "text/plain": [
       "(670000, 51, 33)"
      ]
     },
     "execution_count": 35,
     "metadata": {},
     "output_type": "execute_result"
    }
   ],
   "source": [
    "X_train.shape"
   ]
  },
  {
   "cell_type": "code",
   "execution_count": 36,
   "metadata": {},
   "outputs": [],
   "source": [
    "# build special X_train that contains 50% bootstrapped cation data"
   ]
  },
  {
   "cell_type": "code",
   "execution_count": 37,
   "metadata": {},
   "outputs": [],
   "source": [
    "# need to build RNN to encode. some issues include what the 'embedded dimension' is (vector length of embedded sequence)"
   ]
  },
  {
   "cell_type": "markdown",
   "metadata": {},
   "source": [
    "so some keras version stuff. 1.0 uses keras.losses to store its loss functions. 2.0 uses objectives. we'll just have to be consistent"
   ]
  },
  {
   "cell_type": "code",
   "execution_count": 38,
   "metadata": {},
   "outputs": [],
   "source": [
    "from keras import backend as K\n",
    "from keras.objectives import binary_crossentropy #objs or losses\n",
    "from keras.models import Model\n",
    "from keras.layers import Input, Dense, Lambda\n",
    "from keras.layers.core import Dense, Activation, Flatten, RepeatVector\n",
    "from keras.layers.wrappers import TimeDistributed\n",
    "from keras.layers.recurrent import GRU\n",
    "from keras.layers.convolutional import Convolution1D"
   ]
  },
  {
   "cell_type": "markdown",
   "metadata": {},
   "source": [
    "Here I've adapted the exact architecture used in the [paper](https://github.com/maxhodak/keras-molecules/blob/master/molecules/model.py)"
   ]
  },
  {
   "cell_type": "code",
   "execution_count": 40,
   "metadata": {},
   "outputs": [],
   "source": [
    "def Encoder(x, latent_rep_size, smile_max_length, epsilon_std = 0.01):\n",
    "    h = Convolution1D(9, 9, activation = 'relu', name='conv_1')(x)\n",
    "    h = Convolution1D(9, 9, activation = 'relu', name='conv_2')(h)\n",
    "    h = Convolution1D(10, 11, activation = 'relu', name='conv_3')(h)\n",
    "    h = Flatten(name = 'flatten_1')(h)\n",
    "    h = Dense(435, activation = 'relu', name = 'dense_1')(h)\n",
    "\n",
    "    def sampling(args):\n",
    "        z_mean_, z_log_var_ = args\n",
    "        batch_size = K.shape(z_mean_)[0]\n",
    "        epsilon = K.random_normal(shape=(batch_size, latent_rep_size),\n",
    "                                  mean=0., stddev = epsilon_std)\n",
    "        return z_mean_ + K.exp(z_log_var_ / 2) * epsilon\n",
    "\n",
    "    z_mean = Dense(latent_rep_size, name='z_mean', activation = 'linear')(h)\n",
    "    z_log_var = Dense(latent_rep_size, name='z_log_var', activation = 'linear')(h)\n",
    "\n",
    "    def vae_loss(x, x_decoded_mean):\n",
    "        x = K.flatten(x)\n",
    "        x_decoded_mean = K.flatten(x_decoded_mean)\n",
    "        xent_loss = smile_max_length * binary_crossentropy(x, x_decoded_mean)\n",
    "        kl_loss = - 0.5 * K.mean(1 + z_log_var - K.square(z_mean) - \\\n",
    "                                 K.exp(z_log_var), axis = -1)\n",
    "        return xent_loss + kl_loss\n",
    "\n",
    "    return (vae_loss, Lambda(sampling, output_shape=(latent_rep_size,),\n",
    "                             name='lambda')([z_mean, z_log_var]))\n",
    "\n",
    "def Decoder(z, latent_rep_size, smile_max_length, charset_length):\n",
    "    h = Dense(latent_rep_size, name='latent_input', activation = 'relu')(z)\n",
    "    h = RepeatVector(smile_max_length, name='repeat_vector')(h)\n",
    "    h = GRU(501, return_sequences = True, name='gru_1')(h)\n",
    "    h = GRU(501, return_sequences = True, name='gru_2')(h)\n",
    "    h = GRU(501, return_sequences = True, name='gru_3')(h)\n",
    "    return TimeDistributed(Dense(charset_length, activation='softmax'),\n",
    "                           name='decoded_mean')(h)"
   ]
  },
  {
   "cell_type": "code",
   "execution_count": 41,
   "metadata": {},
   "outputs": [],
   "source": [
    "x = Input(shape=(smile_max_length, len(char_set)))"
   ]
  },
  {
   "cell_type": "code",
   "execution_count": 42,
   "metadata": {},
   "outputs": [],
   "source": [
    "_, z = Encoder(x, latent_rep_size=292, smile_max_length=smile_max_length)"
   ]
  },
  {
   "cell_type": "code",
   "execution_count": 43,
   "metadata": {},
   "outputs": [],
   "source": [
    "encoder = Model(x, z)"
   ]
  },
  {
   "cell_type": "markdown",
   "metadata": {},
   "source": [
    "encoded_input looks like a dummy layer here:"
   ]
  },
  {
   "cell_type": "code",
   "execution_count": 44,
   "metadata": {},
   "outputs": [],
   "source": [
    "encoded_input = Input(shape=(292,))"
   ]
  },
  {
   "cell_type": "code",
   "execution_count": 45,
   "metadata": {},
   "outputs": [],
   "source": [
    "decoder = Model(encoded_input, Decoder(encoded_input, latent_rep_size=292,\n",
    "                                       smile_max_length=smile_max_length,\n",
    "                 charset_length=len(char_set)))"
   ]
  },
  {
   "cell_type": "markdown",
   "metadata": {},
   "source": [
    "create a separate autoencoder model that combines the encoder and decoder (I guess the former cells are for accessing those separate parts of the model)"
   ]
  },
  {
   "cell_type": "code",
   "execution_count": 46,
   "metadata": {},
   "outputs": [],
   "source": [
    "x1 = Input(shape=(smile_max_length, len(char_set)), name='input_1')"
   ]
  },
  {
   "cell_type": "code",
   "execution_count": 47,
   "metadata": {},
   "outputs": [],
   "source": [
    "vae_loss, z1 = Encoder(x1, latent_rep_size=292, smile_max_length=smile_max_length)"
   ]
  },
  {
   "cell_type": "code",
   "execution_count": 48,
   "metadata": {},
   "outputs": [],
   "source": [
    "autoencoder = Model(x1, Decoder(z1, latent_rep_size=292,\n",
    "                                       smile_max_length=smile_max_length,\n",
    "                 charset_length=len(char_set)))"
   ]
  },
  {
   "cell_type": "markdown",
   "metadata": {},
   "source": [
    "we compile and fit"
   ]
  },
  {
   "cell_type": "code",
   "execution_count": 49,
   "metadata": {},
   "outputs": [],
   "source": [
    "autoencoder.compile(optimizer='Adam', loss=vae_loss, metrics =['accuracy'])"
   ]
  },
  {
   "cell_type": "code",
   "execution_count": 50,
   "metadata": {},
   "outputs": [
    {
     "name": "stdout",
     "output_type": "stream",
     "text": [
      "Train on 670000 samples, validate on 330000 samples\n",
      "Epoch 1/1\n",
      "670000/670000 [==============================] - 11427s 17ms/step - loss: 1.0780 - acc: 0.4574 - val_loss: 0.9336 - val_acc: 0.4419\n"
     ]
    },
    {
     "data": {
      "text/plain": [
       "<keras.callbacks.History at 0x7f110e5a9400>"
      ]
     },
     "execution_count": 50,
     "metadata": {},
     "output_type": "execute_result"
    }
   ],
   "source": [
    "autoencoder.fit(X_train, X_train, shuffle = False, validation_data=(X_test, X_test))"
   ]
  },
  {
   "cell_type": "code",
   "execution_count": 54,
   "metadata": {},
   "outputs": [],
   "source": [
    "#trained on 1million GDB17 molecules\n",
    "autoencoder.save(\"1Mil_GDB17.h5\")"
   ]
  },
  {
   "cell_type": "code",
   "execution_count": 345,
   "metadata": {},
   "outputs": [],
   "source": [
    "#trained on 1million GDB17 molecules, 50/50 split of 500K GDB17/cation molecules, 500K cation molecules\n",
    "autoencoder.save(\"1Mil_GDB17_split_500k_cation_500k.h5\")"
   ]
  },
  {
   "cell_type": "code",
   "execution_count": 51,
   "metadata": {},
   "outputs": [],
   "source": [
    "#trained on 1million cation molecules\n",
    "autoencoder.save(\"Bootstrap_1Mil_Cation_1.h5\")"
   ]
  },
  {
   "cell_type": "code",
   "execution_count": 318,
   "metadata": {},
   "outputs": [],
   "source": [
    "#trained on 250K cation molecules\n",
    "autoencoder.save(\"Bootstrap_250k_Cation_1.h5\")"
   ]
  },
  {
   "cell_type": "code",
   "execution_count": 319,
   "metadata": {},
   "outputs": [],
   "source": [
    "autoencoder.load_weights(\"1Mil_GDB17_split_500k.h5\")"
   ]
  },
  {
   "cell_type": "code",
   "execution_count": 52,
   "metadata": {},
   "outputs": [],
   "source": [
    "def sample(a, temperature=1.0):\n",
    "    # helper function to sample an index from a probability array\n",
    "#     a = np.log(a) / temperature\n",
    "#     a = np.exp(a) / np.sum(np.exp(a))\n",
    "#     return np.argmax(np.random.multinomial(1, a, 1))\n",
    "    # work around from https://github.com/llSourcell/How-to-Generate-Music-Demo/issues/4\n",
    "    a = np.log(a) / temperature \n",
    "    dist = np.exp(a)/np.sum(np.exp(a)) \n",
    "    choices = range(len(a)) \n",
    "    return np.random.choice(choices, p=dist)"
   ]
  },
  {
   "cell_type": "code",
   "execution_count": 53,
   "metadata": {},
   "outputs": [
    {
     "name": "stdout",
     "output_type": "stream",
     "text": [
      "CCCC[n+]1ccc(cc1)C\n"
     ]
    }
   ],
   "source": [
    "# smi = values[29]\n",
    "smi = cations[0]\n",
    "print(smi)"
   ]
  },
  {
   "cell_type": "code",
   "execution_count": 54,
   "metadata": {},
   "outputs": [],
   "source": [
    "test_smi = smi\n",
    "test_smi = pad_smiles(test_smi, smile_max_length)\n",
    "Z = np.zeros((1, smile_max_length, len(char_list)), dtype=np.bool)\n",
    "for t, char in enumerate(test_smi):\n",
    "    Z[0, t, char_to_index[char]] = 1"
   ]
  },
  {
   "cell_type": "code",
   "execution_count": 69,
   "metadata": {},
   "outputs": [
    {
     "name": "stdout",
     "output_type": "stream",
     "text": [
      "\n",
      " callback guess: CCCC[n+]1ccc(cc1)C FB =3s\\5Ss\\B+873][[rOS4No4774[\\S\n"
     ]
    }
   ],
   "source": [
    "string = \"\"\n",
    "for i in autoencoder.predict(Z):\n",
    "    for j in i:\n",
    "        index = sample(j, temperature=1)\n",
    "        string += index_to_char[index]\n",
    "print(\"\\n callback guess: \" + string)"
   ]
  },
  {
   "cell_type": "code",
   "execution_count": 35,
   "metadata": {},
   "outputs": [
    {
     "name": "stdout",
     "output_type": "stream",
     "text": [
      "(276,)\n"
     ]
    }
   ],
   "source": [
    "properties = ['density', 'cpt', 'viscosity', 'thermal_conductivity',\n",
    "              'melting_point']\n",
    "props = properties\n",
    "devmodel = salty.aggregate_data(props, merge='Union')\n",
    "devmodel.Data['smiles_string'] = devmodel.Data['smiles-cation']\n",
    "cations = devmodel.Data['smiles_string'].drop_duplicates()\n",
    "print(cations.shape)"
   ]
  },
  {
   "cell_type": "code",
   "execution_count": 36,
   "metadata": {},
   "outputs": [],
   "source": [
    "cations = cations.reset_index(drop=True)"
   ]
  },
  {
   "cell_type": "code",
   "execution_count": 37,
   "metadata": {},
   "outputs": [
    {
     "data": {
      "text/plain": [
       "'OCCCCCC([n+]1ccn(c1)C)                             '"
      ]
     },
     "execution_count": 37,
     "metadata": {},
     "output_type": "execute_result"
    }
   ],
   "source": [
    "test_smi = cations[100]\n",
    "test_smi = pad_smiles(test_smi, smile_max_length)\n",
    "Z = np.zeros((1, smile_max_length, len(char_list)), dtype=np.bool)\n",
    "for t, char in enumerate(test_smi):\n",
    "    Z[0, t, char_to_index[char]] = 1\n",
    "test_smi"
   ]
  },
  {
   "cell_type": "code",
   "execution_count": 38,
   "metadata": {},
   "outputs": [
    {
     "name": "stdout",
     "output_type": "stream",
     "text": [
      "\n",
      " callback guess: 2o21 226227422 22]44333333c#S41S\\#SICCs+SSF1P(SS+SS\n"
     ]
    }
   ],
   "source": [
    "string = \"\"\n",
    "for i in autoencoder.predict(Z):\n",
    "    for j in i:\n",
    "        index = sample(j)\n",
    "        string += index_to_char[index]\n",
    "print(\"\\n callback guess: \" + string)"
   ]
  },
  {
   "cell_type": "markdown",
   "metadata": {},
   "source": [
    "Alright. So now I'm going to loop through our 276 cations, sample 100x from the decoder based on these representations, and see how many sanitize with the RDKit"
   ]
  },
  {
   "cell_type": "code",
   "execution_count": 369,
   "metadata": {},
   "outputs": [],
   "source": [
    "cation_samples = []\n",
    "for smi_index, smi in enumerate(cations):\n",
    "    smi = pad_smiles(smi, smile_max_length)\n",
    "    Z = np.zeros((1, smile_max_length, len(char_list)), dtype=np.bool)\n",
    "    for t, char in enumerate(smi):\n",
    "        Z[0, t, char_to_index[char]] = 1\n",
    "    string = \"\"\n",
    "    for i in autoencoder.predict(Z):\n",
    "        for j in i:\n",
    "            index = sample(j, temperature=0.5)\n",
    "            string += index_to_char[index]\n",
    "    cation_samples.append(string)"
   ]
  },
  {
   "cell_type": "code",
   "execution_count": 370,
   "metadata": {},
   "outputs": [
    {
     "name": "stdout",
     "output_type": "stream",
     "text": [
      "sampled cations: 276\n",
      "unique samples: 276\n"
     ]
    }
   ],
   "source": [
    "print('sampled cations: {}'.format(len(cation_samples)))\n",
    "print('unique samples: {}'.format(pd.DataFrame(cation_samples).drop_duplicates().shape[0]))"
   ]
  },
  {
   "cell_type": "code",
   "execution_count": 371,
   "metadata": {},
   "outputs": [
    {
     "data": {
      "text/plain": [
       "['CCCC1C+]CcccccC))CN                                ',\n",
       " 'CCCn(C([C+]CCCC)C                                  ',\n",
       " 'CCCCn1cC[nC]Cc1CCO                                 ',\n",
       " 'CCCC(=O)N+]1(CCCC     C                            ',\n",
       " 'CCCOC[CHC]CCCCCC=CCC   C                           ',\n",
       " 'C21CC=CC=C2[N+]13C(C)(C=C(N1CCCCC)C)               ',\n",
       " 'C2=CC=CCCC2[C+]1=C(C)(C=C(N1CNCC=C))O              ',\n",
       " 'C(1CCCCCCCCP+C(CCCCCC)NCCCCCC)  C C     C          ',\n",
       " 'CCCCCCCCn1Cc[n+]Cc1)C                              ',\n",
       " 'CCCCnCCO[C+]C(C)N                                  ']"
      ]
     },
     "execution_count": 371,
     "metadata": {},
     "output_type": "execute_result"
    }
   ],
   "source": [
    "cation_samples[:10]"
   ]
  },
  {
   "cell_type": "code",
   "execution_count": 1,
   "metadata": {},
   "outputs": [
    {
     "name": "stderr",
     "output_type": "stream",
     "text": [
      "/home/wesley/anaconda3/envs/py36/lib/python3.6/site-packages/h5py/__init__.py:34: FutureWarning: Conversion of the second argument of issubdtype from `float` to `np.floating` is deprecated. In future, it will be treated as `np.float64 == np.dtype(float).type`.\n",
      "  from ._conv import register_converters as _register_converters\n",
      "Using TensorFlow backend.\n"
     ]
    }
   ],
   "source": [
    "import matplotlib.pylab as plt\n",
    "import numpy as np\n",
    "import seaborn as sns; sns.set()\n",
    "%matplotlib inline\n",
    "\n",
    "import keras\n",
    "from keras.models import Sequential, Model\n",
    "from keras.layers import Dense\n",
    "from keras.optimizers import Adam\n",
    "import salty\n",
    "from numpy import array\n",
    "from numpy import argmax\n",
    "from sklearn.preprocessing import LabelEncoder\n",
    "from sklearn.preprocessing import OneHotEncoder\n",
    "import numpy as np\n",
    "from sklearn.model_selection import train_test_split\n",
    "from sklearn.decomposition import PCA\n",
    "from random import shuffle\n",
    "import pandas as pd\n",
    "import random\n",
    "\n",
    "#Keras build\n",
    "from keras import backend as K\n",
    "from keras.objectives import binary_crossentropy #objs or losses\n",
    "from keras.models import Model\n",
    "from keras.layers import Input, Dense, Lambda\n",
    "from keras.layers.core import Dense, Activation, Flatten, RepeatVector\n",
    "from keras.layers.wrappers import TimeDistributed\n",
    "from keras.layers.recurrent import GRU\n",
    "from keras.layers.convolutional import Convolution1D\n",
    "\n",
    "#cation data\n",
    "cations = pd.read_csv('../data/cations.csv')\n",
    "cations = cations['smiles_string']\n",
    "categories = pd.read_csv('../data/categories.csv')\n",
    "categories = categories['category']\n",
    "coldic = pd.read_csv('../data/coldic.csv')\n",
    "coldic = coldic.to_dict(orient='records')[0]\n",
    "\n",
    "#supporting functions\n",
    "import sys\n",
    "sys.path.insert(0, '../')\n",
    "from scripts import *"
   ]
  },
  {
   "cell_type": "code",
   "execution_count": 6,
   "metadata": {},
   "outputs": [
    {
     "name": "stdout",
     "output_type": "stream",
     "text": [
      "Epoch 1/1\n",
      "100000/100000 [==============================] - 2916s 29ms/step - loss: 2.4396 - acc: 0.6447\n",
      "Epoch 1/1\n",
      "100000/100000 [==============================] - 2911s 29ms/step - loss: 1.9565 - acc: 0.7054\n",
      "Epoch 1/1\n",
      "100000/100000 [==============================] - 2956s 30ms/step - loss: 1.4395 - acc: 0.7884\n",
      "Epoch 1/1\n",
      "100000/100000 [==============================] - 4418s 44ms/step - loss: 1.1564 - acc: 0.8332\n",
      "Epoch 1/1\n",
      "100000/100000 [==============================] - 5776s 58ms/step - loss: 0.9807 - acc: 0.8607\n",
      "Epoch 1/1\n",
      "100000/100000 [==============================] - 5794s 58ms/step - loss: 0.8474 - acc: 0.8810\n",
      "Epoch 1/1\n",
      "100000/100000 [==============================] - 5818s 58ms/step - loss: 0.7599 - acc: 0.8936\n",
      "Epoch 1/1\n",
      "100000/100000 [==============================] - 5851s 59ms/step - loss: 0.6972 - acc: 0.9026\n",
      "Epoch 1/1\n",
      "100000/100000 [==============================] - 5856s 59ms/step - loss: 0.6553 - acc: 0.9087\n",
      "Epoch 1/1\n",
      "100000/100000 [==============================] - 5909s 59ms/step - loss: 0.6122 - acc: 0.9153\n"
     ]
    }
   ],
   "source": [
    "#For loop to save semi-trained model to\n",
    "#view PCAs and Z distributions during training\n",
    "\n",
    "#training array info\n",
    "smile_max_length = 51\n",
    "import json\n",
    "f = open(\"../data/gdb_char_to_index.json\",\"r\")\n",
    "char_to_index = json.loads(f.read())\n",
    "char_set = set(char_to_index.keys())\n",
    "char_list = list(char_to_index.keys())\n",
    "chars_in_dict = len(char_list)\n",
    "\n",
    "#training data\n",
    "df = pd.read_csv('../data/GDB/GDB17.1000000', names=['smiles'])\n",
    "data_size = 100000\n",
    "chemvae = MoleculeVAE()\n",
    "chemvae.create(char_set, 51)\n",
    "\n",
    "for p in range(10):\n",
    "    values = df['smiles'][data_size*p:data_size*(p+1)]\n",
    "    padded_smiles =  [pad_smiles(i, smile_max_length) for i in values if pad_smiles(i, smile_max_length)]\n",
    "    X_train = np.zeros((data_size, smile_max_length, chars_in_dict), dtype=np.float32)\n",
    "\n",
    "    for i, smile in enumerate(padded_smiles):\n",
    "        for j, char in enumerate(smile):\n",
    "            X_train[i, j, char_to_index[char]] = 1\n",
    "    chemvae.autoencoder.fit(X_train, X_train, shuffle = False)\n",
    "#     chemvae.save('1mil_GDB17_{}.h5'.format(p+1))\n",
    "    "
   ]
  },
  {
   "cell_type": "code",
   "execution_count": 14,
   "metadata": {},
   "outputs": [
    {
     "name": "stdout",
     "output_type": "stream",
     "text": [
      "Train on 100000 samples, validate on 330 samples\n",
      "Epoch 1/1\n",
      "100000/100000 [==============================] - 2918s 29ms/step - loss: 2.3310 - acc: 0.6586 - val_loss: 1.9623 - val_acc: 0.7072\n",
      "Train on 100000 samples, validate on 330 samples\n",
      "Epoch 1/1\n",
      "100000/100000 [==============================] - 2844s 28ms/step - loss: 1.6895 - acc: 0.7494 - val_loss: 1.5008 - val_acc: 0.7752\n",
      "Train on 100000 samples, validate on 330 samples\n",
      "Epoch 1/1\n",
      "100000/100000 [==============================] - 2855s 29ms/step - loss: 1.3475 - acc: 0.7994 - val_loss: 1.2539 - val_acc: 0.8137\n",
      "Train on 100000 samples, validate on 330 samples\n",
      "Epoch 1/1\n",
      "100000/100000 [==============================] - 2877s 29ms/step - loss: 1.1615 - acc: 0.8279 - val_loss: 1.0960 - val_acc: 0.8387\n",
      "Train on 100000 samples, validate on 330 samples\n",
      "Epoch 1/1\n",
      "100000/100000 [==============================] - 2846s 28ms/step - loss: 1.0236 - acc: 0.8491 - val_loss: 0.9993 - val_acc: 0.8551\n",
      "Train on 100000 samples, validate on 330 samples\n",
      "Epoch 1/1\n",
      "100000/100000 [==============================] - 2903s 29ms/step - loss: 0.9316 - acc: 0.8634 - val_loss: 0.8856 - val_acc: 0.8722\n",
      "Train on 100000 samples, validate on 330 samples\n",
      "Epoch 1/1\n",
      "100000/100000 [==============================] - 2895s 29ms/step - loss: 0.8640 - acc: 0.8743 - val_loss: 0.9104 - val_acc: 0.8686\n",
      "Train on 100000 samples, validate on 330 samples\n",
      "Epoch 1/1\n",
      "100000/100000 [==============================] - 2918s 29ms/step - loss: 0.7857 - acc: 0.8868 - val_loss: 0.7721 - val_acc: 0.8906\n",
      "Train on 100000 samples, validate on 330 samples\n",
      "Epoch 1/1\n",
      "100000/100000 [==============================] - 2961s 30ms/step - loss: 0.7531 - acc: 0.8925 - val_loss: 0.6838 - val_acc: 0.9009\n",
      "Train on 100000 samples, validate on 330 samples\n",
      "Epoch 1/1\n",
      "100000/100000 [==============================] - 2930s 29ms/step - loss: 0.7077 - acc: 0.8996 - val_loss: 0.7229 - val_acc: 0.8998\n"
     ]
    }
   ],
   "source": [
    "#For loop to save semi-trained model to\n",
    "#view PCAs and Z distributions during training\n",
    "\n",
    "#training array info\n",
    "smile_max_length = 51\n",
    "import json\n",
    "f = open(\"../data/1mil_GDB17.json\",\"r\")\n",
    "char_to_index = json.loads(f.read())\n",
    "char_set = set(char_to_index.keys())\n",
    "char_list = list(char_to_index.keys())\n",
    "chars_in_dict = len(char_list)\n",
    "\n",
    "#training data\n",
    "df = pd.read_csv('../data/GDB17.1000000', names=['smiles'])\n",
    "data_size = 100000\n",
    "chemvae = MoleculeVAE()\n",
    "chemvae.create(char_set)\n",
    "\n",
    "for p in range(10):\n",
    "    values = df['smiles'][data_size*p:data_size*(p+1)]\n",
    "    padded_smiles =  [pad_smiles(i, smile_max_length) for i in values if pad_smiles(i, smile_max_length)]\n",
    "    X_train = np.zeros((data_size, smile_max_length, chars_in_dict), dtype=np.float32)\n",
    "\n",
    "    for i, smile in enumerate(padded_smiles):\n",
    "        for j, char in enumerate(smile):\n",
    "            X_train[i, j, char_to_index[char]] = 1\n",
    "    chemvae.autoencoder.fit(X_train, X_train, shuffle = False, validation_data=(X_test, X_test))\n",
    "    chemvae.save('1mil_GDB17_{}.h5'.format(p+1))\n",
    "    "
   ]
  },
  {
   "cell_type": "code",
   "execution_count": 5,
   "metadata": {},
   "outputs": [
    {
     "data": {
      "text/plain": [
       "<matplotlib.legend.Legend at 0x7feb3469f4e0>"
      ]
     },
     "execution_count": 5,
     "metadata": {},
     "output_type": "execute_result"
    },
    {
     "data": {
      "image/png": "[encoded data removed]",
      "text/plain": [
       "<matplotlib.figure.Figure at 0x7feb3473de80>"
      ]
     },
     "metadata": {},
     "output_type": "display_data"
    }
   ],
   "source": [
    "single_phase_1_history = {'acc': [0.6586, 0.7494, 0.7994, 0.8279, 0.8491, 0.8634, 0.8743, 0.8868, 0.8925, 0.8996],\n",
    "                   'val_acc': [0.7072, 0.7752, 0.8137, 0.8387, 0.8551, 0.8722, 0.8686, 0.8906, 0.9009, 0.8998]}\n",
    "plt.plot(single_phase_1_history['acc'], label='acc')\n",
    "plt.plot(single_phase_1_history['val_acc'], label='val_acc')\n",
    "plt.legend()"
   ]
  },
  {
   "cell_type": "code",
   "execution_count": 2,
   "metadata": {},
   "outputs": [
    {
     "name": "stdout",
     "output_type": "stream",
     "text": [
      "Train on 67000 samples, validate on 33000 samples\n",
      "Epoch 1/1\n",
      "67000/67000 [==============================] - 1141s 17ms/step - loss: 0.9446 - acc: 0.4552 - val_loss: 0.9276 - val_acc: 0.4405\n",
      "Train on 67000 samples, validate on 33000 samples\n",
      "Epoch 1/1\n",
      "67000/67000 [==============================] - 1170s 17ms/step - loss: 0.9437 - acc: 0.4598 - val_loss: 0.9228 - val_acc: 0.4548\n",
      "Train on 67000 samples, validate on 33000 samples\n",
      "Epoch 1/1\n",
      "67000/67000 [==============================] - 1139s 17ms/step - loss: 0.9631 - acc: 0.4697 - val_loss: 0.9276 - val_acc: 0.4523\n",
      "Train on 67000 samples, validate on 33000 samples\n",
      "Epoch 1/1\n",
      "67000/67000 [==============================] - 1137s 17ms/step - loss: 0.9380 - acc: 0.4566 - val_loss: 0.9278 - val_acc: 0.4384\n",
      "Train on 67000 samples, validate on 33000 samples\n",
      "Epoch 1/1\n",
      "67000/67000 [==============================] - 1138s 17ms/step - loss: 0.9400 - acc: 0.4664 - val_loss: 0.9234 - val_acc: 0.4500\n"
     ]
    }
   ],
   "source": [
    "#For loop to save semi-trained model to\n",
    "#view PCAs and Z distributions during training\n",
    "\n",
    "#training array info\n",
    "smile_max_length = 51\n",
    "import json\n",
    "f = open(\"../data/1mil_GDB17.json\",\"r\")\n",
    "char_to_index = json.loads(f.read())\n",
    "char_set = set(char_to_index.keys())\n",
    "char_list = list(char_to_index.keys())\n",
    "chars_in_dict = len(char_list)\n",
    "\n",
    "#training data\n",
    "chemvae = MoleculeVAE()\n",
    "char_set = set(char_to_index.keys())\n",
    "weights_file = '1mil_GDB17_500K_mix_5.h5'\n",
    "chemvae.load(char_set, weights_file)\n",
    "# df = pd.read_csv('../data/GDB17.1000000', names=['smiles'])\n",
    "data_size = 100000\n",
    "\n",
    "\n",
    "for p in range(0,5):\n",
    "#     values = df['smiles'][data_size*p:data_size*(p+1)]\n",
    "#     padded_smiles =  [pad_smiles(i, smile_max_length) for i in values if pad_smiles(i, smile_max_length)]\n",
    "    X_train = np.zeros((data_size, smile_max_length, chars_in_dict), dtype=np.float32)\n",
    "    \n",
    "    # for each i, randomly select whether to sample from GDB or cations (padded_smiles_2)\n",
    "#     for i, smile in enumerate(padded_smiles[:data_size]):\n",
    "    for i in range(data_size):\n",
    "#         linearly_scaled_prob = random.random() < 0.5#i/data_size\n",
    "#         if linearly_scaled_prob:\n",
    "#             smile = random.choice(cations)\n",
    "        smile = random.choice(cations)\n",
    "        for j, char in enumerate(smile):\n",
    "            X_train[i, j, char_to_index[char]] = 1\n",
    "\n",
    "    X_train, X_test = train_test_split(X_train, test_size=0.33, random_state=42)   \n",
    "    chemvae.autoencoder.fit(X_train, X_train, shuffle = False, validation_data=(X_test, X_test))\n",
    "    chemvae.save('1mil_GDB17_500K_mix_500K_cation_{}.h5'.format(p+1))\n",
    "    "
   ]
  },
  {
   "cell_type": "code",
   "execution_count": 6,
   "metadata": {},
   "outputs": [
    {
     "data": {
      "text/plain": [
       "<matplotlib.legend.Legend at 0x7feb2ee34f60>"
      ]
     },
     "execution_count": 6,
     "metadata": {},
     "output_type": "execute_result"
    },
    {
     "data": {
      "image/png": "[encoded data removed]",
      "text/plain": [
       "<matplotlib.figure.Figure at 0x7feb3e3a92b0>"
      ]
     },
     "metadata": {},
     "output_type": "display_data"
    }
   ],
   "source": [
    "single_phase_2_history = {'acc': [0.4552, 0.4598, 0.4697, 0.4566, 0.4664],\n",
    "                   'val_acc': [0.4405, 0.4548, 0.4523, 0.4384, 0.4500]}\n",
    "plt.plot(single_phase_2_history['acc'], label='acc')\n",
    "plt.plot(single_phase_2_history['val_acc'], label='val_acc')\n",
    "plt.legend()"
   ]
  }
 ],
 "metadata": {
  "kernelspec": {
   "display_name": "Python 3",
   "language": "python",
   "name": "python3"
  },
  "language_info": {
   "codemirror_mode": {
    "name": "ipython",
    "version": 3
   },
   "file_extension": ".py",
   "mimetype": "text/x-python",
   "name": "python",
   "nbconvert_exporter": "python",
   "pygments_lexer": "ipython3",
   "version": "3.6.7"
  }
 },
 "nbformat": 4,
 "nbformat_minor": 2
}
